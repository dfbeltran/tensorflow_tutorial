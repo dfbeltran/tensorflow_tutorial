{
  "nbformat": 4,
  "nbformat_minor": 0,
  "metadata": {
    "colab": {
      "name": "09_SkimLit_NLP_milestone_project_2.ipynb",
      "provenance": [],
      "collapsed_sections": []
    },
    "kernelspec": {
      "name": "python3",
      "display_name": "Python 3"
    },
    "language_info": {
      "name": "python"
    },
    "accelerator": "GPU"
  },
  "cells": [
    {
      "cell_type": "markdown",
      "metadata": {
        "id": "d3EWMp09aauJ"
      },
      "source": [
        "# Milestone Project 2: SkimLit 📄🔥\n",
        "\n",
        "The purpose of this notebook is to build an NLP model to make reading medical abstracts easier.\n",
        "\n",
        "The paper we're replicating (the source of the data set we'll be using is avaiable here https://arxiv.org/abs/1710.06071)\n",
        "\n",
        "And reading through the paper above, we see that the model architecture that they use to achieve their best results is available here: https://arxiv.org/abs/1612.05251"
      ]
    },
    {
      "cell_type": "markdown",
      "metadata": {
        "id": "yNjno2O9yaXP"
      },
      "source": [
        "## Confirm access to a GPU"
      ]
    },
    {
      "cell_type": "code",
      "metadata": {
        "colab": {
          "base_uri": "https://localhost:8080/"
        },
        "id": "Okg0-TEgyzEY",
        "outputId": "25dcb5bf-8cd9-44ec-ab52-6d1d1690aafe"
      },
      "source": [
        "!nvidia-smi -L"
      ],
      "execution_count": 144,
      "outputs": [
        {
          "output_type": "stream",
          "name": "stdout",
          "text": [
            "GPU 0: Tesla K80 (UUID: GPU-16d3f99b-4181-348a-cbed-4e971613df93)\n"
          ]
        }
      ]
    },
    {
      "cell_type": "markdown",
      "metadata": {
        "id": "8F6urrJkzfmQ"
      },
      "source": [
        "## Get data\n",
        "\n",
        "Since we'll be replicating the paper above (PubMed 200K RCT), let's download the dataset they used.\n",
        "\n",
        "We can do so from the authors GitHub. https://github.com/Franck-Dernoncourt/pubmed-rct"
      ]
    },
    {
      "cell_type": "code",
      "metadata": {
        "colab": {
          "base_uri": "https://localhost:8080/"
        },
        "id": "aYaqxphIz-Rv",
        "outputId": "75575759-6da4-473e-afda-5db181de66ee"
      },
      "source": [
        "!git clone https://github.com/Franck-Dernoncourt/pubmed-rct.git\n",
        "!ls pubmed-rct"
      ],
      "execution_count": 145,
      "outputs": [
        {
          "output_type": "stream",
          "name": "stdout",
          "text": [
            "fatal: destination path 'pubmed-rct' already exists and is not an empty directory.\n",
            "PubMed_200k_RCT\n",
            "PubMed_200k_RCT_numbers_replaced_with_at_sign\n",
            "PubMed_20k_RCT\n",
            "PubMed_20k_RCT_numbers_replaced_with_at_sign\n",
            "README.md\n"
          ]
        }
      ]
    },
    {
      "cell_type": "code",
      "metadata": {
        "colab": {
          "base_uri": "https://localhost:8080/"
        },
        "id": "N5SG7HWm0FzH",
        "outputId": "6ad7f447-e340-4571-d474-ea8f7fcd9d49"
      },
      "source": [
        "# Check wat files are in the PubMed_20K_dataset\n",
        "!ls pubmed-rct/PubMed_20k_RCT_numbers_replaced_with_at_sign/\n",
        "!ls pubmed-rct/PubMed_20k_RCT/"
      ],
      "execution_count": 146,
      "outputs": [
        {
          "output_type": "stream",
          "name": "stdout",
          "text": [
            "dev.txt  test.txt  train.txt\n",
            "dev.txt  test.txt  train.txt\n"
          ]
        }
      ]
    },
    {
      "cell_type": "code",
      "metadata": {
        "id": "_wY5iUv907eI"
      },
      "source": [
        "# Start our experiments using the 20K dataset with numbers replaced by \"@\" \n",
        "data_dir  = '/content/pubmed-rct/PubMed_20k_RCT_numbers_replaced_with_at_sign/'"
      ],
      "execution_count": 147,
      "outputs": []
    },
    {
      "cell_type": "code",
      "metadata": {
        "colab": {
          "base_uri": "https://localhost:8080/"
        },
        "id": "Z3ETAvlI2N6_",
        "outputId": "b5443f08-9eff-4d10-c28b-06fc54779f37"
      },
      "source": [
        "# Check all of the filenames in the target directory\n",
        "import os\n",
        "filenames = [data_dir + filename for filename in os.listdir(data_dir)]\n",
        "filenames"
      ],
      "execution_count": 148,
      "outputs": [
        {
          "output_type": "execute_result",
          "data": {
            "text/plain": [
              "['/content/pubmed-rct/PubMed_20k_RCT_numbers_replaced_with_at_sign/dev.txt',\n",
              " '/content/pubmed-rct/PubMed_20k_RCT_numbers_replaced_with_at_sign/train.txt',\n",
              " '/content/pubmed-rct/PubMed_20k_RCT_numbers_replaced_with_at_sign/test.txt']"
            ]
          },
          "metadata": {},
          "execution_count": 148
        }
      ]
    },
    {
      "cell_type": "markdown",
      "metadata": {
        "id": "VrcAD6H62Xev"
      },
      "source": [
        "## Preprocess data\n",
        "\n",
        "Now we've got some text data, it's time to become one with it.\n",
        "\n",
        "And one of the best ways to become one with the data is to...\n",
        "\n",
        "> Visualize, visualize, visualize\n",
        "\n",
        "So with that in mind let's write a function to read in all of the lines of a target text file."
      ]
    },
    {
      "cell_type": "code",
      "metadata": {
        "id": "W2twObcj3Dov"
      },
      "source": [
        "# Create a function to read the lines of a document\n",
        "\n",
        "def get_lines(filename):\n",
        "    '''\n",
        "    Reads filename (a text filename) and returns the lines of text as a list.\n",
        "\n",
        "    Args:\n",
        "        filename: a string contianing the target filepath\n",
        "\n",
        "    Returns:\n",
        "        A list of strings with one string per line from the target filename.\n",
        "    '''\n",
        "    with open(filename, 'r') as f:\n",
        "        return f.readlines()"
      ],
      "execution_count": 149,
      "outputs": []
    },
    {
      "cell_type": "code",
      "metadata": {
        "id": "tv_NWIUz3qhP"
      },
      "source": [
        "# Let's read in the training lines\n",
        "train_lines = get_lines(data_dir+'train.txt') # read the lines within the training file"
      ],
      "execution_count": 150,
      "outputs": []
    },
    {
      "cell_type": "markdown",
      "metadata": {
        "id": "7pmmmTu-4BBY"
      },
      "source": [
        "Let's think about how we wnat our data to look...\n",
        "\n",
        "How I think our data would be best represented... \n",
        "\n",
        "```\n",
        "[{'line_number': 0,\n",
        "    'target':  'BACKGROUND',\n",
        "    'text':  <TEXT>,\n",
        "    'total_lines': 11},\n",
        "    ...]\n",
        "```"
      ]
    },
    {
      "cell_type": "code",
      "metadata": {
        "id": "Iaku2vd1BHOv"
      },
      "source": [
        "def preprocess_text_with_line_numbers(filename):\n",
        "    '''\n",
        "    Returns a list of dictonaries of abstact line data.\n",
        "\n",
        "    Takes in filename, read it contents and sorts through each line,\n",
        "    extracting things like the target label, the text of senteces,\n",
        "    how many sentences are in the current abstract and what sentence number the target\n",
        "    is\n",
        "    '''\n",
        "    input_lines = get_lines(filename) #get all lines from filename\n",
        "    abstract_lines = '' #create an empty abstract\n",
        "    abstract_samples = [] # create an empty list of abstracts\n",
        "\n",
        "    # Loop through each line in the target file\n",
        "    for line in input_lines:\n",
        "        if line.startswith('###'): #check to see if the string is an ID line\n",
        "            abstract_id = line\n",
        "            abstract_lines = '' # reset the abstract string if the line is an ID line\n",
        "\n",
        "        elif line.isspace(): # check to se if line is a new line\n",
        "            abstract_line_split = abstract_lines.splitlines() # split abstract into separte lines\n",
        "\n",
        "            # iterate them through each line in a single abstract and count them at the same time\n",
        "            for abstract_line_number, abstract_line in enumerate(abstract_line_split):\n",
        "                line_data = {} # create emtpy dict for each line\n",
        "                target_text_split = abstract_line.split('\\t') #split target label from text\n",
        "                \n",
        "                line_data['target'] = target_text_split[0] # get target label\n",
        "                line_data['text'] = target_text_split[1].lower() # get target text and lower it\n",
        "                line_data['line_number'] = abstract_line_number #what number line does the line appear in our abstract\n",
        "                line_data['total_lines'] = len(abstract_line_split)-1 # How many total lines are in the target abstract (start from 0)\n",
        "                abstract_samples.append(line_data) # add line data to abstract samples list\n",
        "\n",
        "        else: # if the above conditions aren't fullfilled, the line contains a labelled sentece\n",
        "            abstract_lines += line\n",
        "    return abstract_samples"
      ],
      "execution_count": 151,
      "outputs": []
    },
    {
      "cell_type": "code",
      "metadata": {
        "colab": {
          "base_uri": "https://localhost:8080/"
        },
        "id": "7284S0VcBG7v",
        "outputId": "5471dbea-a21a-4b8d-d25b-90a3bbfec11b"
      },
      "source": [
        "# Get data from file and preprocess it\n",
        "%%time\n",
        "train_samples = preprocess_text_with_line_numbers(data_dir+'/train.txt')\n",
        "val_samples = preprocess_text_with_line_numbers(data_dir+'/dev.txt') #dev is another way to call it\n",
        "test_samples = preprocess_text_with_line_numbers(data_dir+'/test.txt') \n",
        "print(len(train_samples), len(val_samples), len(test_samples))"
      ],
      "execution_count": 152,
      "outputs": [
        {
          "output_type": "stream",
          "name": "stdout",
          "text": [
            "180040 30212 30135\n",
            "CPU times: user 609 ms, sys: 101 ms, total: 710 ms\n",
            "Wall time: 818 ms\n"
          ]
        }
      ]
    },
    {
      "cell_type": "code",
      "metadata": {
        "colab": {
          "base_uri": "https://localhost:8080/"
        },
        "id": "W25GWuYLHcsN",
        "outputId": "a7f0dcba-8e2f-4189-9a06-0c4494164add"
      },
      "source": [
        "# Check the first abstract of our training data\n",
        "train_samples[:14]"
      ],
      "execution_count": 153,
      "outputs": [
        {
          "output_type": "execute_result",
          "data": {
            "text/plain": [
              "[{'line_number': 0,\n",
              "  'target': 'OBJECTIVE',\n",
              "  'text': 'to investigate the efficacy of @ weeks of daily low-dose oral prednisolone in improving pain , mobility , and systemic low-grade inflammation in the short term and whether the effect would be sustained at @ weeks in older adults with moderate to severe knee osteoarthritis ( oa ) .',\n",
              "  'total_lines': 11},\n",
              " {'line_number': 1,\n",
              "  'target': 'METHODS',\n",
              "  'text': 'a total of @ patients with primary knee oa were randomized @:@ ; @ received @ mg/day of prednisolone and @ received placebo for @ weeks .',\n",
              "  'total_lines': 11},\n",
              " {'line_number': 2,\n",
              "  'target': 'METHODS',\n",
              "  'text': 'outcome measures included pain reduction and improvement in function scores and systemic inflammation markers .',\n",
              "  'total_lines': 11},\n",
              " {'line_number': 3,\n",
              "  'target': 'METHODS',\n",
              "  'text': 'pain was assessed using the visual analog pain scale ( @-@ mm ) .',\n",
              "  'total_lines': 11},\n",
              " {'line_number': 4,\n",
              "  'target': 'METHODS',\n",
              "  'text': 'secondary outcome measures included the western ontario and mcmaster universities osteoarthritis index scores , patient global assessment ( pga ) of the severity of knee oa , and @-min walk distance ( @mwd ) .',\n",
              "  'total_lines': 11},\n",
              " {'line_number': 5,\n",
              "  'target': 'METHODS',\n",
              "  'text': 'serum levels of interleukin @ ( il-@ ) , il-@ , tumor necrosis factor ( tnf ) - , and high-sensitivity c-reactive protein ( hscrp ) were measured .',\n",
              "  'total_lines': 11},\n",
              " {'line_number': 6,\n",
              "  'target': 'RESULTS',\n",
              "  'text': 'there was a clinically relevant reduction in the intervention group compared to the placebo group for knee pain , physical function , pga , and @mwd at @ weeks .',\n",
              "  'total_lines': 11},\n",
              " {'line_number': 7,\n",
              "  'target': 'RESULTS',\n",
              "  'text': 'the mean difference between treatment arms ( @ % ci ) was @ ( @-@ @ ) , p < @ ; @ ( @-@ @ ) , p < @ ; @ ( @-@ @ ) , p < @ ; and @ ( @-@ @ ) , p < @ , respectively .',\n",
              "  'total_lines': 11},\n",
              " {'line_number': 8,\n",
              "  'target': 'RESULTS',\n",
              "  'text': 'further , there was a clinically relevant reduction in the serum levels of il-@ , il-@ , tnf - , and hscrp at @ weeks in the intervention group when compared to the placebo group .',\n",
              "  'total_lines': 11},\n",
              " {'line_number': 9,\n",
              "  'target': 'RESULTS',\n",
              "  'text': 'these differences remained significant at @ weeks .',\n",
              "  'total_lines': 11},\n",
              " {'line_number': 10,\n",
              "  'target': 'RESULTS',\n",
              "  'text': 'the outcome measures in rheumatology clinical trials-osteoarthritis research society international responder rate was @ % in the intervention group and @ % in the placebo group ( p < @ ) .',\n",
              "  'total_lines': 11},\n",
              " {'line_number': 11,\n",
              "  'target': 'CONCLUSIONS',\n",
              "  'text': 'low-dose oral prednisolone had both a short-term and a longer sustained effect resulting in less knee pain , better physical function , and attenuation of systemic inflammation in older patients with knee oa ( clinicaltrials.gov identifier nct@ ) .',\n",
              "  'total_lines': 11},\n",
              " {'line_number': 0,\n",
              "  'target': 'BACKGROUND',\n",
              "  'text': 'emotional eating is associated with overeating and the development of obesity .',\n",
              "  'total_lines': 10},\n",
              " {'line_number': 1,\n",
              "  'target': 'BACKGROUND',\n",
              "  'text': 'yet , empirical evidence for individual ( trait ) differences in emotional eating and cognitive mechanisms that contribute to eating during sad mood remain equivocal .',\n",
              "  'total_lines': 10}]"
            ]
          },
          "metadata": {},
          "execution_count": 153
        }
      ]
    },
    {
      "cell_type": "markdown",
      "metadata": {
        "id": "zzuhPyxcViA_"
      },
      "source": [
        "Now that our data is the format of a list of dictonaries, how about we run it inot a DataFrame to further visualize it"
      ]
    },
    {
      "cell_type": "code",
      "metadata": {
        "colab": {
          "base_uri": "https://localhost:8080/",
          "height": 477
        },
        "id": "WGulDSadHnq2",
        "outputId": "ce882725-e9eb-4e5f-a856-013bb8ddbfc2"
      },
      "source": [
        "import pandas as pd\n",
        "\n",
        "train_df = pd.DataFrame(train_samples)\n",
        "val_df = pd.DataFrame(val_samples)\n",
        "test_df = pd.DataFrame(test_samples)\n",
        "\n",
        "train_df.head(14)"
      ],
      "execution_count": 154,
      "outputs": [
        {
          "output_type": "execute_result",
          "data": {
            "text/html": [
              "<div>\n",
              "<style scoped>\n",
              "    .dataframe tbody tr th:only-of-type {\n",
              "        vertical-align: middle;\n",
              "    }\n",
              "\n",
              "    .dataframe tbody tr th {\n",
              "        vertical-align: top;\n",
              "    }\n",
              "\n",
              "    .dataframe thead th {\n",
              "        text-align: right;\n",
              "    }\n",
              "</style>\n",
              "<table border=\"1\" class=\"dataframe\">\n",
              "  <thead>\n",
              "    <tr style=\"text-align: right;\">\n",
              "      <th></th>\n",
              "      <th>target</th>\n",
              "      <th>text</th>\n",
              "      <th>line_number</th>\n",
              "      <th>total_lines</th>\n",
              "    </tr>\n",
              "  </thead>\n",
              "  <tbody>\n",
              "    <tr>\n",
              "      <th>0</th>\n",
              "      <td>OBJECTIVE</td>\n",
              "      <td>to investigate the efficacy of @ weeks of dail...</td>\n",
              "      <td>0</td>\n",
              "      <td>11</td>\n",
              "    </tr>\n",
              "    <tr>\n",
              "      <th>1</th>\n",
              "      <td>METHODS</td>\n",
              "      <td>a total of @ patients with primary knee oa wer...</td>\n",
              "      <td>1</td>\n",
              "      <td>11</td>\n",
              "    </tr>\n",
              "    <tr>\n",
              "      <th>2</th>\n",
              "      <td>METHODS</td>\n",
              "      <td>outcome measures included pain reduction and i...</td>\n",
              "      <td>2</td>\n",
              "      <td>11</td>\n",
              "    </tr>\n",
              "    <tr>\n",
              "      <th>3</th>\n",
              "      <td>METHODS</td>\n",
              "      <td>pain was assessed using the visual analog pain...</td>\n",
              "      <td>3</td>\n",
              "      <td>11</td>\n",
              "    </tr>\n",
              "    <tr>\n",
              "      <th>4</th>\n",
              "      <td>METHODS</td>\n",
              "      <td>secondary outcome measures included the wester...</td>\n",
              "      <td>4</td>\n",
              "      <td>11</td>\n",
              "    </tr>\n",
              "    <tr>\n",
              "      <th>5</th>\n",
              "      <td>METHODS</td>\n",
              "      <td>serum levels of interleukin @ ( il-@ ) , il-@ ...</td>\n",
              "      <td>5</td>\n",
              "      <td>11</td>\n",
              "    </tr>\n",
              "    <tr>\n",
              "      <th>6</th>\n",
              "      <td>RESULTS</td>\n",
              "      <td>there was a clinically relevant reduction in t...</td>\n",
              "      <td>6</td>\n",
              "      <td>11</td>\n",
              "    </tr>\n",
              "    <tr>\n",
              "      <th>7</th>\n",
              "      <td>RESULTS</td>\n",
              "      <td>the mean difference between treatment arms ( @...</td>\n",
              "      <td>7</td>\n",
              "      <td>11</td>\n",
              "    </tr>\n",
              "    <tr>\n",
              "      <th>8</th>\n",
              "      <td>RESULTS</td>\n",
              "      <td>further , there was a clinically relevant redu...</td>\n",
              "      <td>8</td>\n",
              "      <td>11</td>\n",
              "    </tr>\n",
              "    <tr>\n",
              "      <th>9</th>\n",
              "      <td>RESULTS</td>\n",
              "      <td>these differences remained significant at @ we...</td>\n",
              "      <td>9</td>\n",
              "      <td>11</td>\n",
              "    </tr>\n",
              "    <tr>\n",
              "      <th>10</th>\n",
              "      <td>RESULTS</td>\n",
              "      <td>the outcome measures in rheumatology clinical ...</td>\n",
              "      <td>10</td>\n",
              "      <td>11</td>\n",
              "    </tr>\n",
              "    <tr>\n",
              "      <th>11</th>\n",
              "      <td>CONCLUSIONS</td>\n",
              "      <td>low-dose oral prednisolone had both a short-te...</td>\n",
              "      <td>11</td>\n",
              "      <td>11</td>\n",
              "    </tr>\n",
              "    <tr>\n",
              "      <th>12</th>\n",
              "      <td>BACKGROUND</td>\n",
              "      <td>emotional eating is associated with overeating...</td>\n",
              "      <td>0</td>\n",
              "      <td>10</td>\n",
              "    </tr>\n",
              "    <tr>\n",
              "      <th>13</th>\n",
              "      <td>BACKGROUND</td>\n",
              "      <td>yet , empirical evidence for individual ( trai...</td>\n",
              "      <td>1</td>\n",
              "      <td>10</td>\n",
              "    </tr>\n",
              "  </tbody>\n",
              "</table>\n",
              "</div>"
            ],
            "text/plain": [
              "         target  ... total_lines\n",
              "0     OBJECTIVE  ...          11\n",
              "1       METHODS  ...          11\n",
              "2       METHODS  ...          11\n",
              "3       METHODS  ...          11\n",
              "4       METHODS  ...          11\n",
              "5       METHODS  ...          11\n",
              "6       RESULTS  ...          11\n",
              "7       RESULTS  ...          11\n",
              "8       RESULTS  ...          11\n",
              "9       RESULTS  ...          11\n",
              "10      RESULTS  ...          11\n",
              "11  CONCLUSIONS  ...          11\n",
              "12   BACKGROUND  ...          10\n",
              "13   BACKGROUND  ...          10\n",
              "\n",
              "[14 rows x 4 columns]"
            ]
          },
          "metadata": {},
          "execution_count": 154
        }
      ]
    },
    {
      "cell_type": "code",
      "metadata": {
        "id": "A8fqa0dDVxle",
        "colab": {
          "base_uri": "https://localhost:8080/"
        },
        "outputId": "277a6373-3a19-4e22-be42-2ee8c453c5ca"
      },
      "source": [
        "# Distribution of labels in training data\n",
        "train_df.target.value_counts()"
      ],
      "execution_count": 155,
      "outputs": [
        {
          "output_type": "execute_result",
          "data": {
            "text/plain": [
              "METHODS        59353\n",
              "RESULTS        57953\n",
              "CONCLUSIONS    27168\n",
              "BACKGROUND     21727\n",
              "OBJECTIVE      13839\n",
              "Name: target, dtype: int64"
            ]
          },
          "metadata": {},
          "execution_count": 155
        }
      ]
    },
    {
      "cell_type": "code",
      "metadata": {
        "colab": {
          "base_uri": "https://localhost:8080/",
          "height": 283
        },
        "id": "vojGNiyLtxcp",
        "outputId": "c1fa85aa-1a66-413f-93ad-8d7e83e0dd9a"
      },
      "source": [
        "# Let's check the length of different lines\n",
        "train_df.total_lines.plot.hist()"
      ],
      "execution_count": 156,
      "outputs": [
        {
          "output_type": "execute_result",
          "data": {
            "text/plain": [
              "<matplotlib.axes._subplots.AxesSubplot at 0x7f82cec878d0>"
            ]
          },
          "metadata": {},
          "execution_count": 156
        },
        {
          "output_type": "display_data",
          "data": {
            "image/png": "[encoded data removed]",
            "text/plain": [
              "<Figure size 432x288 with 1 Axes>"
            ]
          },
          "metadata": {
            "needs_background": "light"
          }
        }
      ]
    },
    {
      "cell_type": "markdown",
      "metadata": {
        "id": "boGyb0NIuFhJ"
      },
      "source": [
        "### Get lists of sentences"
      ]
    },
    {
      "cell_type": "code",
      "metadata": {
        "colab": {
          "base_uri": "https://localhost:8080/"
        },
        "id": "QWw80dRguLpo",
        "outputId": "a009fb4c-f741-4d15-df75-b410d06c1e24"
      },
      "source": [
        "# Convert abstract text lines into lists\n",
        "\n",
        "train_sentences = train_df['text'].tolist()\n",
        "val_sentences = val_df['text'].tolist()\n",
        "test_sentences = test_df['text'].tolist()\n",
        "len(train_sentences), len(val_sentences), len(test_sentences)"
      ],
      "execution_count": 157,
      "outputs": [
        {
          "output_type": "execute_result",
          "data": {
            "text/plain": [
              "(180040, 30212, 30135)"
            ]
          },
          "metadata": {},
          "execution_count": 157
        }
      ]
    },
    {
      "cell_type": "code",
      "metadata": {
        "colab": {
          "base_uri": "https://localhost:8080/"
        },
        "id": "mE5ANAmiufAa",
        "outputId": "a5f950e2-1836-45b7-83f0-8a5af1539d57"
      },
      "source": [
        "# View the 10 lines of training sentences\n",
        "train_sentences[:10]"
      ],
      "execution_count": 158,
      "outputs": [
        {
          "output_type": "execute_result",
          "data": {
            "text/plain": [
              "['to investigate the efficacy of @ weeks of daily low-dose oral prednisolone in improving pain , mobility , and systemic low-grade inflammation in the short term and whether the effect would be sustained at @ weeks in older adults with moderate to severe knee osteoarthritis ( oa ) .',\n",
              " 'a total of @ patients with primary knee oa were randomized @:@ ; @ received @ mg/day of prednisolone and @ received placebo for @ weeks .',\n",
              " 'outcome measures included pain reduction and improvement in function scores and systemic inflammation markers .',\n",
              " 'pain was assessed using the visual analog pain scale ( @-@ mm ) .',\n",
              " 'secondary outcome measures included the western ontario and mcmaster universities osteoarthritis index scores , patient global assessment ( pga ) of the severity of knee oa , and @-min walk distance ( @mwd ) .',\n",
              " 'serum levels of interleukin @ ( il-@ ) , il-@ , tumor necrosis factor ( tnf ) - , and high-sensitivity c-reactive protein ( hscrp ) were measured .',\n",
              " 'there was a clinically relevant reduction in the intervention group compared to the placebo group for knee pain , physical function , pga , and @mwd at @ weeks .',\n",
              " 'the mean difference between treatment arms ( @ % ci ) was @ ( @-@ @ ) , p < @ ; @ ( @-@ @ ) , p < @ ; @ ( @-@ @ ) , p < @ ; and @ ( @-@ @ ) , p < @ , respectively .',\n",
              " 'further , there was a clinically relevant reduction in the serum levels of il-@ , il-@ , tnf - , and hscrp at @ weeks in the intervention group when compared to the placebo group .',\n",
              " 'these differences remained significant at @ weeks .']"
            ]
          },
          "metadata": {},
          "execution_count": 158
        }
      ]
    },
    {
      "cell_type": "markdown",
      "metadata": {
        "id": "pvoL-qeSukBf"
      },
      "source": [
        "### Make numeric labels (ML models requiere numeric labels)"
      ]
    },
    {
      "cell_type": "code",
      "metadata": {
        "colab": {
          "base_uri": "https://localhost:8080/"
        },
        "id": "8uMRwXRBxmTp",
        "outputId": "296b9b4a-675f-45e3-f668-75084a2ff6fa"
      },
      "source": [
        "# One hot encode labels\n",
        "from sklearn.preprocessing import OneHotEncoder\n",
        "one_hot_encoder = OneHotEncoder(sparse = False) # We want a non-sparse matrix\n",
        "train_labels_one_hot = one_hot_encoder.fit_transform(train_df['target'].to_numpy().reshape(-1,1))\n",
        "val_labels_one_hot = one_hot_encoder.transform((val_df['target']).to_numpy().reshape(-1, 1))\n",
        "test_labels_one_hot = one_hot_encoder.transform((test_df['target']).to_numpy().reshape(-1, 1))\n",
        "\n",
        "# Check what one got encoded labels look like\n",
        "train_labels_one_hot"
      ],
      "execution_count": 159,
      "outputs": [
        {
          "output_type": "execute_result",
          "data": {
            "text/plain": [
              "array([[0., 0., 0., 1., 0.],\n",
              "       [0., 0., 1., 0., 0.],\n",
              "       [0., 0., 1., 0., 0.],\n",
              "       ...,\n",
              "       [0., 0., 0., 0., 1.],\n",
              "       [0., 1., 0., 0., 0.],\n",
              "       [0., 1., 0., 0., 0.]])"
            ]
          },
          "metadata": {},
          "execution_count": 159
        }
      ]
    },
    {
      "cell_type": "markdown",
      "metadata": {
        "id": "mIwPnwLh07G3"
      },
      "source": [
        "### Label encode labels"
      ]
    },
    {
      "cell_type": "code",
      "metadata": {
        "colab": {
          "base_uri": "https://localhost:8080/"
        },
        "id": "9cY_wdaS1RcI",
        "outputId": "82bfc385-0642-458d-d8f5-e62ba640e6f7"
      },
      "source": [
        "# Extract labels ('target' columns) and encode them into integers\n",
        "from sklearn.preprocessing import LabelEncoder\n",
        "label_encoder = LabelEncoder()\n",
        "train_labels_encoded = label_encoder.fit_transform(train_df['target'].to_numpy())\n",
        "val_labels_encoded = label_encoder.transform(val_df['target'].to_numpy())\n",
        "test_labels_encoded = label_encoder.transform(test_df['target'].to_numpy())\n",
        "\n",
        "# Check what training labels look like\n",
        "train_labels_encoded"
      ],
      "execution_count": 160,
      "outputs": [
        {
          "output_type": "execute_result",
          "data": {
            "text/plain": [
              "array([3, 2, 2, ..., 4, 1, 1])"
            ]
          },
          "metadata": {},
          "execution_count": 160
        }
      ]
    },
    {
      "cell_type": "code",
      "metadata": {
        "colab": {
          "base_uri": "https://localhost:8080/"
        },
        "id": "hAhg9__812NA",
        "outputId": "f814987c-ec47-4d2a-954c-1e09472b2a5f"
      },
      "source": [
        "# Get class names and number of classes from LabelEncoder instance\n",
        "num_classes = len(label_encoder.classes_)\n",
        "class_names = label_encoder.classes_\n",
        "num_classes, class_names"
      ],
      "execution_count": 161,
      "outputs": [
        {
          "output_type": "execute_result",
          "data": {
            "text/plain": [
              "(5, array(['BACKGROUND', 'CONCLUSIONS', 'METHODS', 'OBJECTIVE', 'RESULTS'],\n",
              "       dtype=object))"
            ]
          },
          "metadata": {},
          "execution_count": 161
        }
      ]
    },
    {
      "cell_type": "markdown",
      "metadata": {
        "id": "-l3ky5FiPoRK"
      },
      "source": [
        "## Starting a series of modelling experiments...\n",
        "\n",
        "As usual we're going to be trying out a bunch of different models and seeing which one works best.\n",
        "\n",
        "And as always, we're going to start with a baseline (TF-IDF Multinomial Naive BAyes classifier)."
      ]
    },
    {
      "cell_type": "markdown",
      "metadata": {
        "id": "UM51sBa02HX5"
      },
      "source": [
        "## Model 0: Getting a baseline "
      ]
    },
    {
      "cell_type": "code",
      "metadata": {
        "colab": {
          "base_uri": "https://localhost:8080/"
        },
        "id": "fMmZe89LP4by",
        "outputId": "7a9ad93a-3ee9-485f-d7a0-97de858e8ac0"
      },
      "source": [
        "from sklearn.feature_extraction.text import TfidfVectorizer\n",
        "from sklearn.naive_bayes import MultinomialNB\n",
        "from sklearn.pipeline import Pipeline\n",
        "\n",
        "# Create a pipeline\n",
        "\n",
        "model_0 = Pipeline([\n",
        "                    ('tf-idf', TfidfVectorizer()),\n",
        "                    ('clf', MultinomialNB())\n",
        "])\n",
        "\n",
        "# Fit the pipeline to the training data\n",
        "\n",
        "model_0.fit(X = train_sentences,\n",
        "            y = train_labels_encoded)"
      ],
      "execution_count": 162,
      "outputs": [
        {
          "output_type": "execute_result",
          "data": {
            "text/plain": [
              "Pipeline(memory=None,\n",
              "         steps=[('tf-idf',\n",
              "                 TfidfVectorizer(analyzer='word', binary=False,\n",
              "                                 decode_error='strict',\n",
              "                                 dtype=<class 'numpy.float64'>,\n",
              "                                 encoding='utf-8', input='content',\n",
              "                                 lowercase=True, max_df=1.0, max_features=None,\n",
              "                                 min_df=1, ngram_range=(1, 1), norm='l2',\n",
              "                                 preprocessor=None, smooth_idf=True,\n",
              "                                 stop_words=None, strip_accents=None,\n",
              "                                 sublinear_tf=False,\n",
              "                                 token_pattern='(?u)\\\\b\\\\w\\\\w+\\\\b',\n",
              "                                 tokenizer=None, use_idf=True,\n",
              "                                 vocabulary=None)),\n",
              "                ('clf',\n",
              "                 MultinomialNB(alpha=1.0, class_prior=None, fit_prior=True))],\n",
              "         verbose=False)"
            ]
          },
          "metadata": {},
          "execution_count": 162
        }
      ]
    },
    {
      "cell_type": "code",
      "metadata": {
        "colab": {
          "base_uri": "https://localhost:8080/"
        },
        "id": "P1LRR_xEQO9C",
        "outputId": "b0d0ce69-5faf-4f52-b2b2-8e73af4385e0"
      },
      "source": [
        "# Evaluate baseline model on validation dataset\n",
        "model_0.score(X=val_sentences,\n",
        "              y = val_labels_encoded)"
      ],
      "execution_count": 163,
      "outputs": [
        {
          "output_type": "execute_result",
          "data": {
            "text/plain": [
              "0.7218323844829869"
            ]
          },
          "metadata": {},
          "execution_count": 163
        }
      ]
    },
    {
      "cell_type": "code",
      "metadata": {
        "colab": {
          "base_uri": "https://localhost:8080/"
        },
        "id": "YDDcg-pTRN4q",
        "outputId": "056e4ee0-6a58-440d-cd2d-13fafb3c3035"
      },
      "source": [
        "# Make predictions using our baseline model\n",
        "baseline_preds = model_0.predict(val_sentences)\n",
        "baseline_preds"
      ],
      "execution_count": 164,
      "outputs": [
        {
          "output_type": "execute_result",
          "data": {
            "text/plain": [
              "array([4, 1, 3, ..., 4, 4, 1])"
            ]
          },
          "metadata": {},
          "execution_count": 164
        }
      ]
    },
    {
      "cell_type": "markdown",
      "metadata": {
        "id": "TFmrsBnyRXey"
      },
      "source": [
        "### Download helper function script\n",
        "In the previous module we wrote a function to compare predictions across different metrics (accuracy, preicison, recall and f1) and rather than rewriting here, let's download it from  our helper functions git"
      ]
    },
    {
      "cell_type": "code",
      "metadata": {
        "colab": {
          "base_uri": "https://localhost:8080/"
        },
        "id": "BHIvU06tRvSq",
        "outputId": "c6bfa2f3-9a30-488c-a472-7ca06d3a5efc"
      },
      "source": [
        "!wget https://raw.githubusercontent.com/mrdbourke/tensorflow-deep-learning/main/extras/helper_functions.py"
      ],
      "execution_count": 165,
      "outputs": [
        {
          "output_type": "stream",
          "name": "stdout",
          "text": [
            "--2021-10-23 20:34:37--  https://raw.githubusercontent.com/mrdbourke/tensorflow-deep-learning/main/extras/helper_functions.py\n",
            "Resolving raw.githubusercontent.com (raw.githubusercontent.com)... 185.199.108.133, 185.199.109.133, 185.199.110.133, ...\n",
            "Connecting to raw.githubusercontent.com (raw.githubusercontent.com)|185.199.108.133|:443... connected.\n",
            "HTTP request sent, awaiting response... 200 OK\n",
            "Length: 10246 (10K) [text/plain]\n",
            "Saving to: ‘helper_functions.py.1’\n",
            "\n",
            "\rhelper_functions.py   0%[                    ]       0  --.-KB/s               \rhelper_functions.py 100%[===================>]  10.01K  --.-KB/s    in 0s      \n",
            "\n",
            "2021-10-23 20:34:37 (66.3 MB/s) - ‘helper_functions.py.1’ saved [10246/10246]\n",
            "\n"
          ]
        }
      ]
    },
    {
      "cell_type": "code",
      "metadata": {
        "id": "sl1fQ0FORxUC"
      },
      "source": [
        "from helper_functions import calculate_results"
      ],
      "execution_count": 166,
      "outputs": []
    },
    {
      "cell_type": "code",
      "metadata": {
        "colab": {
          "base_uri": "https://localhost:8080/"
        },
        "id": "PQokUoKTRbRS",
        "outputId": "8fc3d2d1-e8ea-4fcc-8580-59926a0e16e4"
      },
      "source": [
        "# Calculate baseline results\n",
        "baseline_results = calculate_results(y_true=val_labels_encoded,\n",
        "                                     y_pred = baseline_preds)\n",
        "baseline_results"
      ],
      "execution_count": 167,
      "outputs": [
        {
          "output_type": "execute_result",
          "data": {
            "text/plain": [
              "{'accuracy': 72.1832384482987,\n",
              " 'f1': 0.6989250353450294,\n",
              " 'precision': 0.7186466952323352,\n",
              " 'recall': 0.7218323844829869}"
            ]
          },
          "metadata": {},
          "execution_count": 167
        }
      ]
    },
    {
      "cell_type": "markdown",
      "metadata": {
        "id": "BnuTjaJ4Sdaa"
      },
      "source": [
        "## Preparing our data (the text) for deep sequence models\n",
        "\n",
        "Before we start bulding deeper models, we've got to create vectorization an embedding layers"
      ]
    },
    {
      "cell_type": "code",
      "metadata": {
        "id": "mwmE4mBnSmQh"
      },
      "source": [
        "import numpy as np\n",
        "import tensorflow as tf\n",
        "from tensorflow.keras import layers"
      ],
      "execution_count": 168,
      "outputs": []
    },
    {
      "cell_type": "code",
      "metadata": {
        "colab": {
          "base_uri": "https://localhost:8080/"
        },
        "id": "67jY_aCBTDBS",
        "outputId": "f788f85d-b562-4588-a9f9-20a74fe8b65d"
      },
      "source": [
        "# How long is each sentence on average?\n",
        "sent_lens = [len(sentence.split()) for sentence in train_sentences]\n",
        "avg_sent_len = np.mean(sent_lens)\n",
        "avg_sent_len"
      ],
      "execution_count": 169,
      "outputs": [
        {
          "output_type": "execute_result",
          "data": {
            "text/plain": [
              "26.338269273494777"
            ]
          },
          "metadata": {},
          "execution_count": 169
        }
      ]
    },
    {
      "cell_type": "code",
      "metadata": {
        "colab": {
          "base_uri": "https://localhost:8080/",
          "height": 264
        },
        "id": "Zqii3X4pZsoz",
        "outputId": "fe65e776-994c-4e0e-dcab-12b1b2f72c70"
      },
      "source": [
        "# What's the distribution look like?\n",
        "import matplotlib.pyplot as plt\n",
        "plt.hist(sent_lens, bins = 20);"
      ],
      "execution_count": 170,
      "outputs": [
        {
          "output_type": "display_data",
          "data": {
            "image/png": "[encoded data removed]",
            "text/plain": [
              "<Figure size 432x288 with 1 Axes>"
            ]
          },
          "metadata": {
            "needs_background": "light"
          }
        }
      ]
    },
    {
      "cell_type": "code",
      "metadata": {
        "colab": {
          "base_uri": "https://localhost:8080/"
        },
        "id": "6dCOl8XmSGaq",
        "outputId": "4f1da661-513c-4473-8a17-359b5866385e"
      },
      "source": [
        "# How long of a sentences lenght covers 95% of examples?\n",
        "output_seq_len = int(np.quantile(sent_lens, 0.95))\n",
        "output_seq_len"
      ],
      "execution_count": 171,
      "outputs": [
        {
          "output_type": "execute_result",
          "data": {
            "text/plain": [
              "55"
            ]
          },
          "metadata": {},
          "execution_count": 171
        }
      ]
    },
    {
      "cell_type": "code",
      "metadata": {
        "colab": {
          "base_uri": "https://localhost:8080/"
        },
        "id": "j5zQR4WmaFdy",
        "outputId": "a48a5e91-2419-4a52-c353-b165ae3149f0"
      },
      "source": [
        "# Maximum sequence length in the training set\n",
        "max(sent_lens)"
      ],
      "execution_count": 172,
      "outputs": [
        {
          "output_type": "execute_result",
          "data": {
            "text/plain": [
              "296"
            ]
          },
          "metadata": {},
          "execution_count": 172
        }
      ]
    },
    {
      "cell_type": "markdown",
      "metadata": {
        "id": "mCOu0lgZbUNy"
      },
      "source": [
        "### Create text vectorizer layer\n",
        "\n",
        "We want to make a layer which maps our text from words to number"
      ]
    },
    {
      "cell_type": "code",
      "metadata": {
        "id": "9hMM8Gx-ai06"
      },
      "source": [
        "# How many words are in our vocab? (taken from table 2 in paper)\n",
        "max_tokens = 68000\n",
        "\n",
        "# Create text vectorizer\n",
        "text_vectorizer =   layers.TextVectorization(max_tokens= max_tokens, # number of words in vocabulary\n",
        "                                            output_sequence_length = output_seq_len, # desired output lenght\n",
        "                                             )"
      ],
      "execution_count": 173,
      "outputs": []
    },
    {
      "cell_type": "code",
      "metadata": {
        "id": "4Sg2PoIndD-z"
      },
      "source": [
        "# Adapt text vectorizer to training sentences\n",
        "text_vectorizer.adapt(train_sentences)"
      ],
      "execution_count": 174,
      "outputs": []
    },
    {
      "cell_type": "code",
      "metadata": {
        "colab": {
          "base_uri": "https://localhost:8080/"
        },
        "id": "2bl5zGOKdzzC",
        "outputId": "1b182ebd-e4f1-4ca5-86ac-2eeb4a24ac99"
      },
      "source": [
        "# Test out text vectorizer on random sentences\n",
        "import random\n",
        "target_sentence = random.choice(train_sentences)\n",
        "print(f'Text:\\n {target_sentence}')\n",
        "print(f'\\nLength of text: {len(target_sentence.split())}')\n",
        "print(f'\\nVectorized text: {text_vectorizer([target_sentence])}')"
      ],
      "execution_count": 175,
      "outputs": [
        {
          "output_type": "stream",
          "name": "stdout",
          "text": [
            "Text:\n",
            " one - , @ - , and @-year recurrence-free survival rates in patients with small-diameter tumors ( @ cm ) were @ % , @ % , @ % in the adjuvant rt group and @ % , @ % , @ % in the control group ( p = @ , log-rank test ) .\n",
            "\n",
            "Length of text: 56\n",
            "\n",
            "Vectorized text: [[   88     3   157  5625   201   162     5    12     7 28475  1563   520\n",
            "      9     5     2  1071  1095    13     3     5     2    35    13    14\n",
            "   2344   128     0     0     0     0     0     0     0     0     0     0\n",
            "      0     0     0     0     0     0     0     0     0     0     0     0\n",
            "      0     0     0     0     0     0     0]]\n"
          ]
        }
      ]
    },
    {
      "cell_type": "code",
      "metadata": {
        "colab": {
          "base_uri": "https://localhost:8080/"
        },
        "id": "q-hLz7lteUAz",
        "outputId": "a0319873-f30b-401b-e272-e7abd601ed1b"
      },
      "source": [
        "# How many words in our training vocabulary\n",
        "rct_20k_text_vocab = text_vectorizer.get_vocabulary()\n",
        "print(f'Number of words in vocab: {len(rct_20k_text_vocab)}')\n",
        "print(f'Most common words in the vocab: {rct_20k_text_vocab[:5]}')\n",
        "print(f'Least common words in the vocab: {rct_20k_text_vocab[-5:]}')"
      ],
      "execution_count": 176,
      "outputs": [
        {
          "output_type": "stream",
          "name": "stdout",
          "text": [
            "Number of words in vocab: 64841\n",
            "Most common words in the vocab: ['', '[UNK]', 'the', 'and', 'of']\n",
            "Least common words in the vocab: ['aainduced', 'aaigroup', 'aachener', 'aachen', 'aaacp']\n"
          ]
        }
      ]
    },
    {
      "cell_type": "code",
      "metadata": {
        "colab": {
          "base_uri": "https://localhost:8080/"
        },
        "id": "oPv8lVWIfZjR",
        "outputId": "fc0705b0-f0ea-4a42-f4ab-15faa21be0ff"
      },
      "source": [
        "# Get the config of our text vectorizer\n",
        "text_vectorizer.get_config()"
      ],
      "execution_count": 177,
      "outputs": [
        {
          "output_type": "execute_result",
          "data": {
            "text/plain": [
              "{'batch_input_shape': (None,),\n",
              " 'dtype': 'string',\n",
              " 'max_tokens': 68000,\n",
              " 'name': 'text_vectorization_1',\n",
              " 'ngrams': None,\n",
              " 'output_mode': 'int',\n",
              " 'output_sequence_length': 55,\n",
              " 'pad_to_max_tokens': False,\n",
              " 'split': 'whitespace',\n",
              " 'standardize': 'lower_and_strip_punctuation',\n",
              " 'trainable': True}"
            ]
          },
          "metadata": {},
          "execution_count": 177
        }
      ]
    },
    {
      "cell_type": "markdown",
      "metadata": {
        "id": "G1Lf2H0cfqzz"
      },
      "source": [
        "### Create customtext embedding "
      ]
    },
    {
      "cell_type": "code",
      "metadata": {
        "id": "2VP455H5iVWb"
      },
      "source": [
        "# Create token emebedding\n",
        "token_embedding = layers.Embedding(input_dim=len(rct_20k_text_vocab),\n",
        "                                   output_dim = 128, # Note different embedding sizes results in drastically different numbers of params\n",
        "                                   mask_zero = False, # use masking to handle variables sequences lengths(save space)\n",
        "                                   name = 'token_embedding'\n",
        "                                   )"
      ],
      "execution_count": 178,
      "outputs": []
    },
    {
      "cell_type": "code",
      "metadata": {
        "colab": {
          "base_uri": "https://localhost:8080/"
        },
        "id": "Ch0U9IKAjyUc",
        "outputId": "100e2621-dbe7-4bd6-c22a-c706ee74a01d"
      },
      "source": [
        "# show example embedding\n",
        "print(f'Sentence before vectorization: \\n {target_sentence}\\n')\n",
        "vectorized_sentence = text_vectorizer([target_sentence])\n",
        "print(f'Sentence after vectorization: \\n {vectorized_sentence}\\n')\n",
        "embedded_sentence = token_embedding(vectorized_sentence)\n",
        "print(f'Sentence after embedding: \\n {embedded_sentence}\\n')\n",
        "print(f'Embedded sentence shape: \\n {embedded_sentence.shape}\\n')"
      ],
      "execution_count": 179,
      "outputs": [
        {
          "output_type": "stream",
          "name": "stdout",
          "text": [
            "Sentence before vectorization: \n",
            " one - , @ - , and @-year recurrence-free survival rates in patients with small-diameter tumors ( @ cm ) were @ % , @ % , @ % in the adjuvant rt group and @ % , @ % , @ % in the control group ( p = @ , log-rank test ) .\n",
            "\n",
            "Sentence after vectorization: \n",
            " [[   88     3   157  5625   201   162     5    12     7 28475  1563   520\n",
            "      9     5     2  1071  1095    13     3     5     2    35    13    14\n",
            "   2344   128     0     0     0     0     0     0     0     0     0     0\n",
            "      0     0     0     0     0     0     0     0     0     0     0     0\n",
            "      0     0     0     0     0     0     0]]\n",
            "\n",
            "Sentence after embedding: \n",
            " [[[-4.2713083e-02  2.9307868e-02 -4.5707680e-02 ...  9.8652467e-03\n",
            "    8.3799139e-03  3.9659441e-05]\n",
            "  [-7.2564930e-04  3.6608949e-03  9.3662143e-03 ... -1.1762906e-02\n",
            "    2.4684515e-02 -4.0074848e-02]\n",
            "  [ 3.0673239e-02 -3.9054655e-02  2.2826567e-03 ...  3.1403903e-02\n",
            "    1.9119803e-02 -1.5569996e-02]\n",
            "  ...\n",
            "  [ 2.1868460e-03  2.8887127e-02  1.3053704e-02 ... -6.3404329e-03\n",
            "    3.9294373e-02  1.6153488e-02]\n",
            "  [ 2.1868460e-03  2.8887127e-02  1.3053704e-02 ... -6.3404329e-03\n",
            "    3.9294373e-02  1.6153488e-02]\n",
            "  [ 2.1868460e-03  2.8887127e-02  1.3053704e-02 ... -6.3404329e-03\n",
            "    3.9294373e-02  1.6153488e-02]]]\n",
            "\n",
            "Embedded sentence shape: \n",
            " (1, 55, 128)\n",
            "\n"
          ]
        }
      ]
    },
    {
      "cell_type": "markdown",
      "metadata": {
        "id": "dAtY1oFylVwd"
      },
      "source": [
        "## Creating datasets (making sure our data loads as fast as possible)\n",
        "\n",
        "We're going to setup our data to run as fast as possible with the Tensorflow tf.data.API \n"
      ]
    },
    {
      "cell_type": "code",
      "metadata": {
        "colab": {
          "base_uri": "https://localhost:8080/"
        },
        "id": "eWLjJ2a6ltFd",
        "outputId": "bf82627d-a4ca-4eb9-8f52-364fb22e376a"
      },
      "source": [
        "# Turn our data into TensorFlow Datasets\n",
        "train_dataset = tf.data.Dataset.from_tensor_slices((train_sentences, train_labels_one_hot))\n",
        "valid_dataset = tf.data.Dataset.from_tensor_slices((val_sentences, val_labels_one_hot))\n",
        "test_dataset = tf.data.Dataset.from_tensor_slices((test_sentences, test_labels_one_hot))\n",
        "\n",
        "train_dataset"
      ],
      "execution_count": 180,
      "outputs": [
        {
          "output_type": "execute_result",
          "data": {
            "text/plain": [
              "<TensorSliceDataset shapes: ((), (5,)), types: (tf.string, tf.float64)>"
            ]
          },
          "metadata": {},
          "execution_count": 180
        }
      ]
    },
    {
      "cell_type": "code",
      "metadata": {
        "colab": {
          "base_uri": "https://localhost:8080/"
        },
        "id": "2Ddig3j7nDpU",
        "outputId": "1742e535-86ad-4368-bb58-d23becb353b9"
      },
      "source": [
        "# Take the TensorSliceDataset's and turn them into prefetched datasets\n",
        "train_dataset = train_dataset.batch(32).prefetch(tf.data.AUTOTUNE)\n",
        "valid_dataset = valid_dataset.batch(32).prefetch(tf.data.AUTOTUNE)\n",
        "test_dataset = test_dataset.batch(32).prefetch(tf.data.AUTOTUNE)\n",
        "\n",
        "train_dataset"
      ],
      "execution_count": 181,
      "outputs": [
        {
          "output_type": "execute_result",
          "data": {
            "text/plain": [
              "<PrefetchDataset shapes: ((None,), (None, 5)), types: (tf.string, tf.float64)>"
            ]
          },
          "metadata": {},
          "execution_count": 181
        }
      ]
    },
    {
      "cell_type": "markdown",
      "metadata": {
        "id": "jqf7jMpGked2"
      },
      "source": [
        "## Model 1: Conv1d with token embeddings"
      ]
    },
    {
      "cell_type": "code",
      "metadata": {
        "colab": {
          "base_uri": "https://localhost:8080/"
        },
        "id": "ExrXmiFvoVUU",
        "outputId": "a8dd64bb-9b38-467e-fc5a-a222c644b4d5"
      },
      "source": [
        "# Create 1D conv model to process sequences\n",
        "inputs = layers.Input(shape=(1,), dtype=tf.string)\n",
        "text_vectors = text_vectorizer(inputs) # Vectorize text inputs\n",
        "token_embed = token_embedding(text_vectors) # create embedding\n",
        "x = layers.Conv1D(64, kernel_size=5, padding='same', activation='relu')(token_embed)\n",
        "x = layers.GlobalAveragePooling1D()(x) # condense the output of our feature vector from conv layer\n",
        "outputs = layers.Dense(num_classes, activation='softmax')(x)\n",
        "model_1 = tf.keras.Model(inputs, outputs)\n",
        "\n",
        "# Compile\n",
        "model_1.compile(loss = 'categorical_crossentropy',\n",
        "                optimizer = tf.keras.optimizers.Adam(),\n",
        "                metrics = ['accuracy'])\n",
        "\n",
        "model_1.summary()"
      ],
      "execution_count": 182,
      "outputs": [
        {
          "output_type": "stream",
          "name": "stdout",
          "text": [
            "Model: \"model_21\"\n",
            "_________________________________________________________________\n",
            "Layer (type)                 Output Shape              Param #   \n",
            "=================================================================\n",
            "input_4 (InputLayer)         [(None, 1)]               0         \n",
            "_________________________________________________________________\n",
            "text_vectorization_1 (TextVe (None, 55)                0         \n",
            "_________________________________________________________________\n",
            "token_embedding (Embedding)  (None, 55, 128)           8299648   \n",
            "_________________________________________________________________\n",
            "conv1d_3 (Conv1D)            (None, 55, 64)            41024     \n",
            "_________________________________________________________________\n",
            "global_average_pooling1d_2 ( (None, 64)                0         \n",
            "_________________________________________________________________\n",
            "dense_19 (Dense)             (None, 5)                 325       \n",
            "=================================================================\n",
            "Total params: 8,340,997\n",
            "Trainable params: 8,340,997\n",
            "Non-trainable params: 0\n",
            "_________________________________________________________________\n"
          ]
        }
      ]
    },
    {
      "cell_type": "code",
      "metadata": {
        "colab": {
          "base_uri": "https://localhost:8080/"
        },
        "id": "VHmi5hAAp4km",
        "outputId": "18215553-5c23-4167-83f8-88c7e0cc31c8"
      },
      "source": [
        "# Fit the model\n",
        "history_model_1  = model_1.fit(train_dataset,\n",
        "                               epochs = 3,\n",
        "                               steps_per_epoch = int(0.1*len(train_dataset)),\n",
        "                               validation_data = valid_dataset,\n",
        "                               validation_steps = int(0.1*len(valid_dataset)) # only validate on 10% of batches\n",
        "                               )"
      ],
      "execution_count": 183,
      "outputs": [
        {
          "output_type": "stream",
          "name": "stdout",
          "text": [
            "Epoch 1/3\n",
            "562/562 [==============================] - 9s 14ms/step - loss: 0.9220 - accuracy: 0.6349 - val_loss: 0.6880 - val_accuracy: 0.7397\n",
            "Epoch 2/3\n",
            "562/562 [==============================] - 8s 13ms/step - loss: 0.6602 - accuracy: 0.7549 - val_loss: 0.6334 - val_accuracy: 0.7683\n",
            "Epoch 3/3\n",
            "562/562 [==============================] - 8s 13ms/step - loss: 0.6172 - accuracy: 0.7759 - val_loss: 0.5958 - val_accuracy: 0.7866\n"
          ]
        }
      ]
    },
    {
      "cell_type": "code",
      "metadata": {
        "colab": {
          "base_uri": "https://localhost:8080/"
        },
        "id": "1itDOLW2q49f",
        "outputId": "dc02d0ec-2f5d-4207-e634-0ff7aca5f69f"
      },
      "source": [
        "# Evaluate on whole validation dataset\n",
        "model_1.evaluate(valid_dataset)"
      ],
      "execution_count": 184,
      "outputs": [
        {
          "output_type": "stream",
          "name": "stdout",
          "text": [
            "945/945 [==============================] - 4s 5ms/step - loss: 0.5982 - accuracy: 0.7877\n"
          ]
        },
        {
          "output_type": "execute_result",
          "data": {
            "text/plain": [
              "[0.5982362627983093, 0.7877002358436584]"
            ]
          },
          "metadata": {},
          "execution_count": 184
        }
      ]
    },
    {
      "cell_type": "code",
      "metadata": {
        "colab": {
          "base_uri": "https://localhost:8080/"
        },
        "id": "lmSzEiy3r2bu",
        "outputId": "a2fe4258-3015-45e9-f4ca-8e1a22b6ef0d"
      },
      "source": [
        "# Make predictions (our model predicts prediction probabilities for each class)\n",
        "model_1_pred_probs = model_1.predict(valid_dataset)\n",
        "model_1_pred_probs, model_1_pred_probs.shape"
      ],
      "execution_count": 185,
      "outputs": [
        {
          "output_type": "execute_result",
          "data": {
            "text/plain": [
              "(array([[4.3709251e-01, 1.7100148e-01, 7.7980831e-02, 2.8020591e-01,\n",
              "         3.3719238e-02],\n",
              "        [4.3928388e-01, 2.8171751e-01, 1.1083541e-02, 2.6015538e-01,\n",
              "         7.7596791e-03],\n",
              "        [1.4356667e-01, 9.7654611e-03, 1.5928030e-03, 8.4504163e-01,\n",
              "         3.3410262e-05],\n",
              "        ...,\n",
              "        [2.7913748e-06, 5.7781761e-04, 5.0699658e-04, 1.6086499e-06,\n",
              "         9.9891078e-01],\n",
              "        [7.7228948e-02, 4.9180070e-01, 1.0489479e-01, 8.4187187e-02,\n",
              "         2.4188839e-01],\n",
              "        [1.5922531e-01, 6.4851558e-01, 4.6517212e-02, 6.0235281e-02,\n",
              "         8.5506633e-02]], dtype=float32), (30212, 5))"
            ]
          },
          "metadata": {},
          "execution_count": 185
        }
      ]
    },
    {
      "cell_type": "code",
      "metadata": {
        "colab": {
          "base_uri": "https://localhost:8080/"
        },
        "id": "Y8S3wyEQsAMV",
        "outputId": "38aeb87c-7f54-4688-ad46-6e721cadb590"
      },
      "source": [
        "# convert pred probs to classes\n",
        "model_1_preds = tf.argmax(model_1_pred_probs, axis = 1)\n",
        "model_1_preds"
      ],
      "execution_count": 186,
      "outputs": [
        {
          "output_type": "execute_result",
          "data": {
            "text/plain": [
              "<tf.Tensor: shape=(30212,), dtype=int64, numpy=array([0, 0, 3, ..., 4, 1, 1])>"
            ]
          },
          "metadata": {},
          "execution_count": 186
        }
      ]
    },
    {
      "cell_type": "code",
      "metadata": {
        "colab": {
          "base_uri": "https://localhost:8080/"
        },
        "id": "XMjSKn93sNOc",
        "outputId": "f5609790-4e4d-4d3e-d9cc-f561a94944a1"
      },
      "source": [
        "# Calculate model_1 results\n",
        "model_1_results = calculate_results(y_true=val_labels_encoded,\n",
        "                                    y_pred=model_1_preds)\n",
        "model_1_results"
      ],
      "execution_count": 187,
      "outputs": [
        {
          "output_type": "execute_result",
          "data": {
            "text/plain": [
              "{'accuracy': 78.77002515556732,\n",
              " 'f1': 0.7856109987124553,\n",
              " 'precision': 0.7847136781920611,\n",
              " 'recall': 0.7877002515556732}"
            ]
          },
          "metadata": {},
          "execution_count": 187
        }
      ]
    },
    {
      "cell_type": "code",
      "metadata": {
        "colab": {
          "base_uri": "https://localhost:8080/"
        },
        "id": "ToOSE4N-shP1",
        "outputId": "f11a91b6-ab6a-44d8-acf3-2f4642ad2ae8"
      },
      "source": [
        "baseline_results"
      ],
      "execution_count": 188,
      "outputs": [
        {
          "output_type": "execute_result",
          "data": {
            "text/plain": [
              "{'accuracy': 72.1832384482987,\n",
              " 'f1': 0.6989250353450294,\n",
              " 'precision': 0.7186466952323352,\n",
              " 'recall': 0.7218323844829869}"
            ]
          },
          "metadata": {},
          "execution_count": 188
        }
      ]
    },
    {
      "cell_type": "markdown",
      "metadata": {
        "id": "sbQLLcE9tu2W"
      },
      "source": [
        "## Model 2 : Feature extraction with pretrained token embeddings\n",
        "\n",
        "Now let's use pretrained word embeddings from TensorFlow Hub more specifically from Universal sentence encoder \n",
        "\n",
        "The paper originally used GloVe embeddings, however we're going to stick with the later created USE word embedding."
      ]
    },
    {
      "cell_type": "code",
      "metadata": {
        "id": "qW-Vy6NktMNV"
      },
      "source": [
        "# Download pretrained Tensorflow Hub USE\n",
        "import tensorflow_hub as hub\n",
        "\n",
        "tf_hub_embedding_layer = hub.KerasLayer(\"https://tfhub.dev/google/universal-sentence-encoder/4\",\n",
        "                                        trainable=False,\n",
        "                                        name = 'universal_sentence_encoder')"
      ],
      "execution_count": 189,
      "outputs": []
    },
    {
      "cell_type": "code",
      "metadata": {
        "colab": {
          "base_uri": "https://localhost:8080/"
        },
        "id": "aRJ2gfuusmLV",
        "outputId": "11d02292-2052-48db-8df6-4bdd47f542f2"
      },
      "source": [
        "# Test out pretrained embedding on a random sentence\n",
        "random_train_sentence = random.choice(train_sentences)\n",
        "print(f'Random sentences:\\n {random_train_sentence}')\n",
        "use_embedded_sentence = tf_hub_embedding_layer([random_train_sentence])\n",
        "print(f'Sentence after embedding: \\n{use_embedded_sentence[0][:13]}\\n')\n",
        "print(f'Length of sentence embedding: \\n{len(use_embedded_sentence[0])}\\n')"
      ],
      "execution_count": 190,
      "outputs": [
        {
          "output_type": "stream",
          "name": "stdout",
          "text": [
            "Random sentences:\n",
            " physical inactivity and a poor diet predict lifestyle diseases such as diabetes , cardiovascular disease , and certain types of cancer .\n",
            "Sentence after embedding: \n",
            "[-0.0035939  -0.07388819  0.03568345  0.00637029 -0.00691944 -0.08111174\n",
            " -0.00930521 -0.04855522 -0.00727471  0.0151181   0.08283895 -0.06399973\n",
            " -0.01266567]\n",
            "\n",
            "Length of sentence embedding: \n",
            "512\n",
            "\n"
          ]
        }
      ]
    },
    {
      "cell_type": "markdown",
      "metadata": {
        "id": "rR7NGqa7vlFV"
      },
      "source": [
        "### Building and fitting an NLP feature extraction model using pretrained embeddings Tensorflow Hub"
      ]
    },
    {
      "cell_type": "code",
      "metadata": {
        "colab": {
          "base_uri": "https://localhost:8080/"
        },
        "id": "4-Fin6_wi1Rn",
        "outputId": "b14c1df6-70f4-4572-910c-945004a121f8"
      },
      "source": [
        "# Define feature extraction model using TF Hub layer\n",
        "\n",
        "inputs = layers.Input(shape=[], dtype=tf.string)\n",
        "pretrained_embedding = tf_hub_embedding_layer(inputs) # tokenize text and create embedding of each sequence (512 long vector)\n",
        "x = layers.Dense(128, activation='relu')(pretrained_embedding)\n",
        "# Note: you could add more layers here if you wanted to\n",
        "outputs = layers.Dense(num_classes, activation='softmax')(x) # create the output layer\n",
        "model_2 = tf.keras.Model(inputs=inputs,\n",
        "                         outputs=outputs,\n",
        "                         name='model_2_USE_feature_extractor')\n",
        "\n",
        "# Compile the model\n",
        "model_2.compile(loss='categorical_crossentropy',\n",
        "                optimizer = tf.keras.optimizers.Adam(),\n",
        "                metrics = ['accuracy'])\n",
        "\n",
        "# Summary\n",
        "model_2.summary()"
      ],
      "execution_count": 191,
      "outputs": [
        {
          "output_type": "stream",
          "name": "stdout",
          "text": [
            "Model: \"model_2_USE_feature_extractor\"\n",
            "_________________________________________________________________\n",
            "Layer (type)                 Output Shape              Param #   \n",
            "=================================================================\n",
            "input_5 (InputLayer)         [(None,)]                 0         \n",
            "_________________________________________________________________\n",
            "universal_sentence_encoder ( (None, 512)               256797824 \n",
            "_________________________________________________________________\n",
            "dense_20 (Dense)             (None, 128)               65664     \n",
            "_________________________________________________________________\n",
            "dense_21 (Dense)             (None, 5)                 645       \n",
            "=================================================================\n",
            "Total params: 256,864,133\n",
            "Trainable params: 66,309\n",
            "Non-trainable params: 256,797,824\n",
            "_________________________________________________________________\n"
          ]
        }
      ]
    },
    {
      "cell_type": "code",
      "metadata": {
        "colab": {
          "base_uri": "https://localhost:8080/"
        },
        "id": "0pmkfxGQjzHA",
        "outputId": "4e068686-c47b-4d32-dfce-16207dcde25f"
      },
      "source": [
        "# Fit model_2 to the data\n",
        "history_model_2 = model_2.fit(train_dataset, \n",
        "                              epochs = 3,\n",
        "                              steps_per_epoch=int(0.1 * len(train_dataset)),\n",
        "                              validation_data = valid_dataset,\n",
        "                              validation_steps = int(0.1*len(valid_dataset)))"
      ],
      "execution_count": 192,
      "outputs": [
        {
          "output_type": "stream",
          "name": "stdout",
          "text": [
            "Epoch 1/3\n",
            "562/562 [==============================] - 14s 20ms/step - loss: 0.9196 - accuracy: 0.6480 - val_loss: 0.7997 - val_accuracy: 0.6895\n",
            "Epoch 2/3\n",
            "562/562 [==============================] - 11s 19ms/step - loss: 0.7697 - accuracy: 0.7022 - val_loss: 0.7558 - val_accuracy: 0.7055\n",
            "Epoch 3/3\n",
            "562/562 [==============================] - 11s 19ms/step - loss: 0.7518 - accuracy: 0.7123 - val_loss: 0.7378 - val_accuracy: 0.7148\n"
          ]
        }
      ]
    },
    {
      "cell_type": "code",
      "metadata": {
        "colab": {
          "base_uri": "https://localhost:8080/"
        },
        "id": "cW3WqTqZkeNm",
        "outputId": "eb55451e-15ca-4f98-bdd0-931158eda318"
      },
      "source": [
        "# Evaluate on the whole validation dataset\n",
        "model_2.evaluate(valid_dataset)"
      ],
      "execution_count": 193,
      "outputs": [
        {
          "output_type": "stream",
          "name": "stdout",
          "text": [
            "945/945 [==============================] - 15s 16ms/step - loss: 0.7395 - accuracy: 0.7149\n"
          ]
        },
        {
          "output_type": "execute_result",
          "data": {
            "text/plain": [
              "[0.7395291924476624, 0.7149146199226379]"
            ]
          },
          "metadata": {},
          "execution_count": 193
        }
      ]
    },
    {
      "cell_type": "code",
      "metadata": {
        "colab": {
          "base_uri": "https://localhost:8080/"
        },
        "id": "F3c_56Zjkk0H",
        "outputId": "dfb16090-f745-4c7e-c02e-a9ff6551b147"
      },
      "source": [
        "# Make predictions with feature extraction model\n",
        "model_2_pred_probs = model_2.predict(valid_dataset)\n",
        "model_2_pred_probs"
      ],
      "execution_count": 194,
      "outputs": [
        {
          "output_type": "execute_result",
          "data": {
            "text/plain": [
              "array([[4.1664100e-01, 4.0561980e-01, 2.7257951e-03, 1.6714483e-01,\n",
              "        7.8686010e-03],\n",
              "       [3.1754318e-01, 5.3422856e-01, 4.5676515e-03, 1.4116560e-01,\n",
              "        2.4950495e-03],\n",
              "       [2.3996533e-01, 1.4936157e-01, 1.7799022e-02, 5.5503190e-01,\n",
              "        3.7842214e-02],\n",
              "       ...,\n",
              "       [1.9770295e-03, 5.3613079e-03, 5.3474389e-02, 9.3354867e-04,\n",
              "        9.3825376e-01],\n",
              "       [5.3592371e-03, 4.9265854e-02, 2.0580688e-01, 2.1237584e-03,\n",
              "        7.3744428e-01],\n",
              "       [1.7568184e-01, 2.7834713e-01, 4.9205405e-01, 6.4923698e-03,\n",
              "        4.7424689e-02]], dtype=float32)"
            ]
          },
          "metadata": {},
          "execution_count": 194
        }
      ]
    },
    {
      "cell_type": "code",
      "metadata": {
        "colab": {
          "base_uri": "https://localhost:8080/"
        },
        "id": "Yc48DGpVkug3",
        "outputId": "5590ddc3-9a32-4a6a-bc37-b9ae766f49ef"
      },
      "source": [
        "# Convert the predictions probs with feature extraction model to label\n",
        "model_2_preds = tf.argmax(model_2_pred_probs, axis=1)\n",
        "model_2_preds"
      ],
      "execution_count": 195,
      "outputs": [
        {
          "output_type": "execute_result",
          "data": {
            "text/plain": [
              "<tf.Tensor: shape=(30212,), dtype=int64, numpy=array([0, 1, 3, ..., 4, 4, 2])>"
            ]
          },
          "metadata": {},
          "execution_count": 195
        }
      ]
    },
    {
      "cell_type": "code",
      "metadata": {
        "colab": {
          "base_uri": "https://localhost:8080/"
        },
        "id": "jKMRWe0Ok4VW",
        "outputId": "14659e7b-aa7f-40c7-87d4-a855415c1966"
      },
      "source": [
        "# Calculate results from TF Hub pretrained embeddings on val set\n",
        "model_2_results = calculate_results(y_true=val_labels_encoded,\n",
        "                                    y_pred= model_2_preds)\n",
        "model_2_results"
      ],
      "execution_count": 196,
      "outputs": [
        {
          "output_type": "execute_result",
          "data": {
            "text/plain": [
              "{'accuracy': 71.49146034688204,\n",
              " 'f1': 0.7119899168669048,\n",
              " 'precision': 0.715180496683668,\n",
              " 'recall': 0.7149146034688203}"
            ]
          },
          "metadata": {},
          "execution_count": 196
        }
      ]
    },
    {
      "cell_type": "markdown",
      "metadata": {
        "id": "cGIXn2JylJcm"
      },
      "source": [
        "## Model 3: Conv1D with character embeddings\n",
        "\n",
        "The paper which we're replicating states they used a combination of token and character-level embeddings.\n",
        "\n",
        "Previously we've token-level embeddings but we'll need to do similar steps for characters if we want to use char-level embeddings."
      ]
    },
    {
      "cell_type": "markdown",
      "metadata": {
        "id": "3r-HXJCEl-Zn"
      },
      "source": [
        "## Creating a character-level tokenizer"
      ]
    },
    {
      "cell_type": "code",
      "metadata": {
        "colab": {
          "base_uri": "https://localhost:8080/",
          "height": 51
        },
        "id": "fEaQr6gYmjTn",
        "outputId": "d2f18380-b2b7-47da-a324-516594b463d5"
      },
      "source": [
        "# Make function to split sentences into characters\n",
        "\n",
        "def split_chars(text):\n",
        "    return ' '.join(list(text))\n",
        "\n",
        "# Text splitting non-character level sequence into characters\n",
        "split_chars(random_train_sentence)"
      ],
      "execution_count": 197,
      "outputs": [
        {
          "output_type": "execute_result",
          "data": {
            "application/vnd.google.colaboratory.intrinsic+json": {
              "type": "string"
            },
            "text/plain": [
              "'p h y s i c a l   i n a c t i v i t y   a n d   a   p o o r   d i e t   p r e d i c t   l i f e s t y l e   d i s e a s e s   s u c h   a s   d i a b e t e s   ,   c a r d i o v a s c u l a r   d i s e a s e   ,   a n d   c e r t a i n   t y p e s   o f   c a n c e r   .'"
            ]
          },
          "metadata": {},
          "execution_count": 197
        }
      ]
    },
    {
      "cell_type": "code",
      "metadata": {
        "id": "BkNtHIXGmx6u"
      },
      "source": [
        "# Split sequence-level data splits into character-level data splits\n",
        "train_chars = [split_chars(sentence) for sentence in train_sentences]\n",
        "val_chars = [split_chars(sentence) for sentence in val_sentences]\n",
        "test_chars = [split_chars(sentence) for sentence in test_sentences]"
      ],
      "execution_count": 198,
      "outputs": []
    },
    {
      "cell_type": "code",
      "metadata": {
        "colab": {
          "base_uri": "https://localhost:8080/"
        },
        "id": "YBL8zdivnTXn",
        "outputId": "27a794f4-38a6-4db0-dfd7-6d7b34ff6602"
      },
      "source": [
        "# What's the average character length?\n",
        "char_lens = [len(sentence) for sentence in train_sentences]\n",
        "mean_char_len = np.mean(char_lens)\n",
        "mean_char_len"
      ],
      "execution_count": 199,
      "outputs": [
        {
          "output_type": "execute_result",
          "data": {
            "text/plain": [
              "149.3662574983337"
            ]
          },
          "metadata": {},
          "execution_count": 199
        }
      ]
    },
    {
      "cell_type": "code",
      "metadata": {
        "colab": {
          "base_uri": "https://localhost:8080/",
          "height": 264
        },
        "id": "FFyiLfATnlBn",
        "outputId": "5ec2949d-f713-42d4-f3cd-1cb1ed09439b"
      },
      "source": [
        "# Check the distribution of our sequences at a character-level\n",
        "import matplotlib.pyplot as plt\n",
        "plt.hist(char_lens, bins=20);"
      ],
      "execution_count": 200,
      "outputs": [
        {
          "output_type": "display_data",
          "data": {
            "image/png": "[encoded data removed]",
            "text/plain": [
              "<Figure size 432x288 with 1 Axes>"
            ]
          },
          "metadata": {
            "needs_background": "light"
          }
        }
      ]
    },
    {
      "cell_type": "code",
      "metadata": {
        "colab": {
          "base_uri": "https://localhost:8080/"
        },
        "id": "sk-yDwpVn3G_",
        "outputId": "2115864d-849e-4b4c-efe1-f906ecf0796a"
      },
      "source": [
        "# Find what characte length covers 95% of sequences\n",
        "output_seq_char_len = int(np.percentile(char_lens, 95))\n",
        "output_seq_char_len"
      ],
      "execution_count": 201,
      "outputs": [
        {
          "output_type": "execute_result",
          "data": {
            "text/plain": [
              "290"
            ]
          },
          "metadata": {},
          "execution_count": 201
        }
      ]
    },
    {
      "cell_type": "code",
      "metadata": {
        "colab": {
          "base_uri": "https://localhost:8080/",
          "height": 34
        },
        "id": "xCefoA-MoP9n",
        "outputId": "d632b665-0dc3-4ff7-a8f7-5a631ce26076"
      },
      "source": [
        "# Get all keyboard characters\n",
        "import string\n",
        "alphabet = string.ascii_lowercase + string.digits + string.punctuation\n",
        "alphabet"
      ],
      "execution_count": 202,
      "outputs": [
        {
          "output_type": "execute_result",
          "data": {
            "application/vnd.google.colaboratory.intrinsic+json": {
              "type": "string"
            },
            "text/plain": [
              "'abcdefghijklmnopqrstuvwxyz0123456789!\"#$%&\\'()*+,-./:;<=>?@[\\\\]^_`{|}~'"
            ]
          },
          "metadata": {},
          "execution_count": 202
        }
      ]
    },
    {
      "cell_type": "code",
      "metadata": {
        "id": "ZbzK9Jb7oHcH"
      },
      "source": [
        "# Create char-level token vectorizer instance\n",
        "NUM_CHAR_TOKENS = len(alphabet) + 2  # add 2 for space and OOV token (OOV = out of vocab, '[UNK]')\n",
        "char_vectorizer = layers.TextVectorization(max_tokens = NUM_CHAR_TOKENS,\n",
        "                                            output_sequence_length = output_seq_char_len,\n",
        "                                           # standarize = None, # set standarization to 'None' if you want to leave puntuaction in\n",
        "                                            name = 'char_vectorizer')"
      ],
      "execution_count": 203,
      "outputs": []
    },
    {
      "cell_type": "code",
      "metadata": {
        "id": "MgyZ89T1pd-A"
      },
      "source": [
        "# Adapt character vectorizer to training character\n",
        "char_vectorizer.adapt(train_chars)"
      ],
      "execution_count": 204,
      "outputs": []
    },
    {
      "cell_type": "code",
      "metadata": {
        "colab": {
          "base_uri": "https://localhost:8080/"
        },
        "id": "KNtSjDtLppwQ",
        "outputId": "e6a75313-7793-4021-ac10-035c35fb9059"
      },
      "source": [
        "# Check character vocab stats\n",
        "char_vocab = char_vectorizer.get_vocabulary()\n",
        "print(f'Number of different characters in character vocab: {len(char_vocab)}')\n",
        "print(f'5 most common characters: {char_vocab[:5]}')\n",
        "print(f'5 least common characters: {char_vocab[-5:]}')"
      ],
      "execution_count": 205,
      "outputs": [
        {
          "output_type": "stream",
          "name": "stdout",
          "text": [
            "Number of different characters in character vocab: 28\n",
            "5 most common characters: ['', '[UNK]', 'e', 't', 'i']\n",
            "5 least common characters: ['k', 'x', 'z', 'q', 'j']\n"
          ]
        }
      ]
    },
    {
      "cell_type": "code",
      "metadata": {
        "colab": {
          "base_uri": "https://localhost:8080/"
        },
        "id": "fW_nVIJ4p_fH",
        "outputId": "86357298-63e0-428c-e87c-1b3871158280"
      },
      "source": [
        "# Test out character vectorizer\n",
        "random_train_chars = random.choice(train_chars)\n",
        "print(f'Charified text:\\n {random_train_chars}')\n",
        "print(f'\\nLength of random_train_chars: {len(random_train_chars.split())}')\n",
        "vectorized_chars = char_vectorizer([random_train_chars])\n",
        "print(f'\\nVectorized chars:\\n {vectorized_chars}')\n",
        "print(f'\\nLenght of vectorized chars:\\n {len(vectorized_chars[0])}')"
      ],
      "execution_count": 206,
      "outputs": [
        {
          "output_type": "stream",
          "name": "stdout",
          "text": [
            "Charified text:\n",
            " a   c o l l a g e n   s c a f f o l d   s e e d e d   w i t h   b o n e   m a r r o w - d e r i v e d   c e l l s   (   b m d c s   )   h a r v e s t e d   f r o m   p a t i e n t   ' s   i l i a c   c r e s t   a n d   i m p l a n t e d   i n t o   t h e   o l t   t h r o u g h   a   s i n g l e   a r t h r o s c o p i c   p r o c e d u r e   h a s   b e e n   r e c e n t l y   p r o p o s e d   a s   a n   e f f e c t i v e   t r e a t m e n t   o p t i o n   .\n",
            "\n",
            "Length of random_train_chars: 198\n",
            "\n",
            "Vectorized chars:\n",
            " [[ 5 11  7 12 12  5 18  2  6  9 11  5 17 17  7 12 10  9  2  2 10  2 10 20\n",
            "   4  3 13 22  7  6  2 15  5  8  8  7 20 10  2  8  4 21  2 10 11  2 12 12\n",
            "   9 22 15 10 11  9 13  5  8 21  2  9  3  2 10 17  8  7 15 14  5  3  4  2\n",
            "   6  3  9  4 12  4  5 11 11  8  2  9  3  5  6 10  4 15 14 12  5  6  3  2\n",
            "  10  4  6  3  7  3 13  2  7 12  3  3 13  8  7 16 18 13  5  9  4  6 18 12\n",
            "   2  5  8  3 13  8  7  9 11  7 14  4 11 14  8  7 11  2 10 16  8  2 13  5\n",
            "   9 22  2  2  6  8  2 11  2  6  3 12 19 14  8  7 14  7  9  2 10  5  9  5\n",
            "   6  2 17 17  2 11  3  4 21  2  3  8  2  5  3 15  2  6  3  7 14  3  4  7\n",
            "   6  0  0  0  0  0  0  0  0  0  0  0  0  0  0  0  0  0  0  0  0  0  0  0\n",
            "   0  0  0  0  0  0  0  0  0  0  0  0  0  0  0  0  0  0  0  0  0  0  0  0\n",
            "   0  0  0  0  0  0  0  0  0  0  0  0  0  0  0  0  0  0  0  0  0  0  0  0\n",
            "   0  0  0  0  0  0  0  0  0  0  0  0  0  0  0  0  0  0  0  0  0  0  0  0\n",
            "   0  0]]\n",
            "\n",
            "Lenght of vectorized chars:\n",
            " 290\n"
          ]
        }
      ]
    },
    {
      "cell_type": "markdown",
      "metadata": {
        "id": "kGgPzYUMsIjP"
      },
      "source": [
        "## Creating a character-level embedding"
      ]
    },
    {
      "cell_type": "code",
      "metadata": {
        "id": "tapji_ItrLQ5"
      },
      "source": [
        "# Create character-level embedding\n",
        "char_embed = layers.Embedding(input_dim=len(char_vocab),\n",
        "                              output_dim = 25, # Size of the char embedding in the paper\n",
        "                              mask_zero = False, \n",
        "                              name = 'character_embedding')"
      ],
      "execution_count": 207,
      "outputs": []
    },
    {
      "cell_type": "code",
      "metadata": {
        "colab": {
          "base_uri": "https://localhost:8080/"
        },
        "id": "NgT-vuF1sn_4",
        "outputId": "dfc8a19f-b0c2-45f6-ab77-fa62f3ee4a64"
      },
      "source": [
        "# Test our character embedding layer\n",
        "print(f'Charified text:\\n {random_train_chars}\\n')\n",
        "char_embed_example = char_embed(char_vectorizer([random_train_chars]))\n",
        "print(f'Embedded chars (after vectorization and embeddings):\\n {char_embed_example}\\n')\n",
        "print(f'Char embedded shape:\\n {char_embed_example.shape}')"
      ],
      "execution_count": 208,
      "outputs": [
        {
          "output_type": "stream",
          "name": "stdout",
          "text": [
            "Charified text:\n",
            " a   c o l l a g e n   s c a f f o l d   s e e d e d   w i t h   b o n e   m a r r o w - d e r i v e d   c e l l s   (   b m d c s   )   h a r v e s t e d   f r o m   p a t i e n t   ' s   i l i a c   c r e s t   a n d   i m p l a n t e d   i n t o   t h e   o l t   t h r o u g h   a   s i n g l e   a r t h r o s c o p i c   p r o c e d u r e   h a s   b e e n   r e c e n t l y   p r o p o s e d   a s   a n   e f f e c t i v e   t r e a t m e n t   o p t i o n   .\n",
            "\n",
            "Embedded chars (after vectorization and embeddings):\n",
            " [[[ 0.01268243 -0.04180726  0.03579077 ... -0.00076684  0.04464364\n",
            "   -0.02837536]\n",
            "  [ 0.01262366 -0.00865104 -0.02953692 ...  0.0352232  -0.02111273\n",
            "    0.00848917]\n",
            "  [ 0.01610004  0.03339801 -0.00797746 ...  0.04060617 -0.03422822\n",
            "    0.03782426]\n",
            "  ...\n",
            "  [-0.03280616  0.00624807 -0.00205072 ...  0.01597066 -0.03308962\n",
            "   -0.02068337]\n",
            "  [-0.03280616  0.00624807 -0.00205072 ...  0.01597066 -0.03308962\n",
            "   -0.02068337]\n",
            "  [-0.03280616  0.00624807 -0.00205072 ...  0.01597066 -0.03308962\n",
            "   -0.02068337]]]\n",
            "\n",
            "Char embedded shape:\n",
            " (1, 290, 25)\n"
          ]
        }
      ]
    },
    {
      "cell_type": "markdown",
      "metadata": {
        "id": "Yw3Muk6etRK4"
      },
      "source": [
        "## Building a Conv1D model to fit on character embeddings "
      ]
    },
    {
      "cell_type": "code",
      "metadata": {
        "colab": {
          "base_uri": "https://localhost:8080/"
        },
        "id": "SSKYuW99kOPC",
        "outputId": "f9d20ff2-97f2-4329-bb92-5da023b49a93"
      },
      "source": [
        "# Building model\n",
        "inputs = layers.Input(shape=(1,), dtype=tf.string)\n",
        "char_vectors = char_vectorizer(inputs)\n",
        "char_embedding = char_embed(char_vectors)\n",
        "x = layers.Conv1D(64, kernel_size=10, padding='same', activation='relu')(char_embedding)\n",
        "x = layers.GlobalMaxPooling1D()(x)\n",
        "outputs = layers.Dense(num_classes, activation='softmax')(x)\n",
        "model_3 = tf.keras.Model(inputs = inputs, \n",
        "                            outputs = outputs,\n",
        "                            name='model_3_conv1d_char_embedding')\n",
        "\n",
        "# Compile\n",
        "model_3.compile(loss = 'categorical_crossentropy',\n",
        "                optimizer = tf.keras.optimizers.Adam(),\n",
        "                metrics = ['accuracy'])\n",
        "\n",
        "# summary\n",
        "model_3.summary()"
      ],
      "execution_count": 209,
      "outputs": [
        {
          "output_type": "stream",
          "name": "stdout",
          "text": [
            "Model: \"model_3_conv1d_char_embedding\"\n",
            "_________________________________________________________________\n",
            "Layer (type)                 Output Shape              Param #   \n",
            "=================================================================\n",
            "input_6 (InputLayer)         [(None, 1)]               0         \n",
            "_________________________________________________________________\n",
            "char_vectorizer (TextVectori (None, 290)               0         \n",
            "_________________________________________________________________\n",
            "character_embedding (Embeddi (None, 290, 25)           700       \n",
            "_________________________________________________________________\n",
            "conv1d_4 (Conv1D)            (None, 290, 64)           16064     \n",
            "_________________________________________________________________\n",
            "global_max_pooling1d_1 (Glob (None, 64)                0         \n",
            "_________________________________________________________________\n",
            "dense_22 (Dense)             (None, 5)                 325       \n",
            "=================================================================\n",
            "Total params: 17,089\n",
            "Trainable params: 17,089\n",
            "Non-trainable params: 0\n",
            "_________________________________________________________________\n"
          ]
        }
      ]
    },
    {
      "cell_type": "code",
      "metadata": {
        "colab": {
          "base_uri": "https://localhost:8080/"
        },
        "id": "MygbeudSmkpq",
        "outputId": "713a8f10-008b-4f47-988d-a4a25693f529"
      },
      "source": [
        "# Create char level dataset\n",
        "train_char_dataset = tf.data.Dataset.from_tensor_slices((train_chars, train_labels_one_hot)).batch(32).prefetch(tf.data.AUTOTUNE)\n",
        "val_char_dataset = tf.data.Dataset.from_tensor_slices((val_chars, val_labels_one_hot)).batch(32).prefetch(tf.data.AUTOTUNE)\n",
        "test_char_dataset = tf.data.Dataset.from_tensor_slices((test_chars, test_labels_one_hot)).batch(32).prefetch(tf.data.AUTOTUNE)\n",
        "\n",
        "train_char_dataset"
      ],
      "execution_count": 210,
      "outputs": [
        {
          "output_type": "execute_result",
          "data": {
            "text/plain": [
              "<PrefetchDataset shapes: ((None,), (None, 5)), types: (tf.string, tf.float64)>"
            ]
          },
          "metadata": {},
          "execution_count": 210
        }
      ]
    },
    {
      "cell_type": "code",
      "metadata": {
        "colab": {
          "base_uri": "https://localhost:8080/"
        },
        "id": "obFByTxan1vS",
        "outputId": "6f1cbe91-7009-4e06-bf2f-5dcd81603ab0"
      },
      "source": [
        "# Fit the model on chars only\n",
        "model_3_history = model_3.fit(train_char_dataset,\n",
        "                              steps_per_epoch = int(0.1*len(train_char_dataset)),\n",
        "                              epochs = 3,\n",
        "                              validation_data = val_char_dataset,\n",
        "                              validation_steps = int(0.1*len(val_char_dataset)))"
      ],
      "execution_count": 211,
      "outputs": [
        {
          "output_type": "stream",
          "name": "stdout",
          "text": [
            "Epoch 1/3\n",
            "562/562 [==============================] - 7s 11ms/step - loss: 1.2011 - accuracy: 0.5154 - val_loss: 0.9714 - val_accuracy: 0.6213\n",
            "Epoch 2/3\n",
            "562/562 [==============================] - 6s 11ms/step - loss: 0.9370 - accuracy: 0.6293 - val_loss: 0.8607 - val_accuracy: 0.6679\n",
            "Epoch 3/3\n",
            "562/562 [==============================] - 6s 11ms/step - loss: 0.8528 - accuracy: 0.6682 - val_loss: 0.7940 - val_accuracy: 0.6925\n"
          ]
        }
      ]
    },
    {
      "cell_type": "code",
      "metadata": {
        "colab": {
          "base_uri": "https://localhost:8080/"
        },
        "id": "0pqDIm8FofKI",
        "outputId": "fb0386d7-6f96-4f59-d990-fc492d546cfa"
      },
      "source": [
        "# Make predictions with character model only\n",
        "model_3_pred_probs = model_3.predict(val_char_dataset)\n",
        "model_3_pred_probs"
      ],
      "execution_count": 212,
      "outputs": [
        {
          "output_type": "execute_result",
          "data": {
            "text/plain": [
              "array([[0.19824505, 0.47784522, 0.0597427 , 0.23259895, 0.03156818],\n",
              "       [0.32553062, 0.15416752, 0.04522025, 0.43436208, 0.04071944],\n",
              "       [0.16627055, 0.11077702, 0.05547777, 0.6222941 , 0.0451806 ],\n",
              "       ...,\n",
              "       [0.00952424, 0.03648717, 0.04768376, 0.01412871, 0.89217615],\n",
              "       [0.08239434, 0.19941017, 0.3602322 , 0.06095233, 0.29701096],\n",
              "       [0.4367237 , 0.2544566 , 0.21192513, 0.0797762 , 0.01711836]],\n",
              "      dtype=float32)"
            ]
          },
          "metadata": {},
          "execution_count": 212
        }
      ]
    },
    {
      "cell_type": "code",
      "metadata": {
        "colab": {
          "base_uri": "https://localhost:8080/"
        },
        "id": "lWJYNGWDo4CS",
        "outputId": "c15b447d-f34c-49c2-f39e-8d5d7dc1b82d"
      },
      "source": [
        "# Convert prediction probs to classes\n",
        "model_3_preds = tf.argmax(model_3_pred_probs, axis = 1)\n",
        "model_3_preds"
      ],
      "execution_count": 213,
      "outputs": [
        {
          "output_type": "execute_result",
          "data": {
            "text/plain": [
              "<tf.Tensor: shape=(30212,), dtype=int64, numpy=array([1, 3, 3, ..., 4, 2, 0])>"
            ]
          },
          "metadata": {},
          "execution_count": 213
        }
      ]
    },
    {
      "cell_type": "code",
      "metadata": {
        "colab": {
          "base_uri": "https://localhost:8080/"
        },
        "id": "NT5TIEFIo-Zh",
        "outputId": "16555cba-e03e-4725-c3ba-341b18dacc07"
      },
      "source": [
        "# Calculate results for Conv1D model chars only\n",
        "model_3_results = calculate_results(y_true = val_labels_encoded,\n",
        "                                    y_pred = model_3_preds)\n",
        "model_3_results"
      ],
      "execution_count": 214,
      "outputs": [
        {
          "output_type": "execute_result",
          "data": {
            "text/plain": [
              "{'accuracy': 68.8865351515954,\n",
              " 'f1': 0.6787011810222826,\n",
              " 'precision': 0.6804839954172375,\n",
              " 'recall': 0.688865351515954}"
            ]
          },
          "metadata": {},
          "execution_count": 214
        }
      ]
    },
    {
      "cell_type": "markdown",
      "metadata": {
        "id": "_ypMaPW8pJ8q"
      },
      "source": [
        "## Model 4: Combining pretrained token embedding + characters embedding (hybrid embedding layer)\n",
        "\n",
        "1. Create a token-level embedding model (similar `model_1`)\n",
        "2. Create a character-level model (similar to `model_3` with a slight modification)\n",
        "3. Combine 1 and 2 with a concatenate (`layers.Concatenate`)\n",
        "4. Build a series of layers of output layers on top of 3 similar to Figure 1 and Section 4.2 of the paper.\n",
        "5. Contruct a model which takes token and character-level sequences as input and produces sequence label prob as output.\n"
      ]
    },
    {
      "cell_type": "code",
      "metadata": {
        "id": "dZEjRl4LrPSp"
      },
      "source": [
        "# 1. Setup token inputs/model \n",
        "token_inputs = layers.Input(shape=[], dtype='string', name='token_input')\n",
        "token_embeddings = tf_hub_embedding_layer(token_inputs)\n",
        "token_outputs = layers.Dense(128, activation='relu')(token_embeddings)\n",
        "token_model = tf.keras.Model(inputs = token_inputs, \n",
        "                             outputs = token_outputs,\n",
        "                             name = 'token_model')\n",
        "\n",
        "# 2. Setup char inputs / model\n",
        "char_inputs = layers.Input(shape=(1, ), dtype = tf.string, name='char_input')\n",
        "char_vectors = char_vectorizer(char_inputs)\n",
        "char_embedding = char_embed(char_vectors)\n",
        "char_bi_lstm = layers.Bidirectional(layers.LSTM(24))(char_embedding) #bi-LSTM shown in Figure 1 of paper\n",
        "char_model = tf.keras.Model(inputs = char_inputs,\n",
        "                            outputs = char_bi_lstm,\n",
        "                            name = 'char_model')\n",
        "\n",
        "# 3. Concatenate token and char inputs (create hybrid token embedding)\n",
        "token_char_concat = layers.Concatenate(name='token_char_hybrid')([token_model.output,\n",
        "                                                                  char_model.output])\n",
        "\n",
        "# 4. Create output layers - adding in Dropout, discussed in section 4.2\n",
        "combined_droput = layers.Dropout(0.5)(token_char_concat)\n",
        "combined_dense = layers.Dense(128, activation='relu')(combined_droput)\n",
        "final_dropout = layers.Dropout(0.5)(combined_dense)\n",
        "output_layer = layers.Dense(num_classes, activation='softmax')(final_dropout)\n",
        "\n",
        "# 5. Construct model with char and token inputs\n",
        "model_4 = tf.keras.Model(inputs = [token_model.input, char_model.input],\n",
        "                         outputs = output_layer,\n",
        "                         name = 'model_4_token_and_char_embedding')\n"
      ],
      "execution_count": 215,
      "outputs": []
    },
    {
      "cell_type": "code",
      "metadata": {
        "colab": {
          "base_uri": "https://localhost:8080/"
        },
        "id": "OF4-Ocv7usnj",
        "outputId": "36081316-a4b2-44d0-bed4-b69d8b15cb5d"
      },
      "source": [
        "# Get a summary of our model\n",
        "model_4.summary()"
      ],
      "execution_count": 216,
      "outputs": [
        {
          "output_type": "stream",
          "name": "stdout",
          "text": [
            "Model: \"model_4_token_and_char_embedding\"\n",
            "__________________________________________________________________________________________________\n",
            "Layer (type)                    Output Shape         Param #     Connected to                     \n",
            "==================================================================================================\n",
            "char_input (InputLayer)         [(None, 1)]          0                                            \n",
            "__________________________________________________________________________________________________\n",
            "token_input (InputLayer)        [(None,)]            0                                            \n",
            "__________________________________________________________________________________________________\n",
            "char_vectorizer (TextVectorizat (None, 290)          0           char_input[0][0]                 \n",
            "__________________________________________________________________________________________________\n",
            "universal_sentence_encoder (Ker (None, 512)          256797824   token_input[0][0]                \n",
            "__________________________________________________________________________________________________\n",
            "character_embedding (Embedding) (None, 290, 25)      700         char_vectorizer[1][0]            \n",
            "__________________________________________________________________________________________________\n",
            "dense_23 (Dense)                (None, 128)          65664       universal_sentence_encoder[1][0] \n",
            "__________________________________________________________________________________________________\n",
            "bidirectional_3 (Bidirectional) (None, 48)           9600        character_embedding[1][0]        \n",
            "__________________________________________________________________________________________________\n",
            "token_char_hybrid (Concatenate) (None, 176)          0           dense_23[0][0]                   \n",
            "                                                                 bidirectional_3[0][0]            \n",
            "__________________________________________________________________________________________________\n",
            "dropout_6 (Dropout)             (None, 176)          0           token_char_hybrid[0][0]          \n",
            "__________________________________________________________________________________________________\n",
            "dense_24 (Dense)                (None, 128)          22656       dropout_6[0][0]                  \n",
            "__________________________________________________________________________________________________\n",
            "dropout_7 (Dropout)             (None, 128)          0           dense_24[0][0]                   \n",
            "__________________________________________________________________________________________________\n",
            "dense_25 (Dense)                (None, 5)            645         dropout_7[0][0]                  \n",
            "==================================================================================================\n",
            "Total params: 256,897,089\n",
            "Trainable params: 99,265\n",
            "Non-trainable params: 256,797,824\n",
            "__________________________________________________________________________________________________\n"
          ]
        }
      ]
    },
    {
      "cell_type": "code",
      "metadata": {
        "colab": {
          "base_uri": "https://localhost:8080/",
          "height": 975
        },
        "id": "lLACS0l_u0Ek",
        "outputId": "0380223d-f93e-48c4-a247-89c1c2e96e24"
      },
      "source": [
        "# Plot hybrid token and char model\n",
        "tf.keras.utils.plot_model(model_4, show_shapes=True)"
      ],
      "execution_count": 217,
      "outputs": [
        {
          "output_type": "execute_result",
          "data": {
            "image/png": "[encoded data removed]",
            "text/plain": [
              "<IPython.core.display.Image object>"
            ]
          },
          "metadata": {},
          "execution_count": 217
        }
      ]
    },
    {
      "cell_type": "code",
      "metadata": {
        "id": "n6VyoWJqvU78"
      },
      "source": [
        "# Compile token char model\n",
        "model_4.compile(loss = 'categorical_crossentropy',\n",
        "                optimizer = tf.keras.optimizers.Adam(),# section 4.2 of the paper says they use SGD\n",
        "                metrics = ['accuracy']) "
      ],
      "execution_count": 218,
      "outputs": []
    },
    {
      "cell_type": "markdown",
      "metadata": {
        "id": "aFMOssRvxMjM"
      },
      "source": [
        "### Combining token and character data into a tf.data.Dataset"
      ]
    },
    {
      "cell_type": "code",
      "metadata": {
        "id": "7XLkMx2EwysT"
      },
      "source": [
        "# Combine chars and tokens into a dataset\n",
        "train_char_token_data = tf.data.Dataset.from_tensor_slices((train_sentences, train_chars)) # Make data\n",
        "train_char_token_labels = tf.data.Dataset.from_tensor_slices((train_labels_one_hot)) # Make labels\n",
        "train_char_token_dataset = tf.data.Dataset.zip((train_char_token_data, train_char_token_labels)) # Combine data and labels\n",
        "\n",
        "# Prefetch and batch train data\n",
        "train_char_token_dataset = train_char_token_dataset.batch(32).prefetch(tf.data.AUTOTUNE)"
      ],
      "execution_count": 219,
      "outputs": []
    },
    {
      "cell_type": "code",
      "metadata": {
        "id": "xisbOlZNyWvU"
      },
      "source": [
        "# Repeat above steps for our validation data\n",
        "val_char_token_data = tf.data.Dataset.from_tensor_slices((val_sentences, val_chars)) # Make data\n",
        "val_char_token_labels = tf.data.Dataset.from_tensor_slices((val_labels_one_hot)) # Make labels\n",
        "val_char_token_dataset = tf.data.Dataset.zip((val_char_token_data, val_char_token_labels)) # Combine data and labels\n",
        "\n",
        "# Prefetch and batch val data\n",
        "val_char_token_dataset = val_char_token_dataset.batch(32).prefetch(tf.data.AUTOTUNE)"
      ],
      "execution_count": 220,
      "outputs": []
    },
    {
      "cell_type": "code",
      "metadata": {
        "colab": {
          "base_uri": "https://localhost:8080/"
        },
        "id": "gFvL5QJnyqOF",
        "outputId": "e0126251-57fb-48b2-d2be-a18a48b5297e"
      },
      "source": [
        "# Checkout out our training char and token embedding dataset\n",
        "train_char_token_dataset, val_char_token_dataset"
      ],
      "execution_count": 221,
      "outputs": [
        {
          "output_type": "execute_result",
          "data": {
            "text/plain": [
              "(<PrefetchDataset shapes: (((None,), (None,)), (None, 5)), types: ((tf.string, tf.string), tf.float64)>,\n",
              " <PrefetchDataset shapes: (((None,), (None,)), (None, 5)), types: ((tf.string, tf.string), tf.float64)>)"
            ]
          },
          "metadata": {},
          "execution_count": 221
        }
      ]
    },
    {
      "cell_type": "markdown",
      "metadata": {
        "id": "4ZItCDl0ywIt"
      },
      "source": [
        "📝 Order matters and it has to be as same as the order of the model above"
      ]
    },
    {
      "cell_type": "code",
      "metadata": {
        "colab": {
          "base_uri": "https://localhost:8080/"
        },
        "id": "zCJpQYLvzEkb",
        "outputId": "30da8267-63a7-4cbf-a001-cec5f2fafeee"
      },
      "source": [
        "history_model_4 = model_4.fit(train_char_token_dataset,\n",
        "                              steps_per_epoch = int(0.1*len(train_char_token_dataset)),\n",
        "                              validation_data = val_char_token_dataset,\n",
        "                              validation_steps = int(0.1*len(val_char_token_dataset)),\n",
        "                              epochs = 3)"
      ],
      "execution_count": 222,
      "outputs": [
        {
          "output_type": "stream",
          "name": "stdout",
          "text": [
            "Epoch 1/3\n",
            "562/562 [==============================] - 72s 120ms/step - loss: 0.9868 - accuracy: 0.6038 - val_loss: 0.7739 - val_accuracy: 0.6965\n",
            "Epoch 2/3\n",
            "562/562 [==============================] - 66s 118ms/step - loss: 0.8025 - accuracy: 0.6909 - val_loss: 0.7168 - val_accuracy: 0.7281\n",
            "Epoch 3/3\n",
            "562/562 [==============================] - 66s 118ms/step - loss: 0.7752 - accuracy: 0.7034 - val_loss: 0.6968 - val_accuracy: 0.7360\n"
          ]
        }
      ]
    },
    {
      "cell_type": "code",
      "metadata": {
        "colab": {
          "base_uri": "https://localhost:8080/"
        },
        "id": "9pFRJaxpzhDm",
        "outputId": "186e3bde-8f20-4219-c82d-eb0af761be29"
      },
      "source": [
        "# Evaluate on the whole validation dataset\n",
        "model_4.evaluate(val_char_token_dataset)"
      ],
      "execution_count": 223,
      "outputs": [
        {
          "output_type": "stream",
          "name": "stdout",
          "text": [
            "945/945 [==============================] - 50s 53ms/step - loss: 0.7012 - accuracy: 0.7327\n"
          ]
        },
        {
          "output_type": "execute_result",
          "data": {
            "text/plain": [
              "[0.7011918425559998, 0.7327221035957336]"
            ]
          },
          "metadata": {},
          "execution_count": 223
        }
      ]
    },
    {
      "cell_type": "code",
      "metadata": {
        "colab": {
          "base_uri": "https://localhost:8080/"
        },
        "id": "u-DImF6w0Sn2",
        "outputId": "d5b86a83-ccbf-4446-ad43-66994a2e3e55"
      },
      "source": [
        "# Make predictions using the token-character model hybrid\n",
        "model_4_pred_probs = model_4.predict(val_char_token_dataset)\n",
        "model_4_pred_probs"
      ],
      "execution_count": 224,
      "outputs": [
        {
          "output_type": "execute_result",
          "data": {
            "text/plain": [
              "array([[3.6288568e-01, 4.2474899e-01, 6.4203660e-03, 1.9586936e-01,\n",
              "        1.0075711e-02],\n",
              "       [3.4635952e-01, 4.8089746e-01, 3.9045077e-03, 1.6696620e-01,\n",
              "        1.8723039e-03],\n",
              "       [2.5272748e-01, 1.1965542e-01, 5.3727008e-02, 5.3611797e-01,\n",
              "        3.7772074e-02],\n",
              "       ...,\n",
              "       [7.2328100e-04, 8.7963920e-03, 5.4042902e-02, 2.8143567e-04,\n",
              "        9.3615597e-01],\n",
              "       [1.0116885e-02, 6.8159096e-02, 2.3206668e-01, 4.3778047e-03,\n",
              "        6.8527949e-01],\n",
              "       [3.0138245e-01, 2.8522485e-01, 3.1444520e-01, 4.1560080e-02,\n",
              "        5.7387374e-02]], dtype=float32)"
            ]
          },
          "metadata": {},
          "execution_count": 224
        }
      ]
    },
    {
      "cell_type": "code",
      "metadata": {
        "colab": {
          "base_uri": "https://localhost:8080/"
        },
        "id": "DPiPIX8Q0b38",
        "outputId": "6aa41e41-2312-419e-bdaa-c80965d45aa6"
      },
      "source": [
        "# Format pred probs into pred labels \n",
        "model_4_preds = tf.argmax(model_4_pred_probs, axis = 1)\n",
        "model_4_preds"
      ],
      "execution_count": 225,
      "outputs": [
        {
          "output_type": "execute_result",
          "data": {
            "text/plain": [
              "<tf.Tensor: shape=(30212,), dtype=int64, numpy=array([1, 1, 3, ..., 4, 4, 2])>"
            ]
          },
          "metadata": {},
          "execution_count": 225
        }
      ]
    },
    {
      "cell_type": "code",
      "metadata": {
        "colab": {
          "base_uri": "https://localhost:8080/"
        },
        "id": "qHogbEjL05EF",
        "outputId": "36ffcc5d-4ff4-4a3c-a0e2-67431482b17e"
      },
      "source": [
        "# Get results of token-char hybrid model\n",
        "model_4_results = calculate_results(y_true=val_labels_encoded,\n",
        "                                    y_pred = model_4_preds)\n",
        "model_4_results"
      ],
      "execution_count": 226,
      "outputs": [
        {
          "output_type": "execute_result",
          "data": {
            "text/plain": [
              "{'accuracy': 73.27220971799285,\n",
              " 'f1': 0.7300099636931218,\n",
              " 'precision': 0.7335711192403921,\n",
              " 'recall': 0.7327220971799285}"
            ]
          },
          "metadata": {},
          "execution_count": 226
        }
      ]
    },
    {
      "cell_type": "markdown",
      "metadata": {
        "id": "5IrTnXzU1Dkl"
      },
      "source": [
        "## Model 5: Transfer learning with pretrained token embeddings + character embeddings + positional embedding"
      ]
    },
    {
      "cell_type": "code",
      "metadata": {
        "id": "PqEx3reC49Gm",
        "colab": {
          "base_uri": "https://localhost:8080/",
          "height": 202
        },
        "outputId": "fbcb483c-3349-4243-bca4-298a9bbc3c5b"
      },
      "source": [
        "train_df.head()"
      ],
      "execution_count": 227,
      "outputs": [
        {
          "output_type": "execute_result",
          "data": {
            "text/html": [
              "<div>\n",
              "<style scoped>\n",
              "    .dataframe tbody tr th:only-of-type {\n",
              "        vertical-align: middle;\n",
              "    }\n",
              "\n",
              "    .dataframe tbody tr th {\n",
              "        vertical-align: top;\n",
              "    }\n",
              "\n",
              "    .dataframe thead th {\n",
              "        text-align: right;\n",
              "    }\n",
              "</style>\n",
              "<table border=\"1\" class=\"dataframe\">\n",
              "  <thead>\n",
              "    <tr style=\"text-align: right;\">\n",
              "      <th></th>\n",
              "      <th>target</th>\n",
              "      <th>text</th>\n",
              "      <th>line_number</th>\n",
              "      <th>total_lines</th>\n",
              "    </tr>\n",
              "  </thead>\n",
              "  <tbody>\n",
              "    <tr>\n",
              "      <th>0</th>\n",
              "      <td>OBJECTIVE</td>\n",
              "      <td>to investigate the efficacy of @ weeks of dail...</td>\n",
              "      <td>0</td>\n",
              "      <td>11</td>\n",
              "    </tr>\n",
              "    <tr>\n",
              "      <th>1</th>\n",
              "      <td>METHODS</td>\n",
              "      <td>a total of @ patients with primary knee oa wer...</td>\n",
              "      <td>1</td>\n",
              "      <td>11</td>\n",
              "    </tr>\n",
              "    <tr>\n",
              "      <th>2</th>\n",
              "      <td>METHODS</td>\n",
              "      <td>outcome measures included pain reduction and i...</td>\n",
              "      <td>2</td>\n",
              "      <td>11</td>\n",
              "    </tr>\n",
              "    <tr>\n",
              "      <th>3</th>\n",
              "      <td>METHODS</td>\n",
              "      <td>pain was assessed using the visual analog pain...</td>\n",
              "      <td>3</td>\n",
              "      <td>11</td>\n",
              "    </tr>\n",
              "    <tr>\n",
              "      <th>4</th>\n",
              "      <td>METHODS</td>\n",
              "      <td>secondary outcome measures included the wester...</td>\n",
              "      <td>4</td>\n",
              "      <td>11</td>\n",
              "    </tr>\n",
              "  </tbody>\n",
              "</table>\n",
              "</div>"
            ],
            "text/plain": [
              "      target  ... total_lines\n",
              "0  OBJECTIVE  ...          11\n",
              "1    METHODS  ...          11\n",
              "2    METHODS  ...          11\n",
              "3    METHODS  ...          11\n",
              "4    METHODS  ...          11\n",
              "\n",
              "[5 rows x 4 columns]"
            ]
          },
          "metadata": {},
          "execution_count": 227
        }
      ]
    },
    {
      "cell_type": "markdown",
      "metadata": {
        "id": "jo1W7KEN498G"
      },
      "source": [
        "> 🔑 **Note:** Any engineered features used to train a model need to be avaiable at test time. In our case line numbers and total lines are available."
      ]
    },
    {
      "cell_type": "markdown",
      "metadata": {
        "id": "aKOMWJ-nE-q8"
      },
      "source": [
        "### Create positional embeddings "
      ]
    },
    {
      "cell_type": "code",
      "metadata": {
        "colab": {
          "base_uri": "https://localhost:8080/"
        },
        "id": "i_4kcpE0Frl3",
        "outputId": "a3c38f6a-a907-477c-e881-3aec5129facd"
      },
      "source": [
        "# How many different line numbers are there?\n",
        "train_df['line_number'].value_counts()"
      ],
      "execution_count": 228,
      "outputs": [
        {
          "output_type": "execute_result",
          "data": {
            "text/plain": [
              "0     15000\n",
              "1     15000\n",
              "2     15000\n",
              "3     15000\n",
              "4     14992\n",
              "5     14949\n",
              "6     14758\n",
              "7     14279\n",
              "8     13346\n",
              "9     11981\n",
              "10    10041\n",
              "11     7892\n",
              "12     5853\n",
              "13     4152\n",
              "14     2835\n",
              "15     1861\n",
              "16     1188\n",
              "17      751\n",
              "18      462\n",
              "19      286\n",
              "20      162\n",
              "21      101\n",
              "22       66\n",
              "23       33\n",
              "24       22\n",
              "25       14\n",
              "26        7\n",
              "27        4\n",
              "28        3\n",
              "29        1\n",
              "30        1\n",
              "Name: line_number, dtype: int64"
            ]
          },
          "metadata": {},
          "execution_count": 228
        }
      ]
    },
    {
      "cell_type": "code",
      "metadata": {
        "colab": {
          "base_uri": "https://localhost:8080/",
          "height": 281
        },
        "id": "Wl0e4h7UF3v-",
        "outputId": "a903b82e-5e36-46d1-b763-5b70a3bcd68c"
      },
      "source": [
        "# check the distribution of \"line_number\" column \n",
        "train_df.line_number.plot.hist()"
      ],
      "execution_count": 229,
      "outputs": [
        {
          "output_type": "execute_result",
          "data": {
            "text/plain": [
              "<matplotlib.axes._subplots.AxesSubplot at 0x7f82fd58c750>"
            ]
          },
          "metadata": {},
          "execution_count": 229
        },
        {
          "output_type": "display_data",
          "data": {
            "image/png": "[encoded data removed]",
            "text/plain": [
              "<Figure size 432x288 with 1 Axes>"
            ]
          },
          "metadata": {
            "needs_background": "light"
          }
        }
      ]
    },
    {
      "cell_type": "code",
      "metadata": {
        "colab": {
          "base_uri": "https://localhost:8080/"
        },
        "id": "4DP8KQ63GTJl",
        "outputId": "ac6405b6-11e6-4692-e4bf-ebe46e42bac5"
      },
      "source": [
        "# Use TensorFlow to create one-hot-encoded tensors of our \"line_number\" column\n",
        "train_line_numbers_one_hot = tf.one_hot(train_df['line_number'].to_numpy(), depth=15)\n",
        "val_line_numbers_one_hot = tf.one_hot(val_df['line_number'].to_numpy(), depth=15)\n",
        "test_line_numbers_one_hot = tf.one_hot(test_df['line_number'].to_numpy(), depth=15)\n",
        "train_line_numbers_one_hot[:10], train_line_numbers_one_hot.shape"
      ],
      "execution_count": 230,
      "outputs": [
        {
          "output_type": "execute_result",
          "data": {
            "text/plain": [
              "(<tf.Tensor: shape=(10, 15), dtype=float32, numpy=\n",
              " array([[1., 0., 0., 0., 0., 0., 0., 0., 0., 0., 0., 0., 0., 0., 0.],\n",
              "        [0., 1., 0., 0., 0., 0., 0., 0., 0., 0., 0., 0., 0., 0., 0.],\n",
              "        [0., 0., 1., 0., 0., 0., 0., 0., 0., 0., 0., 0., 0., 0., 0.],\n",
              "        [0., 0., 0., 1., 0., 0., 0., 0., 0., 0., 0., 0., 0., 0., 0.],\n",
              "        [0., 0., 0., 0., 1., 0., 0., 0., 0., 0., 0., 0., 0., 0., 0.],\n",
              "        [0., 0., 0., 0., 0., 1., 0., 0., 0., 0., 0., 0., 0., 0., 0.],\n",
              "        [0., 0., 0., 0., 0., 0., 1., 0., 0., 0., 0., 0., 0., 0., 0.],\n",
              "        [0., 0., 0., 0., 0., 0., 0., 1., 0., 0., 0., 0., 0., 0., 0.],\n",
              "        [0., 0., 0., 0., 0., 0., 0., 0., 1., 0., 0., 0., 0., 0., 0.],\n",
              "        [0., 0., 0., 0., 0., 0., 0., 0., 0., 1., 0., 0., 0., 0., 0.]],\n",
              "       dtype=float32)>, TensorShape([180040, 15]))"
            ]
          },
          "metadata": {},
          "execution_count": 230
        }
      ]
    },
    {
      "cell_type": "markdown",
      "metadata": {
        "id": "EL7DNPnsJ2me"
      },
      "source": [
        "Now we've encoded our lines feature, let's do the same for our total lines feature.."
      ]
    },
    {
      "cell_type": "code",
      "metadata": {
        "colab": {
          "base_uri": "https://localhost:8080/"
        },
        "id": "QL07YgW3Jjm2",
        "outputId": "40958f97-5748-4470-86ab-95d95e6d9761"
      },
      "source": [
        "# How many different total lines?\n",
        "train_df['total_lines'].value_counts()"
      ],
      "execution_count": 231,
      "outputs": [
        {
          "output_type": "execute_result",
          "data": {
            "text/plain": [
              "11    24468\n",
              "10    23639\n",
              "12    22113\n",
              "9     19400\n",
              "13    18438\n",
              "14    14610\n",
              "8     12285\n",
              "15    10768\n",
              "7      7464\n",
              "16     7429\n",
              "17     5202\n",
              "6      3353\n",
              "18     3344\n",
              "19     2480\n",
              "20     1281\n",
              "5      1146\n",
              "21      770\n",
              "22      759\n",
              "23      264\n",
              "4       215\n",
              "24      200\n",
              "25      182\n",
              "26       81\n",
              "28       58\n",
              "3        32\n",
              "30       31\n",
              "27       28\n",
              "Name: total_lines, dtype: int64"
            ]
          },
          "metadata": {},
          "execution_count": 231
        }
      ]
    },
    {
      "cell_type": "code",
      "metadata": {
        "colab": {
          "base_uri": "https://localhost:8080/",
          "height": 283
        },
        "id": "0aBq7r5XJreH",
        "outputId": "e342d698-7043-4685-f7d7-8d3b990529dc"
      },
      "source": [
        "# check the distribution of \"total_lines\" column \n",
        "train_df.total_lines.plot.hist()"
      ],
      "execution_count": 232,
      "outputs": [
        {
          "output_type": "execute_result",
          "data": {
            "text/plain": [
              "<matplotlib.axes._subplots.AxesSubplot at 0x7f82fd4e8390>"
            ]
          },
          "metadata": {},
          "execution_count": 232
        },
        {
          "output_type": "display_data",
          "data": {
            "image/png": "[encoded data removed]",
            "text/plain": [
              "<Figure size 432x288 with 1 Axes>"
            ]
          },
          "metadata": {
            "needs_background": "light"
          }
        }
      ]
    },
    {
      "cell_type": "code",
      "metadata": {
        "colab": {
          "base_uri": "https://localhost:8080/"
        },
        "id": "AVPqJPPXKOsO",
        "outputId": "afd4b605-c6b5-49cf-fe09-27459eb1388e"
      },
      "source": [
        "# Check the coverage of a \"total_lines\" value of 20\n",
        "np.percentile(train_df.total_lines, 98)"
      ],
      "execution_count": 233,
      "outputs": [
        {
          "output_type": "execute_result",
          "data": {
            "text/plain": [
              "20.0"
            ]
          },
          "metadata": {},
          "execution_count": 233
        }
      ]
    },
    {
      "cell_type": "code",
      "metadata": {
        "colab": {
          "base_uri": "https://localhost:8080/"
        },
        "id": "N00GixjAH5ZO",
        "outputId": "de44a29c-3b3f-49ab-a6c8-28ede7ae1efd"
      },
      "source": [
        "# Use TensorFlow to create one-hot-encoded tensors of our \"total_lines\" column\n",
        "train_total_lines_one_hot = tf.one_hot(train_df['total_lines'], depth=20)\n",
        "val_total_lines_one_hot = tf.one_hot(val_df['total_lines'], depth=20)\n",
        "tesst_total_lines_one_hot = tf.one_hot(test_df['total_lines'], depth=20)\n",
        "train_total_lines_one_hot[:5], train_total_lines_one_hot.shape"
      ],
      "execution_count": 234,
      "outputs": [
        {
          "output_type": "execute_result",
          "data": {
            "text/plain": [
              "(<tf.Tensor: shape=(5, 20), dtype=float32, numpy=\n",
              " array([[0., 0., 0., 0., 0., 0., 0., 0., 0., 0., 0., 1., 0., 0., 0., 0.,\n",
              "         0., 0., 0., 0.],\n",
              "        [0., 0., 0., 0., 0., 0., 0., 0., 0., 0., 0., 1., 0., 0., 0., 0.,\n",
              "         0., 0., 0., 0.],\n",
              "        [0., 0., 0., 0., 0., 0., 0., 0., 0., 0., 0., 1., 0., 0., 0., 0.,\n",
              "         0., 0., 0., 0.],\n",
              "        [0., 0., 0., 0., 0., 0., 0., 0., 0., 0., 0., 1., 0., 0., 0., 0.,\n",
              "         0., 0., 0., 0.],\n",
              "        [0., 0., 0., 0., 0., 0., 0., 0., 0., 0., 0., 1., 0., 0., 0., 0.,\n",
              "         0., 0., 0., 0.]], dtype=float32)>, TensorShape([180040, 20]))"
            ]
          },
          "metadata": {},
          "execution_count": 234
        }
      ]
    },
    {
      "cell_type": "markdown",
      "metadata": {
        "id": "bDI-IQ5EKm0B"
      },
      "source": [
        "### Building a tribrid embedding model\n",
        "\n",
        "1. Create a token-level model\n",
        "2. Create a char level model\n",
        "3. Create a model for the 'line_number' feature\n",
        "4. Create a model for the 'total_lines' feature\n",
        "5. Combine the outputs of 1 and 2 using tf.keras.layers.Concatenate\n",
        "6. Combine the outputs of 3, 4 and 5 using tf.keras.layers.Concatenate\n",
        "7. Create an output layer to accept the tribried embedding and output label probabilities\n",
        "8. Combine the inputs of 1, 2 , 3 and 4 and the outputs of 7 into a tf.keras.Model"
      ]
    },
    {
      "cell_type": "code",
      "metadata": {
        "id": "K60tMh_wMCqY"
      },
      "source": [
        "# 1. Token inputs\n",
        "token_inputs = layers.Input(shape = [], dtype='string', name ='token_inputs')\n",
        "token_embeddings = tf_hub_embedding_layer(token_inputs)\n",
        "token_outputs = layers.Dense(128, activation = 'relu')(token_embeddings)\n",
        "token_model = tf.keras.Model(inputs = token_inputs, outputs = token_outputs)\n",
        "\n",
        "# 2. Char inputs\n",
        "char_inputs = layers.Input(shape = (1, ), dtype='string', name = 'char_inputs')\n",
        "char_vectors = char_vectorizer(char_inputs)\n",
        "char_embedding = char_embed(char_vectors)\n",
        "char_bi_lstm = layers.Bidirectional(layers.LSTM(24), name='bilstm')(char_embedding)\n",
        "char_model = tf.keras.Model(inputs = char_inputs,\n",
        "                            outputs = char_bi_lstm)\n",
        "\n",
        "# 3. Line numbers model\n",
        "line_number_inputs = layers.Input(shape = (15, ), dtype=tf.float32, name = 'line_number_input')\n",
        "line_number_dense = layers.Dense(32, activation='relu', name='dense_lines')(line_number_inputs)\n",
        "line_number_model = tf.keras.Model(inputs = line_number_inputs,\n",
        "                                   outputs = line_number_dense)\n",
        "\n",
        "# 4. Total lines\n",
        "total_lines_inputs = layers.Input(shape = (20, ), dtype='float', name = 'total_lines_input')\n",
        "total_lines_dense = layers.Dense(32, activation='relu', name='dense_total_lines')(total_lines_inputs)\n",
        "total_lines_model = tf.keras.Model(inputs = total_lines_inputs,\n",
        "                                   outputs = total_lines_dense)\n",
        "\n",
        "# 5. Combine token and char embeddings into a hybrid embedding\n",
        "combined_embeddings = layers.Concatenate(name='char_token_hybrid_embedding')([token_model.output,\n",
        "                                                                              char_model.output])\n",
        "z = layers.Dense(256, activation='relu', name='combined_embeddings')(combined_embeddings)\n",
        "z = layers.Dropout(0.5)(z)\n",
        "\n",
        "# 6. Combine positional embedding with combined token and char embeddings\n",
        "tribrid_embeddings = layers.Concatenate(name = 'char_token_positional_embedding')([line_number_model.output, # For models you take the output\n",
        "                                                                                   total_lines_model.output,\n",
        "                                                                                   z]) # For layer you already took the output\n",
        "\n",
        "# 7. Create output layer\n",
        "output_layer = layers.Dense(5, activation='softmax', name='output_layer')(tribrid_embeddings)\n",
        "\n",
        "# 8. Put together model with all kinds of inputs\n",
        "model_5 = tf.keras.Model(inputs = [line_number_model.input, # Order according to the concat\n",
        "                                   total_lines_model.input,\n",
        "                                   token_model.input,\n",
        "                                   char_model.input],\n",
        "                         outputs = output_layer)"
      ],
      "execution_count": 235,
      "outputs": []
    },
    {
      "cell_type": "code",
      "metadata": {
        "colab": {
          "base_uri": "https://localhost:8080/"
        },
        "id": "VZjubY_v9NXs",
        "outputId": "843e1bfd-aaaf-4e37-e2f5-d5c52667f02d"
      },
      "source": [
        "# Summary\n",
        "model_5.summary()"
      ],
      "execution_count": 236,
      "outputs": [
        {
          "output_type": "stream",
          "name": "stdout",
          "text": [
            "Model: \"model_26\"\n",
            "__________________________________________________________________________________________________\n",
            "Layer (type)                    Output Shape         Param #     Connected to                     \n",
            "==================================================================================================\n",
            "char_inputs (InputLayer)        [(None, 1)]          0                                            \n",
            "__________________________________________________________________________________________________\n",
            "token_inputs (InputLayer)       [(None,)]            0                                            \n",
            "__________________________________________________________________________________________________\n",
            "char_vectorizer (TextVectorizat (None, 290)          0           char_inputs[0][0]                \n",
            "__________________________________________________________________________________________________\n",
            "universal_sentence_encoder (Ker (None, 512)          256797824   token_inputs[0][0]               \n",
            "__________________________________________________________________________________________________\n",
            "character_embedding (Embedding) (None, 290, 25)      700         char_vectorizer[2][0]            \n",
            "__________________________________________________________________________________________________\n",
            "dense_26 (Dense)                (None, 128)          65664       universal_sentence_encoder[2][0] \n",
            "__________________________________________________________________________________________________\n",
            "bilstm (Bidirectional)          (None, 48)           9600        character_embedding[2][0]        \n",
            "__________________________________________________________________________________________________\n",
            "char_token_hybrid_embedding (Co (None, 176)          0           dense_26[0][0]                   \n",
            "                                                                 bilstm[0][0]                     \n",
            "__________________________________________________________________________________________________\n",
            "line_number_input (InputLayer)  [(None, 15)]         0                                            \n",
            "__________________________________________________________________________________________________\n",
            "total_lines_input (InputLayer)  [(None, 20)]         0                                            \n",
            "__________________________________________________________________________________________________\n",
            "combined_embeddings (Dense)     (None, 256)          45312       char_token_hybrid_embedding[0][0]\n",
            "__________________________________________________________________________________________________\n",
            "dense_lines (Dense)             (None, 32)           512         line_number_input[0][0]          \n",
            "__________________________________________________________________________________________________\n",
            "dense_total_lines (Dense)       (None, 32)           672         total_lines_input[0][0]          \n",
            "__________________________________________________________________________________________________\n",
            "dropout_8 (Dropout)             (None, 256)          0           combined_embeddings[0][0]        \n",
            "__________________________________________________________________________________________________\n",
            "char_token_positional_embedding (None, 320)          0           dense_lines[0][0]                \n",
            "                                                                 dense_total_lines[0][0]          \n",
            "                                                                 dropout_8[0][0]                  \n",
            "__________________________________________________________________________________________________\n",
            "output_layer (Dense)            (None, 5)            1605        char_token_positional_embedding[0\n",
            "==================================================================================================\n",
            "Total params: 256,921,889\n",
            "Trainable params: 124,065\n",
            "Non-trainable params: 256,797,824\n",
            "__________________________________________________________________________________________________\n"
          ]
        }
      ]
    },
    {
      "cell_type": "code",
      "metadata": {
        "colab": {
          "base_uri": "https://localhost:8080/",
          "height": 975
        },
        "id": "jInetuEJ-UY0",
        "outputId": "e96cd708-1c1a-4160-c27f-6827838dc0c0"
      },
      "source": [
        "# Plot model_5 to explor it visually\n",
        "tf.keras.utils.plot_model(model_5, show_shapes=True)"
      ],
      "execution_count": 237,
      "outputs": [
        {
          "output_type": "execute_result",
          "data": {
            "image/png": "[encoded data removed]",
            "text/plain": [
              "<IPython.core.display.Image object>"
            ]
          },
          "metadata": {},
          "execution_count": 237
        }
      ]
    },
    {
      "cell_type": "markdown",
      "metadata": {
        "id": "YLOWB83DBIUl"
      },
      "source": [
        "What is label smoothing?\n",
        "\n",
        "For example if our model gets too confident on a single class (e.g. its prediction probability is really high), it may get stuck on that class and not consider other clasess...\n",
        "\n",
        "Really confident: `[0.0, 0.0, 1.0, 0.0, 0.0]`\n",
        "\n",
        "What label smoothing does is it assigns some of the values of th highest pred prob to other classes, in turn, hopefully improving generalization: `[0.01, 0.01, 0.96, 0.01, 0.01]`\n",
        "\n",
        "> 📖 **Resource:** For more on label smoothing, see this blog post from PyImageSearch: https://www.pyimagesearch.com/2019/12/30/label-smoothing-with-keras-tensorflow-and-deep-learning/"
      ]
    },
    {
      "cell_type": "code",
      "metadata": {
        "id": "IAW6rzI2-bjb"
      },
      "source": [
        "# compile token, char and positional embedding model\n",
        "model_5.compile(loss = tf.keras.losses.CategoricalCrossentropy(label_smoothing=0.2), # helps to prevent overfitting\n",
        "                optimizer = tf.keras.optimizers.Adam(),\n",
        "                metrics = ['accuracy'])"
      ],
      "execution_count": 238,
      "outputs": []
    },
    {
      "cell_type": "markdown",
      "metadata": {
        "id": "I8pS6C8vCgf9"
      },
      "source": [
        "### Creating tribrid embedding datasets using tf.data"
      ]
    },
    {
      "cell_type": "code",
      "metadata": {
        "id": "hIfteD9jFB2-"
      },
      "source": [
        "# Combine line, total lines, chars and tokens into a dataset\n",
        "train_char_token_pos = tf.data.Dataset.from_tensor_slices((train_line_numbers_one_hot, # Order as model\n",
        "                                                  train_total_lines_one_hot,\n",
        "                                                  train_sentences,\n",
        "                                                  train_chars)) # Make data\n",
        "train_char_token_pos_labels = tf.data.Dataset.from_tensor_slices((train_labels_one_hot)) # Make labels\n",
        "train_char_token_pos_dataset = tf.data.Dataset.zip((train_char_token_pos, train_char_token_labels)) # Combine data and labels\n",
        "train_char_token_pos_dataset = train_char_token_pos_dataset.batch(32).prefetch(tf.data.AUTOTUNE)\n",
        "\n",
        "# Validation\n",
        "val_char_token_pos = tf.data.Dataset.from_tensor_slices((val_line_numbers_one_hot, # Order as model\n",
        "                                                  val_total_lines_one_hot,\n",
        "                                                  val_sentences,\n",
        "                                                  val_chars)) # Make data\n",
        "val_char_token_pos_labels = tf.data.Dataset.from_tensor_slices((val_labels_one_hot)) # Make labels\n",
        "val_char_token_pos_dataset = tf.data.Dataset.zip((val_char_token_pos, val_char_token_labels)) # Combine data and labels\n",
        "val_char_token_pos_dataset = val_char_token_pos_dataset.batch(32).prefetch(tf.data.AUTOTUNE)\n"
      ],
      "execution_count": 239,
      "outputs": []
    },
    {
      "cell_type": "code",
      "metadata": {
        "colab": {
          "base_uri": "https://localhost:8080/"
        },
        "id": "QdLdgEFPHz5Y",
        "outputId": "4f512f5f-2316-4726-c2ed-8b099e177de3"
      },
      "source": [
        "# Check input shapes\n",
        "train_char_token_pos_dataset, val_char_token_pos_dataset"
      ],
      "execution_count": 240,
      "outputs": [
        {
          "output_type": "execute_result",
          "data": {
            "text/plain": [
              "(<PrefetchDataset shapes: (((None, 15), (None, 20), (None,), (None,)), (None, 5)), types: ((tf.float32, tf.float32, tf.string, tf.string), tf.float64)>,\n",
              " <PrefetchDataset shapes: (((None, 15), (None, 20), (None,), (None,)), (None, 5)), types: ((tf.float32, tf.float32, tf.string, tf.string), tf.float64)>)"
            ]
          },
          "metadata": {},
          "execution_count": 240
        }
      ]
    },
    {
      "cell_type": "markdown",
      "metadata": {
        "id": "DsFj3iN1IQ9O"
      },
      "source": [
        "### Fitting, evaluating and making predictions with our tribid model"
      ]
    },
    {
      "cell_type": "code",
      "metadata": {
        "colab": {
          "base_uri": "https://localhost:8080/"
        },
        "id": "5LB2dtVvCdv4",
        "outputId": "19eb56bb-a4f9-4d3c-b540-43910bdac63a"
      },
      "source": [
        "history_model_5 = model_5.fit(train_char_token_pos_dataset,\n",
        "                              epochs = 3,\n",
        "                              steps_per_epoch = int(0.1 * len(train_char_token_pos_dataset)),\n",
        "                              validation_data = val_char_token_pos_dataset,\n",
        "                              validation_steps = int(0.1*len(val_char_token_pos_dataset)))"
      ],
      "execution_count": 241,
      "outputs": [
        {
          "output_type": "stream",
          "name": "stdout",
          "text": [
            "Epoch 1/3\n",
            "562/562 [==============================] - 72s 120ms/step - loss: 1.0978 - accuracy: 0.7243 - val_loss: 0.9838 - val_accuracy: 0.8015\n",
            "Epoch 2/3\n",
            "562/562 [==============================] - 67s 119ms/step - loss: 0.9664 - accuracy: 0.8149 - val_loss: 0.9498 - val_accuracy: 0.8261\n",
            "Epoch 3/3\n",
            "562/562 [==============================] - 67s 119ms/step - loss: 0.9510 - accuracy: 0.8228 - val_loss: 0.9381 - val_accuracy: 0.8348\n"
          ]
        }
      ]
    },
    {
      "cell_type": "code",
      "metadata": {
        "colab": {
          "base_uri": "https://localhost:8080/"
        },
        "id": "09BRlqlKI0ze",
        "outputId": "8c3922c2-3b58-4c64-eac1-c3e399f718ff"
      },
      "source": [
        "# Make predictions with the char token pos model\n",
        "model_5_pred_probs = model_5.predict(val_char_token_pos_dataset, verbose = 1)\n",
        "model_5_pred_probs"
      ],
      "execution_count": 242,
      "outputs": [
        {
          "output_type": "stream",
          "name": "stdout",
          "text": [
            "945/945 [==============================] - 52s 51ms/step\n"
          ]
        },
        {
          "output_type": "execute_result",
          "data": {
            "text/plain": [
              "array([[0.4983686 , 0.09119782, 0.01335137, 0.3776422 , 0.01944005],\n",
              "       [0.54916805, 0.0896777 , 0.0516488 , 0.29696903, 0.01253638],\n",
              "       [0.27952412, 0.08264296, 0.12659405, 0.43223506, 0.07900372],\n",
              "       ...,\n",
              "       [0.0361574 , 0.09815208, 0.04062245, 0.03368025, 0.7913878 ],\n",
              "       [0.03392944, 0.2962128 , 0.08753036, 0.02783924, 0.5544882 ],\n",
              "       [0.25649172, 0.5880318 , 0.07777806, 0.03687425, 0.04082419]],\n",
              "      dtype=float32)"
            ]
          },
          "metadata": {},
          "execution_count": 242
        }
      ]
    },
    {
      "cell_type": "code",
      "metadata": {
        "colab": {
          "base_uri": "https://localhost:8080/"
        },
        "id": "Ywy-gOoZJLkm",
        "outputId": "1f3e9ea8-bf83-4e7c-9217-726c52a120b2"
      },
      "source": [
        "# Conver pred probs to pred labels\n",
        "model_5_preds = tf.argmax(model_5_pred_probs, axis = 1)\n",
        "model_5_preds"
      ],
      "execution_count": 243,
      "outputs": [
        {
          "output_type": "execute_result",
          "data": {
            "text/plain": [
              "<tf.Tensor: shape=(30212,), dtype=int64, numpy=array([0, 0, 3, ..., 4, 4, 1])>"
            ]
          },
          "metadata": {},
          "execution_count": 243
        }
      ]
    },
    {
      "cell_type": "code",
      "metadata": {
        "colab": {
          "base_uri": "https://localhost:8080/"
        },
        "id": "LXIyOKvSJSMe",
        "outputId": "14387126-6fad-49e8-ddb2-4a775c65d598"
      },
      "source": [
        "# Calculate results of char token pos model\n",
        "model_5_results = calculate_results(y_true = val_labels_encoded,\n",
        "                                    y_pred = model_5_preds)\n",
        "model_5_results"
      ],
      "execution_count": 244,
      "outputs": [
        {
          "output_type": "execute_result",
          "data": {
            "text/plain": [
              "{'accuracy': 83.45359459817291,\n",
              " 'f1': 0.8334030350704446,\n",
              " 'precision': 0.8336604470731197,\n",
              " 'recall': 0.8345359459817291}"
            ]
          },
          "metadata": {},
          "execution_count": 244
        }
      ]
    },
    {
      "cell_type": "markdown",
      "metadata": {
        "id": "VeFPXEa3J8JG"
      },
      "source": [
        "## Compare model results"
      ]
    },
    {
      "cell_type": "code",
      "metadata": {
        "colab": {
          "base_uri": "https://localhost:8080/",
          "height": 232
        },
        "id": "pOa26YiyORfI",
        "outputId": "25a4b771-92a3-4d66-a72c-78aa409c4f0c"
      },
      "source": [
        "# Combine model results into a DataFrame\n",
        "all_model_results = pd.DataFrame({'model_0_baseline': baseline_results,\n",
        "                                  'model_1_custom_token_embedding': model_1_results,\n",
        "                                  'model_2_pretrained_token_embedding': model_2_results,\n",
        "                                  'model_3_custom_char_embedding': model_3_results,\n",
        "                                  'model_4_hybrid_char_token_embedding': model_4_results,\n",
        "                                  'model_5_pos_char_token_embedding': model_5_results})\n",
        "\n",
        "all_model_results = all_model_results.T\n",
        "all_model_results"
      ],
      "execution_count": 245,
      "outputs": [
        {
          "output_type": "execute_result",
          "data": {
            "text/html": [
              "<div>\n",
              "<style scoped>\n",
              "    .dataframe tbody tr th:only-of-type {\n",
              "        vertical-align: middle;\n",
              "    }\n",
              "\n",
              "    .dataframe tbody tr th {\n",
              "        vertical-align: top;\n",
              "    }\n",
              "\n",
              "    .dataframe thead th {\n",
              "        text-align: right;\n",
              "    }\n",
              "</style>\n",
              "<table border=\"1\" class=\"dataframe\">\n",
              "  <thead>\n",
              "    <tr style=\"text-align: right;\">\n",
              "      <th></th>\n",
              "      <th>accuracy</th>\n",
              "      <th>precision</th>\n",
              "      <th>recall</th>\n",
              "      <th>f1</th>\n",
              "    </tr>\n",
              "  </thead>\n",
              "  <tbody>\n",
              "    <tr>\n",
              "      <th>model_0_baseline</th>\n",
              "      <td>72.183238</td>\n",
              "      <td>0.718647</td>\n",
              "      <td>0.721832</td>\n",
              "      <td>0.698925</td>\n",
              "    </tr>\n",
              "    <tr>\n",
              "      <th>model_1_custom_token_embedding</th>\n",
              "      <td>78.770025</td>\n",
              "      <td>0.784714</td>\n",
              "      <td>0.787700</td>\n",
              "      <td>0.785611</td>\n",
              "    </tr>\n",
              "    <tr>\n",
              "      <th>model_2_pretrained_token_embedding</th>\n",
              "      <td>71.491460</td>\n",
              "      <td>0.715180</td>\n",
              "      <td>0.714915</td>\n",
              "      <td>0.711990</td>\n",
              "    </tr>\n",
              "    <tr>\n",
              "      <th>model_3_custom_char_embedding</th>\n",
              "      <td>68.886535</td>\n",
              "      <td>0.680484</td>\n",
              "      <td>0.688865</td>\n",
              "      <td>0.678701</td>\n",
              "    </tr>\n",
              "    <tr>\n",
              "      <th>model_4_hybrid_char_token_embedding</th>\n",
              "      <td>73.272210</td>\n",
              "      <td>0.733571</td>\n",
              "      <td>0.732722</td>\n",
              "      <td>0.730010</td>\n",
              "    </tr>\n",
              "    <tr>\n",
              "      <th>model_5_pos_char_token_embedding</th>\n",
              "      <td>83.453595</td>\n",
              "      <td>0.833660</td>\n",
              "      <td>0.834536</td>\n",
              "      <td>0.833403</td>\n",
              "    </tr>\n",
              "  </tbody>\n",
              "</table>\n",
              "</div>"
            ],
            "text/plain": [
              "                                      accuracy  precision    recall        f1\n",
              "model_0_baseline                     72.183238   0.718647  0.721832  0.698925\n",
              "model_1_custom_token_embedding       78.770025   0.784714  0.787700  0.785611\n",
              "model_2_pretrained_token_embedding   71.491460   0.715180  0.714915  0.711990\n",
              "model_3_custom_char_embedding        68.886535   0.680484  0.688865  0.678701\n",
              "model_4_hybrid_char_token_embedding  73.272210   0.733571  0.732722  0.730010\n",
              "model_5_pos_char_token_embedding     83.453595   0.833660  0.834536  0.833403"
            ]
          },
          "metadata": {},
          "execution_count": 245
        }
      ]
    },
    {
      "cell_type": "code",
      "metadata": {
        "id": "fS9yfFRXOujg"
      },
      "source": [
        "# Reduce the acc to same scale as other metrics\n",
        "all_model_results['accuracy'] = all_model_results['accuracy']/100"
      ],
      "execution_count": 246,
      "outputs": []
    },
    {
      "cell_type": "code",
      "metadata": {
        "colab": {
          "base_uri": "https://localhost:8080/",
          "height": 618
        },
        "id": "bFTj1CAfPNIY",
        "outputId": "ede63103-5c68-4a24-db0e-1c8a8495f2d6"
      },
      "source": [
        "# Plot and compare all model results\n",
        "all_model_results.plot(kind='bar', figsize = (10, 7)).legend(bbox_to_anchor = (1.0, 1.0));"
      ],
      "execution_count": 247,
      "outputs": [
        {
          "output_type": "display_data",
          "data": {
            "image/png": "[encoded data removed]",
            "text/plain": [
              "<Figure size 720x504 with 1 Axes>"
            ]
          },
          "metadata": {
            "needs_background": "light"
          }
        }
      ]
    },
    {
      "cell_type": "code",
      "metadata": {
        "colab": {
          "base_uri": "https://localhost:8080/",
          "height": 618
        },
        "id": "W7D4z0S3PZfR",
        "outputId": "1eb64282-afd2-4f26-c92c-6f1413bf17a2"
      },
      "source": [
        "# Sort models results by f1-score\n",
        "all_model_results.sort_values('f1', ascending=True)['f1'].plot(kind='bar', figsize = (10, 7 ));"
      ],
      "execution_count": 248,
      "outputs": [
        {
          "output_type": "display_data",
          "data": {
            "image/png": "[encoded data removed]",
            "text/plain": [
              "<Figure size 720x504 with 1 Axes>"
            ]
          },
          "metadata": {
            "needs_background": "light"
          }
        }
      ]
    },
    {
      "cell_type": "markdown",
      "metadata": {
        "id": "W1lI8PDhRC7v"
      },
      "source": [
        "## Model 6 : Custom Token Embedding + Char Embedding + Positional Embedding\n",
        "\n",
        "The custom embedding is a experiment worth to test on our tribid model"
      ]
    },
    {
      "cell_type": "code",
      "metadata": {
        "id": "oAXOYaPkSslo"
      },
      "source": [
        "# Create token emebedding\n",
        "token_embedding = layers.Embedding(input_dim=len(rct_20k_text_vocab),\n",
        "                                   output_dim = 128, # Note different embedding sizes results in drastically different numbers of params\n",
        "                                   mask_zero = False, # use masking to handle variables sequences lengths(save space)\n",
        "                                   name = 'token_embedding'\n",
        "                                   )"
      ],
      "execution_count": 249,
      "outputs": []
    },
    {
      "cell_type": "code",
      "metadata": {
        "id": "1GFJRzmVRReZ"
      },
      "source": [
        "# 1. Token embedding inputs\n",
        "token_inputs = layers.Input(shape = (1, ), dtype='string', name ='token_inputs')\n",
        "text_vectors = text_vectorizer(token_inputs) # Vectorize text inputs\n",
        "token_embed = token_embedding(text_vectors) # create embedding\n",
        "x = layers.Conv1D(64, kernel_size=5, padding='same', activation='relu')(token_embed)\n",
        "x = layers.GlobalAveragePooling1D()(x) # condense the output of our feature vector from conv layer\n",
        "token_model = tf.keras.Model(inputs = token_inputs, outputs = x)\n",
        "\n",
        "# 2. Char inputs\n",
        "char_inputs = layers.Input(shape = (1, ), dtype='string', name = 'char_inputs')\n",
        "char_vectors = char_vectorizer(char_inputs)\n",
        "char_embedding = char_embed(char_vectors)\n",
        "char_bi_lstm = layers.Bidirectional(layers.LSTM(24), name='bilstm')(char_embedding)\n",
        "char_model = tf.keras.Model(inputs = char_inputs,\n",
        "                            outputs = char_bi_lstm)\n",
        "\n",
        "# 3. Line numbers model\n",
        "line_number_inputs = layers.Input(shape = (15, ), dtype=tf.float32, name = 'line_number_input')\n",
        "line_number_dense = layers.Dense(32, activation='relu')(line_number_inputs)\n",
        "line_number_model = tf.keras.Model(inputs = line_number_inputs,\n",
        "                                   outputs = line_number_dense)\n",
        "\n",
        "# 4. Total lines\n",
        "total_lines_inputs = layers.Input(shape = (20, ), dtype='float', name = 'total_lines_input')\n",
        "total_lines_dense = layers.Dense(32, activation='relu')(total_lines_inputs)\n",
        "total_lines_model = tf.keras.Model(inputs = total_lines_inputs,\n",
        "                                   outputs = total_lines_dense)\n",
        "\n",
        "# 5. Combine token and char embeddings into a hybrid embedding\n",
        "combined_embeddings = layers.Concatenate(name='char_token_hybrid_embedding')([token_model.output,\n",
        "                                                                              char_model.output])\n",
        "z = layers.Dense(256, activation='relu')(combined_embeddings)\n",
        "z = layers.Dropout(0.5)(z)\n",
        "\n",
        "# 6. Combine positional embedding with combined token and char embeddings\n",
        "tribrid_embeddings = layers.Concatenate(name = 'char_token_positional_embedding')([line_number_model.output, # For models you take the output\n",
        "                                                                                   total_lines_model.output,\n",
        "                                                                                   z]) # For layer you already took the output\n",
        "\n",
        "# 7. Create output layer\n",
        "output_layer = layers.Dense(5, activation='softmax', name='output_layer')(tribrid_embeddings)\n",
        "\n",
        "# 8. Put together model with all kinds of inputs\n",
        "model_6 = tf.keras.Model(inputs = [line_number_model.input, # Order according to the concat\n",
        "                                   total_lines_model.input,\n",
        "                                   token_model.input,\n",
        "                                   char_model.input],\n",
        "                         outputs = output_layer)"
      ],
      "execution_count": 250,
      "outputs": []
    },
    {
      "cell_type": "code",
      "metadata": {
        "colab": {
          "base_uri": "https://localhost:8080/"
        },
        "id": "RauDAzghUT6R",
        "outputId": "fdf68a87-1331-47a5-e284-b725dcaba438"
      },
      "source": [
        "# Get Summary\n",
        "model_6.summary()"
      ],
      "execution_count": 251,
      "outputs": [
        {
          "output_type": "stream",
          "name": "stdout",
          "text": [
            "Model: \"model_31\"\n",
            "__________________________________________________________________________________________________\n",
            "Layer (type)                    Output Shape         Param #     Connected to                     \n",
            "==================================================================================================\n",
            "token_inputs (InputLayer)       [(None, 1)]          0                                            \n",
            "__________________________________________________________________________________________________\n",
            "text_vectorization_1 (TextVecto (None, 55)           0           token_inputs[0][0]               \n",
            "__________________________________________________________________________________________________\n",
            "char_inputs (InputLayer)        [(None, 1)]          0                                            \n",
            "__________________________________________________________________________________________________\n",
            "token_embedding (Embedding)     (None, 55, 128)      8299648     text_vectorization_1[1][0]       \n",
            "__________________________________________________________________________________________________\n",
            "char_vectorizer (TextVectorizat (None, 290)          0           char_inputs[0][0]                \n",
            "__________________________________________________________________________________________________\n",
            "conv1d_5 (Conv1D)               (None, 55, 64)       41024       token_embedding[0][0]            \n",
            "__________________________________________________________________________________________________\n",
            "character_embedding (Embedding) (None, 290, 25)      700         char_vectorizer[3][0]            \n",
            "__________________________________________________________________________________________________\n",
            "global_average_pooling1d_3 (Glo (None, 64)           0           conv1d_5[0][0]                   \n",
            "__________________________________________________________________________________________________\n",
            "bilstm (Bidirectional)          (None, 48)           9600        character_embedding[3][0]        \n",
            "__________________________________________________________________________________________________\n",
            "char_token_hybrid_embedding (Co (None, 112)          0           global_average_pooling1d_3[0][0] \n",
            "                                                                 bilstm[0][0]                     \n",
            "__________________________________________________________________________________________________\n",
            "line_number_input (InputLayer)  [(None, 15)]         0                                            \n",
            "__________________________________________________________________________________________________\n",
            "total_lines_input (InputLayer)  [(None, 20)]         0                                            \n",
            "__________________________________________________________________________________________________\n",
            "dense_29 (Dense)                (None, 256)          28928       char_token_hybrid_embedding[0][0]\n",
            "__________________________________________________________________________________________________\n",
            "dense_27 (Dense)                (None, 32)           512         line_number_input[0][0]          \n",
            "__________________________________________________________________________________________________\n",
            "dense_28 (Dense)                (None, 32)           672         total_lines_input[0][0]          \n",
            "__________________________________________________________________________________________________\n",
            "dropout_9 (Dropout)             (None, 256)          0           dense_29[0][0]                   \n",
            "__________________________________________________________________________________________________\n",
            "char_token_positional_embedding (None, 320)          0           dense_27[0][0]                   \n",
            "                                                                 dense_28[0][0]                   \n",
            "                                                                 dropout_9[0][0]                  \n",
            "__________________________________________________________________________________________________\n",
            "output_layer (Dense)            (None, 5)            1605        char_token_positional_embedding[0\n",
            "==================================================================================================\n",
            "Total params: 8,382,689\n",
            "Trainable params: 8,382,689\n",
            "Non-trainable params: 0\n",
            "__________________________________________________________________________________________________\n"
          ]
        }
      ]
    },
    {
      "cell_type": "code",
      "metadata": {
        "colab": {
          "base_uri": "https://localhost:8080/",
          "height": 1000
        },
        "id": "lBsBHLwPUWvi",
        "outputId": "8563d6a7-c54e-4098-9b81-8a36f54ad3a3"
      },
      "source": [
        "# Plot model_6 to explore it visually\n",
        "tf.keras.utils.plot_model(model_6, show_shapes=True)"
      ],
      "execution_count": 252,
      "outputs": [
        {
          "output_type": "execute_result",
          "data": {
            "image/png": "[encoded data removed]",
            "text/plain": [
              "<IPython.core.display.Image object>"
            ]
          },
          "metadata": {},
          "execution_count": 252
        }
      ]
    },
    {
      "cell_type": "code",
      "metadata": {
        "id": "gt1dmwnnUgoB"
      },
      "source": [
        "# compile token, char and positional embedding model\n",
        "model_6.compile(loss = tf.keras.losses.CategoricalCrossentropy(label_smoothing=0.2), # helps to prevent overfitting\n",
        "                optimizer = tf.keras.optimizers.Adam(),\n",
        "                metrics = ['accuracy'])"
      ],
      "execution_count": 253,
      "outputs": []
    },
    {
      "cell_type": "code",
      "metadata": {
        "colab": {
          "base_uri": "https://localhost:8080/"
        },
        "id": "1n1bJKbEUwBB",
        "outputId": "a1ba875a-8275-42c0-de1f-54267b452732"
      },
      "source": [
        "history_model_6 = model_6.fit(train_char_token_pos_dataset,\n",
        "                              epochs = 3,\n",
        "                              steps_per_epoch = int(0.1 * len(train_char_token_pos_dataset)),\n",
        "                              validation_data = val_char_token_pos_dataset,\n",
        "                              validation_steps = int(0.1*len(val_char_token_pos_dataset)))"
      ],
      "execution_count": 254,
      "outputs": [
        {
          "output_type": "stream",
          "name": "stdout",
          "text": [
            "Epoch 1/3\n",
            "562/562 [==============================] - 72s 120ms/step - loss: 1.1095 - accuracy: 0.7094 - val_loss: 0.9511 - val_accuracy: 0.8268\n",
            "Epoch 2/3\n",
            "562/562 [==============================] - 67s 119ms/step - loss: 0.9497 - accuracy: 0.8317 - val_loss: 0.9314 - val_accuracy: 0.8348\n",
            "Epoch 3/3\n",
            "562/562 [==============================] - 67s 119ms/step - loss: 0.9285 - accuracy: 0.8434 - val_loss: 0.9137 - val_accuracy: 0.8441\n"
          ]
        }
      ]
    },
    {
      "cell_type": "code",
      "metadata": {
        "colab": {
          "base_uri": "https://localhost:8080/"
        },
        "id": "qDG1bUH1U1o5",
        "outputId": "4376e447-c3b1-4d1e-f027-f441c115ea14"
      },
      "source": [
        "# Make predictions with the char token pos model\n",
        "model_6_pred_probs = model_6.predict(val_char_token_pos_dataset, verbose = 1)\n",
        "model_6_pred_probs"
      ],
      "execution_count": 255,
      "outputs": [
        {
          "output_type": "stream",
          "name": "stdout",
          "text": [
            "945/945 [==============================] - 39s 41ms/step\n"
          ]
        },
        {
          "output_type": "execute_result",
          "data": {
            "text/plain": [
              "array([[0.43707907, 0.07131559, 0.03670114, 0.42031395, 0.03459018],\n",
              "       [0.43103683, 0.10766388, 0.06946138, 0.36584195, 0.02599602],\n",
              "       [0.2519927 , 0.07760977, 0.09664772, 0.5481574 , 0.02559242],\n",
              "       ...,\n",
              "       [0.02640562, 0.05650877, 0.02936042, 0.02516961, 0.86255556],\n",
              "       [0.05113426, 0.64915377, 0.05217572, 0.03557731, 0.21195884],\n",
              "       [0.08420939, 0.7883436 , 0.04231182, 0.04269993, 0.04243535]],\n",
              "      dtype=float32)"
            ]
          },
          "metadata": {},
          "execution_count": 255
        }
      ]
    },
    {
      "cell_type": "code",
      "metadata": {
        "colab": {
          "base_uri": "https://localhost:8080/"
        },
        "id": "7mVoVUUIU-Ty",
        "outputId": "6236eb52-f3af-4f14-e1f5-ec97bd1f72e4"
      },
      "source": [
        "# Conver pred probs to pred labels\n",
        "model_6_preds = tf.argmax(model_6_pred_probs, axis = 1)\n",
        "model_6_preds"
      ],
      "execution_count": 256,
      "outputs": [
        {
          "output_type": "execute_result",
          "data": {
            "text/plain": [
              "<tf.Tensor: shape=(30212,), dtype=int64, numpy=array([0, 0, 3, ..., 4, 1, 1])>"
            ]
          },
          "metadata": {},
          "execution_count": 256
        }
      ]
    },
    {
      "cell_type": "code",
      "metadata": {
        "colab": {
          "base_uri": "https://localhost:8080/"
        },
        "id": "JZ69oDEPVC9S",
        "outputId": "05930a5d-c171-40d0-dd35-b0532f75e0d4"
      },
      "source": [
        "# Calculate results of char token pos model\n",
        "model_6_results = calculate_results(y_true = val_labels_encoded,\n",
        "                                    y_pred = model_6_preds)\n",
        "model_6_results"
      ],
      "execution_count": 257,
      "outputs": [
        {
          "output_type": "execute_result",
          "data": {
            "text/plain": [
              "{'accuracy': 85.26082351383556,\n",
              " 'f1': 0.8514539701644664,\n",
              " 'precision': 0.8508125492346038,\n",
              " 'recall': 0.8526082351383556}"
            ]
          },
          "metadata": {},
          "execution_count": 257
        }
      ]
    },
    {
      "cell_type": "code",
      "metadata": {
        "id": "HPM640tsVHXa"
      },
      "source": [
        "model_6_res = pd.DataFrame({'model_6_pos_char_token_cust_embedding':model_6_results}).T\n",
        "model_6_res['accuracy'] = model_6_res['accuracy']/100\n",
        "all_model_results = pd.concat([all_model_results, model_6_res], axis = 0)"
      ],
      "execution_count": 258,
      "outputs": []
    },
    {
      "cell_type": "code",
      "metadata": {
        "colab": {
          "base_uri": "https://localhost:8080/",
          "height": 263
        },
        "id": "aNX6hc9XWJ7O",
        "outputId": "9b19460c-18f4-41c6-ccfd-f119f130ab0c"
      },
      "source": [
        "all_model_results"
      ],
      "execution_count": 259,
      "outputs": [
        {
          "output_type": "execute_result",
          "data": {
            "text/html": [
              "<div>\n",
              "<style scoped>\n",
              "    .dataframe tbody tr th:only-of-type {\n",
              "        vertical-align: middle;\n",
              "    }\n",
              "\n",
              "    .dataframe tbody tr th {\n",
              "        vertical-align: top;\n",
              "    }\n",
              "\n",
              "    .dataframe thead th {\n",
              "        text-align: right;\n",
              "    }\n",
              "</style>\n",
              "<table border=\"1\" class=\"dataframe\">\n",
              "  <thead>\n",
              "    <tr style=\"text-align: right;\">\n",
              "      <th></th>\n",
              "      <th>accuracy</th>\n",
              "      <th>precision</th>\n",
              "      <th>recall</th>\n",
              "      <th>f1</th>\n",
              "    </tr>\n",
              "  </thead>\n",
              "  <tbody>\n",
              "    <tr>\n",
              "      <th>model_0_baseline</th>\n",
              "      <td>0.721832</td>\n",
              "      <td>0.718647</td>\n",
              "      <td>0.721832</td>\n",
              "      <td>0.698925</td>\n",
              "    </tr>\n",
              "    <tr>\n",
              "      <th>model_1_custom_token_embedding</th>\n",
              "      <td>0.787700</td>\n",
              "      <td>0.784714</td>\n",
              "      <td>0.787700</td>\n",
              "      <td>0.785611</td>\n",
              "    </tr>\n",
              "    <tr>\n",
              "      <th>model_2_pretrained_token_embedding</th>\n",
              "      <td>0.714915</td>\n",
              "      <td>0.715180</td>\n",
              "      <td>0.714915</td>\n",
              "      <td>0.711990</td>\n",
              "    </tr>\n",
              "    <tr>\n",
              "      <th>model_3_custom_char_embedding</th>\n",
              "      <td>0.688865</td>\n",
              "      <td>0.680484</td>\n",
              "      <td>0.688865</td>\n",
              "      <td>0.678701</td>\n",
              "    </tr>\n",
              "    <tr>\n",
              "      <th>model_4_hybrid_char_token_embedding</th>\n",
              "      <td>0.732722</td>\n",
              "      <td>0.733571</td>\n",
              "      <td>0.732722</td>\n",
              "      <td>0.730010</td>\n",
              "    </tr>\n",
              "    <tr>\n",
              "      <th>model_5_pos_char_token_embedding</th>\n",
              "      <td>0.834536</td>\n",
              "      <td>0.833660</td>\n",
              "      <td>0.834536</td>\n",
              "      <td>0.833403</td>\n",
              "    </tr>\n",
              "    <tr>\n",
              "      <th>model_6_pos_char_token_cust_embedding</th>\n",
              "      <td>0.852608</td>\n",
              "      <td>0.850813</td>\n",
              "      <td>0.852608</td>\n",
              "      <td>0.851454</td>\n",
              "    </tr>\n",
              "  </tbody>\n",
              "</table>\n",
              "</div>"
            ],
            "text/plain": [
              "                                       accuracy  precision    recall        f1\n",
              "model_0_baseline                       0.721832   0.718647  0.721832  0.698925\n",
              "model_1_custom_token_embedding         0.787700   0.784714  0.787700  0.785611\n",
              "model_2_pretrained_token_embedding     0.714915   0.715180  0.714915  0.711990\n",
              "model_3_custom_char_embedding          0.688865   0.680484  0.688865  0.678701\n",
              "model_4_hybrid_char_token_embedding    0.732722   0.733571  0.732722  0.730010\n",
              "model_5_pos_char_token_embedding       0.834536   0.833660  0.834536  0.833403\n",
              "model_6_pos_char_token_cust_embedding  0.852608   0.850813  0.852608  0.851454"
            ]
          },
          "metadata": {},
          "execution_count": 259
        }
      ]
    },
    {
      "cell_type": "markdown",
      "metadata": {
        "id": "DEDaC18GWP3h"
      },
      "source": [
        "## Save and Load"
      ]
    },
    {
      "cell_type": "code",
      "metadata": {
        "colab": {
          "base_uri": "https://localhost:8080/"
        },
        "id": "4vQHbDHSWSxK",
        "outputId": "bb0b7819-7dbc-407a-d1bc-2380ff5b4138"
      },
      "source": [
        "#Save the best performing model to SaveModel format\n",
        "model_5.save('skimlit_tribid_model_5', save_format='tf', )"
      ],
      "execution_count": null,
      "outputs": [
        {
          "output_type": "stream",
          "name": "stderr",
          "text": [
            "WARNING:absl:Found untraced functions such as lstm_cell_34_layer_call_and_return_conditional_losses, lstm_cell_34_layer_call_fn, lstm_cell_35_layer_call_and_return_conditional_losses, lstm_cell_35_layer_call_fn, lstm_cell_34_layer_call_fn while saving (showing 5 of 10). These functions will not be directly callable after loading.\n"
          ]
        }
      ]
    },
    {
      "cell_type": "code",
      "metadata": {
        "id": "HnolvVUMWpLS"
      },
      "source": [
        "# Load in best performing model\n",
        "loaded_model = tf.keras.models.load_model('skimlit_tribid_model_5')"
      ],
      "execution_count": null,
      "outputs": []
    },
    {
      "cell_type": "code",
      "metadata": {
        "id": "sy4hkHMqXDK6"
      },
      "source": [
        "# Make predictions\n",
        "loaded_pred_probs = loaded_model.predict(val_char_pos_token_pos_dataset)\n",
        "loaded_pred_probs = tf.argmax(loaded_pred_probs, axis = 1)\n",
        "loaded_pred_probs[:10]"
      ],
      "execution_count": null,
      "outputs": []
    },
    {
      "cell_type": "code",
      "metadata": {
        "id": "2kozr1p0YFNp"
      },
      "source": [
        "# Calculate the results\n",
        "loaded_model_results = calculate_results(y_true = val_labels_encoded,\n",
        "                                         y_pred = loaded_preds)\n",
        "loaded_model_results"
      ],
      "execution_count": null,
      "outputs": []
    },
    {
      "cell_type": "code",
      "metadata": {
        "id": "ANKbTAFBbGt7"
      },
      "source": [
        "assert model_5_results == loaded_model_results"
      ],
      "execution_count": null,
      "outputs": []
    }
  ]
}