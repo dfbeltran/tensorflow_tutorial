{
 "cells": [
  {
   "cell_type": "markdown",
   "id": "c27cf4f7-0743-4466-a070-60cebebe34ef",
   "metadata": {},
   "source": [
    "# Transfer Learning with TensorFlow - Fine-Tuning\n",
    "\n",
    "In the previous notebook, we covered transfer learning feature extraction, now it's time to learn about a new kind of transfer learning: Fine-tuning"
   ]
  },
  {
   "cell_type": "markdown",
   "id": "659c1786-ed7e-46cb-ad2d-804d8e702449",
   "metadata": {},
   "source": [
    "## Creating helper functions\n",
    "\n",
    "In previous notebooks, we've created a bunch of helper functions, now we could rewrite them all, however this is tedious.\n",
    "\n",
    "So, it's a good idea to put functions you'll want to use again in a script you can download and import into your notebooks (or elsewhere)."
   ]
  },
  {
   "cell_type": "code",
   "execution_count": 1,
   "id": "800a5819-31a7-4aba-85ce-2fbcbc869f78",
   "metadata": {},
   "outputs": [
    {
     "name": "stdout",
     "output_type": "stream",
     "text": [
      "\n",
      "Saved under helper_functions (1).py\n"
     ]
    }
   ],
   "source": [
    "!python -m wget -O https://raw.githubusercontent.com/mrdbourke/tensorflow-deep-learning/main/extras/helper_functions.py"
   ]
  },
  {
   "cell_type": "code",
   "execution_count": 1,
   "id": "48dde2a3-86ba-4b24-938b-531d29a54eee",
   "metadata": {},
   "outputs": [],
   "source": [
    "# Import helper functions we're going to use in this notebook\n",
    "from helper_functions import create_tensorboard_callback, plot_loss_curves, unzip_data, walk_through_dir\n",
    "%matplotlib inline"
   ]
  },
  {
   "cell_type": "markdown",
   "id": "fd36440a-2faa-4159-9abf-b43d87576787",
   "metadata": {},
   "source": [
    "> 🔑 **Note:** If you're running this notebook in Google Colab, when time out Colab will delete `helper_functions.py`, so you'll have to redownload it if you want to access your helper functions"
   ]
  },
  {
   "cell_type": "markdown",
   "id": "f4b4b504-9cbe-4e2f-be2f-ee9f3b80aab1",
   "metadata": {},
   "source": [
    "## Let's get some data\n",
    "\n",
    "This time we're going to see how we can use the pretrained models within `tf.keras.applications` and apply them to our own problem (recognizing images of food)."
   ]
  },
  {
   "cell_type": "code",
   "execution_count": 3,
   "id": "fc55bb68-b49a-4146-badc-cc88fc807da3",
   "metadata": {},
   "outputs": [
    {
     "name": "stdout",
     "output_type": "stream",
     "text": [
      "\n",
      "Saved under 10_food_classes_10_percent.zip\n"
     ]
    }
   ],
   "source": [
    "# Get 10% of training data of 10 classes of Food 101\n",
    "!python -m wget https://storage.googleapis.com/ztm_tf_course/food_vision/10_food_classes_10_percent.zip\n",
    "\n",
    "unzip_data('10_food_classes_10_percent.zip')"
   ]
  },
  {
   "cell_type": "code",
   "execution_count": 2,
   "id": "d2e4869f-44d3-46c8-9a01-760ad2d6039c",
   "metadata": {},
   "outputs": [
    {
     "name": "stdout",
     "output_type": "stream",
     "text": [
      "There are 2 directories and 0 images in '10_food_classes_10_percent'.\n",
      "There are 10 directories and 0 images in '10_food_classes_10_percent\\test'.\n",
      "There are 0 directories and 250 images in '10_food_classes_10_percent\\test\\chicken_curry'.\n",
      "There are 0 directories and 250 images in '10_food_classes_10_percent\\test\\chicken_wings'.\n",
      "There are 0 directories and 250 images in '10_food_classes_10_percent\\test\\fried_rice'.\n",
      "There are 0 directories and 250 images in '10_food_classes_10_percent\\test\\grilled_salmon'.\n",
      "There are 0 directories and 250 images in '10_food_classes_10_percent\\test\\hamburger'.\n",
      "There are 0 directories and 250 images in '10_food_classes_10_percent\\test\\ice_cream'.\n",
      "There are 0 directories and 250 images in '10_food_classes_10_percent\\test\\pizza'.\n",
      "There are 0 directories and 250 images in '10_food_classes_10_percent\\test\\ramen'.\n",
      "There are 0 directories and 250 images in '10_food_classes_10_percent\\test\\steak'.\n",
      "There are 0 directories and 250 images in '10_food_classes_10_percent\\test\\sushi'.\n",
      "There are 10 directories and 0 images in '10_food_classes_10_percent\\train'.\n",
      "There are 0 directories and 75 images in '10_food_classes_10_percent\\train\\chicken_curry'.\n",
      "There are 0 directories and 75 images in '10_food_classes_10_percent\\train\\chicken_wings'.\n",
      "There are 0 directories and 75 images in '10_food_classes_10_percent\\train\\fried_rice'.\n",
      "There are 0 directories and 75 images in '10_food_classes_10_percent\\train\\grilled_salmon'.\n",
      "There are 0 directories and 75 images in '10_food_classes_10_percent\\train\\hamburger'.\n",
      "There are 0 directories and 75 images in '10_food_classes_10_percent\\train\\ice_cream'.\n",
      "There are 0 directories and 75 images in '10_food_classes_10_percent\\train\\pizza'.\n",
      "There are 0 directories and 75 images in '10_food_classes_10_percent\\train\\ramen'.\n",
      "There are 0 directories and 75 images in '10_food_classes_10_percent\\train\\steak'.\n",
      "There are 0 directories and 75 images in '10_food_classes_10_percent\\train\\sushi'.\n"
     ]
    }
   ],
   "source": [
    "# Check out how many images and subdirectories are in our dataset\n",
    "walk_through_dir('10_food_classes_10_percent')"
   ]
  },
  {
   "cell_type": "code",
   "execution_count": 3,
   "id": "091a5754-62db-4452-8a7f-db42eef701a1",
   "metadata": {},
   "outputs": [],
   "source": [
    "# Create training and test directory paths\n",
    "train_dir = '10_food_classes_10_percent/train/'\n",
    "test_dir = '10_food_classes_10_percent/test/'"
   ]
  },
  {
   "cell_type": "code",
   "execution_count": 4,
   "id": "8e36b9c4-e0d6-4447-9ae9-03a09f021a8a",
   "metadata": {},
   "outputs": [
    {
     "name": "stdout",
     "output_type": "stream",
     "text": [
      "Found 750 files belonging to 10 classes.\n",
      "Found 2500 files belonging to 10 classes.\n"
     ]
    }
   ],
   "source": [
    "import tensorflow as tf\n",
    "\n",
    "IMG_SIZE = (224, 224)\n",
    "BATCH_SIZE = 32\n",
    "\n",
    "train_data_10_percent = tf.keras.utils.image_dataset_from_directory(directory = train_dir, \n",
    "                                                                   image_size = IMG_SIZE,\n",
    "                                                                   label_mode = 'categorical',\n",
    "                                                                   batch_size = BATCH_SIZE)\n",
    "\n",
    "test_data = tf.keras.utils.image_dataset_from_directory(directory = test_dir,\n",
    "                                                       image_size = IMG_SIZE,\n",
    "                                                       label_mode = 'categorical',\n",
    "                                                       batch_size = BATCH_SIZE)"
   ]
  },
  {
   "cell_type": "code",
   "execution_count": 5,
   "id": "4aac9b14-5250-4409-b6e7-f4a464ecab63",
   "metadata": {},
   "outputs": [
    {
     "data": {
      "text/plain": [
       "<BatchDataset shapes: ((None, 224, 224, 3), (None, 10)), types: (tf.float32, tf.float32)>"
      ]
     },
     "execution_count": 5,
     "metadata": {},
     "output_type": "execute_result"
    }
   ],
   "source": [
    "train_data_10_percent"
   ]
  },
  {
   "cell_type": "code",
   "execution_count": 6,
   "id": "d736e854-77c3-4567-a407-8ab23e173384",
   "metadata": {},
   "outputs": [
    {
     "data": {
      "text/plain": [
       "['chicken_curry',\n",
       " 'chicken_wings',\n",
       " 'fried_rice',\n",
       " 'grilled_salmon',\n",
       " 'hamburger',\n",
       " 'ice_cream',\n",
       " 'pizza',\n",
       " 'ramen',\n",
       " 'steak',\n",
       " 'sushi']"
      ]
     },
     "execution_count": 6,
     "metadata": {},
     "output_type": "execute_result"
    }
   ],
   "source": [
    "# Check out class names of our dataset\n",
    "train_data_10_percent.class_names"
   ]
  },
  {
   "cell_type": "code",
   "execution_count": 7,
   "id": "d271b7fe-08f6-4e57-8544-55b551710e9f",
   "metadata": {
    "scrolled": true,
    "tags": []
   },
   "outputs": [
    {
     "name": "stdout",
     "output_type": "stream",
     "text": [
      "tf.Tensor(\n",
      "[[[[1.85867348e+01 1.95867348e+01 1.15867348e+01]\n",
      "   [2.02857151e+01 2.12857151e+01 1.32857141e+01]\n",
      "   [2.20765305e+01 2.30765305e+01 1.50765305e+01]\n",
      "   ...\n",
      "   [5.71631050e+01 4.85916328e+01 3.93773689e+01]\n",
      "   [5.68469772e+01 4.65867233e+01 3.66581650e+01]\n",
      "   [6.36021919e+01 4.89133492e+01 3.81429634e+01]]\n",
      "\n",
      "  [[1.99285717e+01 2.09285717e+01 1.29285717e+01]\n",
      "   [1.99285717e+01 2.09285717e+01 1.29285717e+01]\n",
      "   [2.07857151e+01 2.17857151e+01 1.37857141e+01]\n",
      "   ...\n",
      "   [7.09337311e+01 6.23622589e+01 5.31479950e+01]\n",
      "   [5.95816078e+01 4.97244644e+01 3.96530380e+01]\n",
      "   [6.29898491e+01 5.12755661e+01 3.93469925e+01]]\n",
      "\n",
      "  [[1.82142868e+01 1.92142868e+01 1.12142859e+01]\n",
      "   [1.82142868e+01 1.92142868e+01 1.12142859e+01]\n",
      "   [1.72142868e+01 1.82142868e+01 1.02142859e+01]\n",
      "   ...\n",
      "   [5.28775864e+01 4.59898567e+01 3.47551498e+01]\n",
      "   [7.24488907e+01 6.60203171e+01 5.42346039e+01]\n",
      "   [5.77091408e+01 5.12805710e+01 3.94948540e+01]]\n",
      "\n",
      "  ...\n",
      "\n",
      "  [[1.01428566e+02 1.02428566e+02 9.64285660e+01]\n",
      "   [1.04642853e+02 1.05642853e+02 9.96428528e+01]\n",
      "   [1.08168358e+02 1.09168358e+02 1.03168358e+02]\n",
      "   ...\n",
      "   [1.10785675e+02 1.15785675e+02 1.09785675e+02]\n",
      "   [1.06372429e+02 1.11372429e+02 1.05372429e+02]\n",
      "   [1.03928467e+02 1.08928467e+02 1.02928467e+02]]\n",
      "\n",
      "  [[9.91173172e+01 1.00117317e+02 9.41173172e+01]\n",
      "   [1.02066292e+02 1.03066292e+02 9.70662918e+01]\n",
      "   [1.06285698e+02 1.07285698e+02 1.01285698e+02]\n",
      "   ...\n",
      "   [1.06627457e+02 1.11627457e+02 1.05627457e+02]\n",
      "   [1.03076515e+02 1.08076515e+02 1.02076515e+02]\n",
      "   [1.02402962e+02 1.07402962e+02 1.01402962e+02]]\n",
      "\n",
      "  [[9.82295990e+01 9.92295990e+01 9.32295990e+01]\n",
      "   [1.01857147e+02 1.02857147e+02 9.68571472e+01]\n",
      "   [1.06214287e+02 1.07214287e+02 1.01214287e+02]\n",
      "   ...\n",
      "   [1.00857117e+02 1.05857117e+02 9.98571167e+01]\n",
      "   [1.02765266e+02 1.07765266e+02 1.01765266e+02]\n",
      "   [9.77142944e+01 1.02714294e+02 9.67142944e+01]]]\n",
      "\n",
      "\n",
      " [[[5.86173477e+01 4.40000000e+01 8.66173477e+01]\n",
      "   [6.47142868e+01 4.10255089e+01 9.20714264e+01]\n",
      "   [7.22959213e+01 3.94285698e+01 9.64897919e+01]\n",
      "   ...\n",
      "   [5.90000000e+01 2.80000000e+01 8.77193832e+01]\n",
      "   [5.89744835e+01 2.89744854e+01 8.27805710e+01]\n",
      "   [5.93417778e+01 2.91020508e+01 7.76734085e+01]]\n",
      "\n",
      "  [[6.28571434e+01 4.30255089e+01 9.37346954e+01]\n",
      "   [6.77091827e+01 4.00000000e+01 9.75714264e+01]\n",
      "   [7.45714340e+01 4.01581650e+01 1.00326530e+02]\n",
      "   ...\n",
      "   [6.11989594e+01 2.61989594e+01 9.01989594e+01]\n",
      "   [6.30612640e+01 2.70765438e+01 8.88418350e+01]\n",
      "   [6.76887741e+01 3.03112621e+01 8.59999313e+01]]\n",
      "\n",
      "  [[6.87806168e+01 4.30765305e+01 9.80612259e+01]\n",
      "   [7.40000000e+01 4.22857132e+01 1.01000000e+02]\n",
      "   [7.76734695e+01 4.15510216e+01 1.01387756e+02]\n",
      "   ...\n",
      "   [6.71683960e+01 2.80459366e+01 9.25255356e+01]\n",
      "   [7.07143021e+01 2.94132633e+01 9.48571167e+01]\n",
      "   [7.13520355e+01 2.97091751e+01 8.97703857e+01]]\n",
      "\n",
      "  ...\n",
      "\n",
      "  [[5.84233894e+01 4.42907867e+01 9.77091446e+01]\n",
      "   [6.41989365e+01 4.14846497e+01 9.74132233e+01]\n",
      "   [7.31479492e+01 4.16887283e+01 9.77857361e+01]\n",
      "   ...\n",
      "   [6.34285278e+01 4.30000000e+01 9.20000000e+01]\n",
      "   [6.76582184e+01 4.19438667e+01 9.03417816e+01]\n",
      "   [7.15714722e+01 4.00000000e+01 8.92142639e+01]]\n",
      "\n",
      "  [[5.94745216e+01 4.15714149e+01 9.22142563e+01]\n",
      "   [6.77908325e+01 4.09948959e+01 9.19132309e+01]\n",
      "   [7.66836853e+01 4.19285583e+01 9.29591370e+01]\n",
      "   ...\n",
      "   [6.40000000e+01 4.20000000e+01 9.08877335e+01]\n",
      "   [6.72092209e+01 3.89183502e+01 8.80051041e+01]\n",
      "   [7.29540787e+01 3.59030418e+01 8.80714417e+01]]\n",
      "\n",
      "  [[6.28724709e+01 3.88724022e+01 8.68723679e+01]\n",
      "   [6.91632996e+01 3.95969086e+01 8.49998932e+01]\n",
      "   [7.55662842e+01 3.92856445e+01 8.49998627e+01]\n",
      "   ...\n",
      "   [6.40000000e+01 4.07091751e+01 8.79336166e+01]\n",
      "   [6.72143250e+01 3.68571167e+01 8.78062057e+01]\n",
      "   [7.23571777e+01 3.24132195e+01 9.07143555e+01]]]\n",
      "\n",
      "\n",
      " [[[1.47142859e+01 9.71428585e+00 3.71428561e+00]\n",
      "   [1.68571434e+01 1.18571434e+01 5.85714340e+00]\n",
      "   [1.50000000e+01 1.00000000e+01 4.00000000e+00]\n",
      "   ...\n",
      "   [2.32142639e+01 1.22142639e+01 8.21426392e+00]\n",
      "   [2.37857265e+01 1.27857275e+01 8.78572750e+00]\n",
      "   [2.42295437e+01 1.32295446e+01 9.94383049e+00]]\n",
      "\n",
      "  [[1.63112259e+01 1.13112240e+01 5.31122494e+00]\n",
      "   [1.59285717e+01 1.09285717e+01 4.92857170e+00]\n",
      "   [1.48010206e+01 9.80102062e+00 3.80102015e+00]\n",
      "   ...\n",
      "   [2.95867558e+01 1.65867558e+01 1.01888371e+01]\n",
      "   [2.58571301e+01 1.28571301e+01 6.85713005e+00]\n",
      "   [2.66174145e+01 1.36174145e+01 7.61741447e+00]]\n",
      "\n",
      "  [[1.55714283e+01 1.10000000e+01 4.78571415e+00]\n",
      "   [1.26581631e+01 8.08673477e+00 1.87244856e+00]\n",
      "   [1.67857132e+01 1.22142859e+01 6.00000000e+00]\n",
      "   ...\n",
      "   [3.06173420e+01 1.62142639e+01 8.66327763e+00]\n",
      "   [2.91581535e+01 1.45867252e+01 7.37243891e+00]\n",
      "   [2.94949245e+01 1.49234972e+01 7.70921135e+00]]\n",
      "\n",
      "  ...\n",
      "\n",
      "  [[2.22918411e+02 1.91918411e+02 1.37918411e+02]\n",
      "   [2.22254990e+02 1.91254990e+02 1.37254990e+02]\n",
      "   [2.15408081e+02 1.84408081e+02 1.30408081e+02]\n",
      "   ...\n",
      "   [2.36474442e+02 2.09474442e+02 1.62474442e+02]\n",
      "   [2.37469421e+02 2.10469421e+02 1.63469421e+02]\n",
      "   [2.36653183e+02 2.09653183e+02 1.62653183e+02]]\n",
      "\n",
      "  [[2.23500015e+02 1.93500015e+02 1.39500015e+02]\n",
      "   [2.16352081e+02 1.86352081e+02 1.32352081e+02]\n",
      "   [2.17000076e+02 1.87000076e+02 1.33000076e+02]\n",
      "   ...\n",
      "   [2.33428528e+02 2.06428528e+02 1.59428528e+02]\n",
      "   [2.34704025e+02 2.07704025e+02 1.60704025e+02]\n",
      "   [2.39000061e+02 2.12000061e+02 1.65000061e+02]]\n",
      "\n",
      "  [[2.18418137e+02 1.88418137e+02 1.34418137e+02]\n",
      "   [2.16999893e+02 1.86999893e+02 1.32999893e+02]\n",
      "   [2.21520294e+02 1.91520294e+02 1.37520294e+02]\n",
      "   ...\n",
      "   [2.34699066e+02 2.07699066e+02 1.60699066e+02]\n",
      "   [2.31163345e+02 2.04163345e+02 1.57163345e+02]\n",
      "   [2.31143066e+02 2.04143066e+02 1.57143066e+02]]]\n",
      "\n",
      "\n",
      " ...\n",
      "\n",
      "\n",
      " [[[0.00000000e+00 0.00000000e+00 0.00000000e+00]\n",
      "   [9.28571701e-01 9.28571701e-01 0.00000000e+00]\n",
      "   [0.00000000e+00 2.00000000e+00 0.00000000e+00]\n",
      "   ...\n",
      "   [2.33164978e+00 6.61736393e+00 5.56102216e-01]\n",
      "   [6.86227226e+00 1.21479864e+01 2.60205960e+00]\n",
      "   [1.15000353e+01 1.70153637e+01 4.77042055e+00]]\n",
      "\n",
      "  [[0.00000000e+00 0.00000000e+00 0.00000000e+00]\n",
      "   [9.28571701e-01 9.28571701e-01 0.00000000e+00]\n",
      "   [0.00000000e+00 2.00000000e+00 0.00000000e+00]\n",
      "   ...\n",
      "   [2.83317585e+01 3.12603302e+01 1.37603302e+01]\n",
      "   [4.12653542e+01 4.41939240e+01 2.68418865e+01]\n",
      "   [4.54744873e+01 4.83775444e+01 3.11683693e+01]]\n",
      "\n",
      "  [[0.00000000e+00 0.00000000e+00 0.00000000e+00]\n",
      "   [9.28571701e-01 9.28571701e-01 0.00000000e+00]\n",
      "   [0.00000000e+00 2.00000000e+00 0.00000000e+00]\n",
      "   ...\n",
      "   [5.45765457e+01 5.73622589e+01 3.06684151e+01]\n",
      "   [5.38877335e+01 5.58877335e+01 3.24438820e+01]\n",
      "   [5.05764694e+01 5.24999313e+01 3.17295456e+01]]\n",
      "\n",
      "  ...\n",
      "\n",
      "  [[1.93520546e+01 8.70917225e+00 0.00000000e+00]\n",
      "   [1.94847107e+01 8.84182739e+00 0.00000000e+00]\n",
      "   [1.94285812e+01 8.99999142e+00 0.00000000e+00]\n",
      "   ...\n",
      "   [5.45714111e+01 3.49540253e+01 2.14263916e-01]\n",
      "   [5.56428223e+01 3.28571472e+01 0.00000000e+00]\n",
      "   [5.00050087e+01 3.23519859e+01 0.00000000e+00]]\n",
      "\n",
      "  [[2.09744968e+01 7.97449589e+00 0.00000000e+00]\n",
      "   [2.10663280e+01 8.06632710e+00 0.00000000e+00]\n",
      "   [2.11428757e+01 9.14287472e+00 0.00000000e+00]\n",
      "   ...\n",
      "   [5.20714111e+01 3.15560493e+01 2.14263916e-01]\n",
      "   [5.47907753e+01 3.19387627e+01 8.62248957e-01]\n",
      "   [4.86937141e+01 3.06887264e+01 0.00000000e+00]]\n",
      "\n",
      "  [[2.30561142e+01 1.00561152e+01 1.41325808e+00]\n",
      "   [2.33112164e+01 1.03112164e+01 1.31121600e+00]\n",
      "   [2.28571396e+01 1.08571386e+01 0.00000000e+00]\n",
      "   ...\n",
      "   [4.99286194e+01 3.05714111e+01 4.64285278e+00]\n",
      "   [5.13316307e+01 3.10000000e+01 5.28570557e+00]\n",
      "   [4.60560303e+01 2.95407753e+01 2.69891500e+00]]]\n",
      "\n",
      "\n",
      " [[[1.96540817e+02 1.63826523e+02 1.25596939e+02]\n",
      "   [2.00188782e+02 1.71040817e+02 1.36923462e+02]\n",
      "   [1.79729584e+02 1.56158157e+02 1.29015305e+02]\n",
      "   ...\n",
      "   [1.92142792e+02 1.45581558e+02 4.90203094e+01]\n",
      "   [1.86928558e+02 1.37571411e+02 4.26632690e+01]\n",
      "   [1.89581711e+02 1.39867432e+02 4.72245750e+01]]\n",
      "\n",
      "  [[1.93744888e+02 1.64887756e+02 1.28147949e+02]\n",
      "   [1.94352036e+02 1.67270401e+02 1.36775513e+02]\n",
      "   [1.86030609e+02 1.65244904e+02 1.38887756e+02]\n",
      "   ...\n",
      "   [2.03525391e+02 1.58984619e+02 6.37142258e+01]\n",
      "   [1.89790787e+02 1.44714264e+02 5.16530380e+01]\n",
      "   [1.87311157e+02 1.42831635e+02 5.14285355e+01]]\n",
      "\n",
      "  [[1.89372437e+02 1.63948975e+02 1.33719391e+02]\n",
      "   [1.86612244e+02 1.63397964e+02 1.35897964e+02]\n",
      "   [1.82255096e+02 1.63448975e+02 1.41163269e+02]\n",
      "   ...\n",
      "   [2.09551117e+02 1.62403214e+02 6.81123962e+01]\n",
      "   [2.02433594e+02 1.58091782e+02 6.29489326e+01]\n",
      "   [1.86122177e+02 1.42907883e+02 4.86936035e+01]]\n",
      "\n",
      "  ...\n",
      "\n",
      "  [[2.26214264e+02 2.29214264e+02 2.36214264e+02]\n",
      "   [2.26943878e+02 2.29943878e+02 2.36943878e+02]\n",
      "   [2.28000000e+02 2.31000000e+02 2.38000000e+02]\n",
      "   ...\n",
      "   [1.81785736e+02 1.56571472e+02 1.27214264e+02]\n",
      "   [1.83857178e+02 1.58642914e+02 1.29285706e+02]\n",
      "   [1.84785736e+02 1.59571472e+02 1.30214264e+02]]\n",
      "\n",
      "  [[2.25525482e+02 2.28525482e+02 2.35525482e+02]\n",
      "   [2.26790787e+02 2.29790787e+02 2.36790787e+02]\n",
      "   [2.28071396e+02 2.31071396e+02 2.38071396e+02]\n",
      "   ...\n",
      "   [1.81857178e+02 1.56857178e+02 1.25857178e+02]\n",
      "   [1.83137787e+02 1.58275558e+02 1.26862221e+02]\n",
      "   [1.84000000e+02 1.59403107e+02 1.27193794e+02]]\n",
      "\n",
      "  [[2.25357178e+02 2.28357178e+02 2.35357178e+02]\n",
      "   [2.25357178e+02 2.28357178e+02 2.35357178e+02]\n",
      "   [2.26000000e+02 2.29000000e+02 2.36000000e+02]\n",
      "   ...\n",
      "   [1.82566299e+02 1.58566299e+02 1.24566292e+02]\n",
      "   [1.82285645e+02 1.58285645e+02 1.23479439e+02]\n",
      "   [1.81285645e+02 1.57285645e+02 1.21285645e+02]]]\n",
      "\n",
      "\n",
      " [[[9.97704086e+01 8.47704086e+01 7.97704086e+01]\n",
      "   [9.99540787e+01 8.49540787e+01 7.99540787e+01]\n",
      "   [9.87193909e+01 8.37193909e+01 7.87193909e+01]\n",
      "   ...\n",
      "   [8.32244949e+01 6.12244949e+01 5.02244949e+01]\n",
      "   [8.33112183e+01 6.13112144e+01 4.83112144e+01]\n",
      "   [8.20305862e+01 6.00305862e+01 4.70305862e+01]]\n",
      "\n",
      "  [[1.00214287e+02 8.52142868e+01 8.02142868e+01]\n",
      "   [1.02928574e+02 8.79285736e+01 8.29285736e+01]\n",
      "   [9.97857132e+01 8.47857132e+01 7.97857132e+01]\n",
      "   ...\n",
      "   [8.33265152e+01 6.13265114e+01 5.03265114e+01]\n",
      "   [8.10000000e+01 5.90000000e+01 4.80000000e+01]\n",
      "   [8.41429596e+01 6.21429596e+01 4.91429596e+01]]\n",
      "\n",
      "  [[1.02642860e+02 8.80714340e+01 8.28571472e+01]\n",
      "   [1.02484695e+02 8.79132614e+01 8.26989746e+01]\n",
      "   [9.95051041e+01 8.49336777e+01 7.97193909e+01]\n",
      "   ...\n",
      "   [8.21938248e+01 6.01479073e+01 4.92856483e+01]\n",
      "   [8.32142868e+01 6.12142868e+01 5.02142868e+01]\n",
      "   [8.16530075e+01 5.96530075e+01 4.86530075e+01]]\n",
      "\n",
      "  ...\n",
      "\n",
      "  [[2.10591568e+02 2.18591568e+02 2.21591568e+02]\n",
      "   [2.30836639e+02 2.38836639e+02 2.41836639e+02]\n",
      "   [2.34739914e+02 2.42739914e+02 2.45739914e+02]\n",
      "   ...\n",
      "   [1.70117233e+02 1.26520348e+02 4.83826180e+01]\n",
      "   [1.64474518e+02 1.16903099e+02 3.87449684e+01]\n",
      "   [1.66433319e+02 1.17004784e+02 3.95762558e+01]]\n",
      "\n",
      "  [[1.96214615e+02 2.01214615e+02 2.05214615e+02]\n",
      "   [2.08872192e+02 2.13872192e+02 2.17872192e+02]\n",
      "   [2.25576508e+02 2.30576508e+02 2.34576508e+02]\n",
      "   ...\n",
      "   [1.60785736e+02 1.15168343e+02 4.06121788e+01]\n",
      "   [1.68622375e+02 1.20484596e+02 4.43366089e+01]\n",
      "   [1.62193466e+02 1.13193459e+02 3.60505753e+01]]\n",
      "\n",
      "  [[2.44515427e+02 2.49515427e+02 2.52137848e+02]\n",
      "   [2.01648727e+02 2.06648727e+02 2.10648727e+02]\n",
      "   [2.08667542e+02 2.13667542e+02 2.17667542e+02]\n",
      "   ...\n",
      "   [1.72132980e+02 1.23852333e+02 4.85563278e+01]\n",
      "   [1.61703796e+02 1.11897598e+02 3.27547112e+01]\n",
      "   [1.56423279e+02 1.05066101e+02 2.33517475e+01]]]], shape=(32, 224, 224, 3), dtype=float32) tf.Tensor(\n",
      "[[0. 0. 0. 0. 0. 0. 0. 0. 1. 0.]\n",
      " [0. 0. 0. 0. 0. 0. 1. 0. 0. 0.]\n",
      " [0. 0. 0. 0. 0. 0. 0. 0. 0. 1.]\n",
      " [0. 0. 0. 0. 0. 0. 1. 0. 0. 0.]\n",
      " [0. 0. 0. 0. 0. 0. 1. 0. 0. 0.]\n",
      " [1. 0. 0. 0. 0. 0. 0. 0. 0. 0.]\n",
      " [0. 0. 0. 0. 0. 0. 1. 0. 0. 0.]\n",
      " [0. 1. 0. 0. 0. 0. 0. 0. 0. 0.]\n",
      " [0. 0. 0. 0. 0. 0. 0. 1. 0. 0.]\n",
      " [0. 1. 0. 0. 0. 0. 0. 0. 0. 0.]\n",
      " [0. 0. 0. 0. 0. 0. 0. 0. 0. 1.]\n",
      " [0. 0. 0. 0. 0. 1. 0. 0. 0. 0.]\n",
      " [0. 0. 0. 0. 1. 0. 0. 0. 0. 0.]\n",
      " [0. 0. 1. 0. 0. 0. 0. 0. 0. 0.]\n",
      " [0. 0. 0. 0. 0. 0. 0. 0. 0. 1.]\n",
      " [0. 0. 0. 0. 1. 0. 0. 0. 0. 0.]\n",
      " [0. 0. 0. 0. 0. 0. 0. 0. 1. 0.]\n",
      " [0. 0. 1. 0. 0. 0. 0. 0. 0. 0.]\n",
      " [0. 0. 0. 0. 1. 0. 0. 0. 0. 0.]\n",
      " [0. 0. 0. 0. 0. 0. 0. 1. 0. 0.]\n",
      " [0. 0. 0. 0. 0. 0. 0. 0. 0. 1.]\n",
      " [0. 0. 0. 0. 0. 0. 1. 0. 0. 0.]\n",
      " [0. 0. 0. 0. 0. 1. 0. 0. 0. 0.]\n",
      " [0. 0. 0. 0. 0. 0. 1. 0. 0. 0.]\n",
      " [0. 0. 0. 0. 0. 1. 0. 0. 0. 0.]\n",
      " [1. 0. 0. 0. 0. 0. 0. 0. 0. 0.]\n",
      " [0. 0. 0. 0. 1. 0. 0. 0. 0. 0.]\n",
      " [0. 1. 0. 0. 0. 0. 0. 0. 0. 0.]\n",
      " [0. 0. 0. 0. 0. 0. 0. 0. 1. 0.]\n",
      " [0. 0. 0. 0. 1. 0. 0. 0. 0. 0.]\n",
      " [0. 0. 0. 1. 0. 0. 0. 0. 0. 0.]\n",
      " [0. 0. 0. 0. 0. 0. 1. 0. 0. 0.]], shape=(32, 10), dtype=float32)\n"
     ]
    }
   ],
   "source": [
    "# See an example of a batch of data\n",
    "for images, labels in train_data_10_percent.take(1):\n",
    "    print(images, labels)"
   ]
  },
  {
   "cell_type": "markdown",
   "id": "4cc42b2c-fe9d-4f9a-8748-0b1a9d365974",
   "metadata": {},
   "source": [
    "## Model 0:  Building a transfer learning feature extraction model using the Keras Functional API\n",
    "\n",
    "The sequential API is straight-forward, it runs our layers in sequential order.\n",
    "\n",
    "But the functional API gives us more flexibility with our model"
   ]
  },
  {
   "cell_type": "code",
   "execution_count": 8,
   "id": "70d39a88-1c97-4752-8315-1712f7e35b54",
   "metadata": {},
   "outputs": [
    {
     "name": "stdout",
     "output_type": "stream",
     "text": [
      "Shape after passing through base model (None, 7, 7, 1280)\n",
      "Shape after GlobalAveragePooling2D:(None, 1280)\n",
      "Saving TensorBoard log files to: transfer_learning/10_percent_feature_extraction/20210915-202014\n"
     ]
    },
    {
     "name": "stderr",
     "output_type": "stream",
     "text": [
      "D:\\Anaconda3\\envs\\TensorflowTut\\lib\\site-packages\\keras\\utils\\generic_utils.py:494: CustomMaskWarning: Custom mask layers require a config and must override get_config. When loading, the custom mask layer must be passed to the custom_objects argument.\n",
      "  warnings.warn('Custom mask layers require a config and must override '\n"
     ]
    },
    {
     "name": "stdout",
     "output_type": "stream",
     "text": [
      "Epoch 1/5\n",
      "24/24 [==============================] - 19s 411ms/step - loss: 2.0061 - accuracy: 0.3533 - val_loss: 1.4179 - val_accuracy: 0.6842\n",
      "Epoch 2/5\n",
      "24/24 [==============================] - 7s 306ms/step - loss: 1.2025 - accuracy: 0.7440 - val_loss: 0.9393 - val_accuracy: 0.7862\n",
      "Epoch 3/5\n",
      "24/24 [==============================] - 7s 309ms/step - loss: 0.8608 - accuracy: 0.8000 - val_loss: 0.7903 - val_accuracy: 0.7993\n",
      "Epoch 4/5\n",
      "24/24 [==============================] - 7s 297ms/step - loss: 0.6983 - accuracy: 0.8160 - val_loss: 0.6860 - val_accuracy: 0.8076\n",
      "Epoch 5/5\n",
      "24/24 [==============================] - 7s 299ms/step - loss: 0.6003 - accuracy: 0.8573 - val_loss: 0.6272 - val_accuracy: 0.8289\n"
     ]
    }
   ],
   "source": [
    "# 1. Create base model with tf.keras.Applications\n",
    "base_model = tf.keras.applications.efficientnet.EfficientNetB0(include_top=False)\n",
    "\n",
    "# 2. Freeze the base model (so the underlying pre-trained patterns aren't updated)\n",
    "base_model.trainable = False\n",
    "\n",
    "# 3. Create input into our model\n",
    "inputs = tf.keras.layers.Input(shape =(224,224,3), name='input_layer')\n",
    "\n",
    "# 4. If using model like ResNet50V2 you will need to normalize inputs (you dont' have to for effnet)\n",
    "#x = tf.keras.layers.Rescaling(1/255.)(inputs)\n",
    "\n",
    "# 5. Pass the inputs \n",
    "x = base_model(inputs)\n",
    "print(f'Shape after passing through base model {x.shape}')\n",
    "\n",
    "# 6. Average pool the outputs of the base model (aggregate all the most important information, reduce number of computations)\n",
    "x = tf.keras.layers.GlobalAveragePooling2D(name = 'global_average_pooling_layer')(x)\n",
    "print(f'Shape after GlobalAveragePooling2D:{x.shape}')\n",
    "\n",
    "# 7. Create the output activation layer\n",
    "outputs = tf.keras.layers.Dense(10, activation ='softmax', name='output_layer')(x)\n",
    "\n",
    "# 8. Combine the inputs with the outputs into a model\n",
    "model_0 = tf.keras.Model(inputs, outputs)\n",
    "\n",
    "# 9. compile the model\n",
    "model_0.compile(loss = 'categorical_crossentropy',\n",
    "               optimizer = tf.keras.optimizers.Adam(),\n",
    "               metrics = ['accuracy'])\n",
    "\n",
    "# 10. Fit the model and save its history\n",
    "history_0 = model_0.fit(train_data_10_percent,\n",
    "                       epochs = 5,\n",
    "                       steps_per_epoch = len(train_data_10_percent),\n",
    "                       validation_data = test_data,\n",
    "                       validation_steps = int(0.25 * len(test_data)),\n",
    "                       callbacks = [create_tensorboard_callback(dir_name ='transfer_learning',\n",
    "                                                                experiment_name='10_percent_feature_extraction')])"
   ]
  },
  {
   "cell_type": "code",
   "execution_count": 9,
   "id": "9192eca3-f169-4e1d-8a9f-c199fd5d768e",
   "metadata": {},
   "outputs": [
    {
     "name": "stdout",
     "output_type": "stream",
     "text": [
      "79/79 [==============================] - 13s 161ms/step - loss: 0.6220 - accuracy: 0.8392\n"
     ]
    },
    {
     "data": {
      "text/plain": [
       "[0.621957540512085, 0.8392000198364258]"
      ]
     },
     "execution_count": 9,
     "metadata": {},
     "output_type": "execute_result"
    }
   ],
   "source": [
    "# Evaluate on the full test datset\n",
    "model_0.evaluate(test_data)"
   ]
  },
  {
   "cell_type": "code",
   "execution_count": 10,
   "id": "625e18a3-99ab-4361-a3b8-39dfba4a85e0",
   "metadata": {
    "scrolled": true,
    "tags": []
   },
   "outputs": [
    {
     "name": "stdout",
     "output_type": "stream",
     "text": [
      "0 input_1\n",
      "1 rescaling\n",
      "2 normalization\n",
      "3 stem_conv_pad\n",
      "4 stem_conv\n",
      "5 stem_bn\n",
      "6 stem_activation\n",
      "7 block1a_dwconv\n",
      "8 block1a_bn\n",
      "9 block1a_activation\n",
      "10 block1a_se_squeeze\n",
      "11 block1a_se_reshape\n",
      "12 block1a_se_reduce\n",
      "13 block1a_se_expand\n",
      "14 block1a_se_excite\n",
      "15 block1a_project_conv\n",
      "16 block1a_project_bn\n",
      "17 block2a_expand_conv\n",
      "18 block2a_expand_bn\n",
      "19 block2a_expand_activation\n",
      "20 block2a_dwconv_pad\n",
      "21 block2a_dwconv\n",
      "22 block2a_bn\n",
      "23 block2a_activation\n",
      "24 block2a_se_squeeze\n",
      "25 block2a_se_reshape\n",
      "26 block2a_se_reduce\n",
      "27 block2a_se_expand\n",
      "28 block2a_se_excite\n",
      "29 block2a_project_conv\n",
      "30 block2a_project_bn\n",
      "31 block2b_expand_conv\n",
      "32 block2b_expand_bn\n",
      "33 block2b_expand_activation\n",
      "34 block2b_dwconv\n",
      "35 block2b_bn\n",
      "36 block2b_activation\n",
      "37 block2b_se_squeeze\n",
      "38 block2b_se_reshape\n",
      "39 block2b_se_reduce\n",
      "40 block2b_se_expand\n",
      "41 block2b_se_excite\n",
      "42 block2b_project_conv\n",
      "43 block2b_project_bn\n",
      "44 block2b_drop\n",
      "45 block2b_add\n",
      "46 block3a_expand_conv\n",
      "47 block3a_expand_bn\n",
      "48 block3a_expand_activation\n",
      "49 block3a_dwconv_pad\n",
      "50 block3a_dwconv\n",
      "51 block3a_bn\n",
      "52 block3a_activation\n",
      "53 block3a_se_squeeze\n",
      "54 block3a_se_reshape\n",
      "55 block3a_se_reduce\n",
      "56 block3a_se_expand\n",
      "57 block3a_se_excite\n",
      "58 block3a_project_conv\n",
      "59 block3a_project_bn\n",
      "60 block3b_expand_conv\n",
      "61 block3b_expand_bn\n",
      "62 block3b_expand_activation\n",
      "63 block3b_dwconv\n",
      "64 block3b_bn\n",
      "65 block3b_activation\n",
      "66 block3b_se_squeeze\n",
      "67 block3b_se_reshape\n",
      "68 block3b_se_reduce\n",
      "69 block3b_se_expand\n",
      "70 block3b_se_excite\n",
      "71 block3b_project_conv\n",
      "72 block3b_project_bn\n",
      "73 block3b_drop\n",
      "74 block3b_add\n",
      "75 block4a_expand_conv\n",
      "76 block4a_expand_bn\n",
      "77 block4a_expand_activation\n",
      "78 block4a_dwconv_pad\n",
      "79 block4a_dwconv\n",
      "80 block4a_bn\n",
      "81 block4a_activation\n",
      "82 block4a_se_squeeze\n",
      "83 block4a_se_reshape\n",
      "84 block4a_se_reduce\n",
      "85 block4a_se_expand\n",
      "86 block4a_se_excite\n",
      "87 block4a_project_conv\n",
      "88 block4a_project_bn\n",
      "89 block4b_expand_conv\n",
      "90 block4b_expand_bn\n",
      "91 block4b_expand_activation\n",
      "92 block4b_dwconv\n",
      "93 block4b_bn\n",
      "94 block4b_activation\n",
      "95 block4b_se_squeeze\n",
      "96 block4b_se_reshape\n",
      "97 block4b_se_reduce\n",
      "98 block4b_se_expand\n",
      "99 block4b_se_excite\n",
      "100 block4b_project_conv\n",
      "101 block4b_project_bn\n",
      "102 block4b_drop\n",
      "103 block4b_add\n",
      "104 block4c_expand_conv\n",
      "105 block4c_expand_bn\n",
      "106 block4c_expand_activation\n",
      "107 block4c_dwconv\n",
      "108 block4c_bn\n",
      "109 block4c_activation\n",
      "110 block4c_se_squeeze\n",
      "111 block4c_se_reshape\n",
      "112 block4c_se_reduce\n",
      "113 block4c_se_expand\n",
      "114 block4c_se_excite\n",
      "115 block4c_project_conv\n",
      "116 block4c_project_bn\n",
      "117 block4c_drop\n",
      "118 block4c_add\n",
      "119 block5a_expand_conv\n",
      "120 block5a_expand_bn\n",
      "121 block5a_expand_activation\n",
      "122 block5a_dwconv\n",
      "123 block5a_bn\n",
      "124 block5a_activation\n",
      "125 block5a_se_squeeze\n",
      "126 block5a_se_reshape\n",
      "127 block5a_se_reduce\n",
      "128 block5a_se_expand\n",
      "129 block5a_se_excite\n",
      "130 block5a_project_conv\n",
      "131 block5a_project_bn\n",
      "132 block5b_expand_conv\n",
      "133 block5b_expand_bn\n",
      "134 block5b_expand_activation\n",
      "135 block5b_dwconv\n",
      "136 block5b_bn\n",
      "137 block5b_activation\n",
      "138 block5b_se_squeeze\n",
      "139 block5b_se_reshape\n",
      "140 block5b_se_reduce\n",
      "141 block5b_se_expand\n",
      "142 block5b_se_excite\n",
      "143 block5b_project_conv\n",
      "144 block5b_project_bn\n",
      "145 block5b_drop\n",
      "146 block5b_add\n",
      "147 block5c_expand_conv\n",
      "148 block5c_expand_bn\n",
      "149 block5c_expand_activation\n",
      "150 block5c_dwconv\n",
      "151 block5c_bn\n",
      "152 block5c_activation\n",
      "153 block5c_se_squeeze\n",
      "154 block5c_se_reshape\n",
      "155 block5c_se_reduce\n",
      "156 block5c_se_expand\n",
      "157 block5c_se_excite\n",
      "158 block5c_project_conv\n",
      "159 block5c_project_bn\n",
      "160 block5c_drop\n",
      "161 block5c_add\n",
      "162 block6a_expand_conv\n",
      "163 block6a_expand_bn\n",
      "164 block6a_expand_activation\n",
      "165 block6a_dwconv_pad\n",
      "166 block6a_dwconv\n",
      "167 block6a_bn\n",
      "168 block6a_activation\n",
      "169 block6a_se_squeeze\n",
      "170 block6a_se_reshape\n",
      "171 block6a_se_reduce\n",
      "172 block6a_se_expand\n",
      "173 block6a_se_excite\n",
      "174 block6a_project_conv\n",
      "175 block6a_project_bn\n",
      "176 block6b_expand_conv\n",
      "177 block6b_expand_bn\n",
      "178 block6b_expand_activation\n",
      "179 block6b_dwconv\n",
      "180 block6b_bn\n",
      "181 block6b_activation\n",
      "182 block6b_se_squeeze\n",
      "183 block6b_se_reshape\n",
      "184 block6b_se_reduce\n",
      "185 block6b_se_expand\n",
      "186 block6b_se_excite\n",
      "187 block6b_project_conv\n",
      "188 block6b_project_bn\n",
      "189 block6b_drop\n",
      "190 block6b_add\n",
      "191 block6c_expand_conv\n",
      "192 block6c_expand_bn\n",
      "193 block6c_expand_activation\n",
      "194 block6c_dwconv\n",
      "195 block6c_bn\n",
      "196 block6c_activation\n",
      "197 block6c_se_squeeze\n",
      "198 block6c_se_reshape\n",
      "199 block6c_se_reduce\n",
      "200 block6c_se_expand\n",
      "201 block6c_se_excite\n",
      "202 block6c_project_conv\n",
      "203 block6c_project_bn\n",
      "204 block6c_drop\n",
      "205 block6c_add\n",
      "206 block6d_expand_conv\n",
      "207 block6d_expand_bn\n",
      "208 block6d_expand_activation\n",
      "209 block6d_dwconv\n",
      "210 block6d_bn\n",
      "211 block6d_activation\n",
      "212 block6d_se_squeeze\n",
      "213 block6d_se_reshape\n",
      "214 block6d_se_reduce\n",
      "215 block6d_se_expand\n",
      "216 block6d_se_excite\n",
      "217 block6d_project_conv\n",
      "218 block6d_project_bn\n",
      "219 block6d_drop\n",
      "220 block6d_add\n",
      "221 block7a_expand_conv\n",
      "222 block7a_expand_bn\n",
      "223 block7a_expand_activation\n",
      "224 block7a_dwconv\n",
      "225 block7a_bn\n",
      "226 block7a_activation\n",
      "227 block7a_se_squeeze\n",
      "228 block7a_se_reshape\n",
      "229 block7a_se_reduce\n",
      "230 block7a_se_expand\n",
      "231 block7a_se_excite\n",
      "232 block7a_project_conv\n",
      "233 block7a_project_bn\n",
      "234 top_conv\n",
      "235 top_bn\n",
      "236 top_activation\n"
     ]
    }
   ],
   "source": [
    "# Check the layers in our base model\n",
    "for layer_number, layer in enumerate(base_model.layers):\n",
    "    print(layer_number, layer.name)"
   ]
  },
  {
   "cell_type": "code",
   "execution_count": 11,
   "id": "dbbdca80-9493-4839-a392-fcba9cc85f36",
   "metadata": {
    "scrolled": true,
    "tags": []
   },
   "outputs": [
    {
     "name": "stdout",
     "output_type": "stream",
     "text": [
      "Model: \"efficientnetb0\"\n",
      "__________________________________________________________________________________________________\n",
      "Layer (type)                    Output Shape         Param #     Connected to                     \n",
      "==================================================================================================\n",
      "input_1 (InputLayer)            [(None, None, None,  0                                            \n",
      "__________________________________________________________________________________________________\n",
      "rescaling (Rescaling)           (None, None, None, 3 0           input_1[0][0]                    \n",
      "__________________________________________________________________________________________________\n",
      "normalization (Normalization)   (None, None, None, 3 7           rescaling[0][0]                  \n",
      "__________________________________________________________________________________________________\n",
      "stem_conv_pad (ZeroPadding2D)   (None, None, None, 3 0           normalization[0][0]              \n",
      "__________________________________________________________________________________________________\n",
      "stem_conv (Conv2D)              (None, None, None, 3 864         stem_conv_pad[0][0]              \n",
      "__________________________________________________________________________________________________\n",
      "stem_bn (BatchNormalization)    (None, None, None, 3 128         stem_conv[0][0]                  \n",
      "__________________________________________________________________________________________________\n",
      "stem_activation (Activation)    (None, None, None, 3 0           stem_bn[0][0]                    \n",
      "__________________________________________________________________________________________________\n",
      "block1a_dwconv (DepthwiseConv2D (None, None, None, 3 288         stem_activation[0][0]            \n",
      "__________________________________________________________________________________________________\n",
      "block1a_bn (BatchNormalization) (None, None, None, 3 128         block1a_dwconv[0][0]             \n",
      "__________________________________________________________________________________________________\n",
      "block1a_activation (Activation) (None, None, None, 3 0           block1a_bn[0][0]                 \n",
      "__________________________________________________________________________________________________\n",
      "block1a_se_squeeze (GlobalAvera (None, 32)           0           block1a_activation[0][0]         \n",
      "__________________________________________________________________________________________________\n",
      "block1a_se_reshape (Reshape)    (None, 1, 1, 32)     0           block1a_se_squeeze[0][0]         \n",
      "__________________________________________________________________________________________________\n",
      "block1a_se_reduce (Conv2D)      (None, 1, 1, 8)      264         block1a_se_reshape[0][0]         \n",
      "__________________________________________________________________________________________________\n",
      "block1a_se_expand (Conv2D)      (None, 1, 1, 32)     288         block1a_se_reduce[0][0]          \n",
      "__________________________________________________________________________________________________\n",
      "block1a_se_excite (Multiply)    (None, None, None, 3 0           block1a_activation[0][0]         \n",
      "                                                                 block1a_se_expand[0][0]          \n",
      "__________________________________________________________________________________________________\n",
      "block1a_project_conv (Conv2D)   (None, None, None, 1 512         block1a_se_excite[0][0]          \n",
      "__________________________________________________________________________________________________\n",
      "block1a_project_bn (BatchNormal (None, None, None, 1 64          block1a_project_conv[0][0]       \n",
      "__________________________________________________________________________________________________\n",
      "block2a_expand_conv (Conv2D)    (None, None, None, 9 1536        block1a_project_bn[0][0]         \n",
      "__________________________________________________________________________________________________\n",
      "block2a_expand_bn (BatchNormali (None, None, None, 9 384         block2a_expand_conv[0][0]        \n",
      "__________________________________________________________________________________________________\n",
      "block2a_expand_activation (Acti (None, None, None, 9 0           block2a_expand_bn[0][0]          \n",
      "__________________________________________________________________________________________________\n",
      "block2a_dwconv_pad (ZeroPadding (None, None, None, 9 0           block2a_expand_activation[0][0]  \n",
      "__________________________________________________________________________________________________\n",
      "block2a_dwconv (DepthwiseConv2D (None, None, None, 9 864         block2a_dwconv_pad[0][0]         \n",
      "__________________________________________________________________________________________________\n",
      "block2a_bn (BatchNormalization) (None, None, None, 9 384         block2a_dwconv[0][0]             \n",
      "__________________________________________________________________________________________________\n",
      "block2a_activation (Activation) (None, None, None, 9 0           block2a_bn[0][0]                 \n",
      "__________________________________________________________________________________________________\n",
      "block2a_se_squeeze (GlobalAvera (None, 96)           0           block2a_activation[0][0]         \n",
      "__________________________________________________________________________________________________\n",
      "block2a_se_reshape (Reshape)    (None, 1, 1, 96)     0           block2a_se_squeeze[0][0]         \n",
      "__________________________________________________________________________________________________\n",
      "block2a_se_reduce (Conv2D)      (None, 1, 1, 4)      388         block2a_se_reshape[0][0]         \n",
      "__________________________________________________________________________________________________\n",
      "block2a_se_expand (Conv2D)      (None, 1, 1, 96)     480         block2a_se_reduce[0][0]          \n",
      "__________________________________________________________________________________________________\n",
      "block2a_se_excite (Multiply)    (None, None, None, 9 0           block2a_activation[0][0]         \n",
      "                                                                 block2a_se_expand[0][0]          \n",
      "__________________________________________________________________________________________________\n",
      "block2a_project_conv (Conv2D)   (None, None, None, 2 2304        block2a_se_excite[0][0]          \n",
      "__________________________________________________________________________________________________\n",
      "block2a_project_bn (BatchNormal (None, None, None, 2 96          block2a_project_conv[0][0]       \n",
      "__________________________________________________________________________________________________\n",
      "block2b_expand_conv (Conv2D)    (None, None, None, 1 3456        block2a_project_bn[0][0]         \n",
      "__________________________________________________________________________________________________\n",
      "block2b_expand_bn (BatchNormali (None, None, None, 1 576         block2b_expand_conv[0][0]        \n",
      "__________________________________________________________________________________________________\n",
      "block2b_expand_activation (Acti (None, None, None, 1 0           block2b_expand_bn[0][0]          \n",
      "__________________________________________________________________________________________________\n",
      "block2b_dwconv (DepthwiseConv2D (None, None, None, 1 1296        block2b_expand_activation[0][0]  \n",
      "__________________________________________________________________________________________________\n",
      "block2b_bn (BatchNormalization) (None, None, None, 1 576         block2b_dwconv[0][0]             \n",
      "__________________________________________________________________________________________________\n",
      "block2b_activation (Activation) (None, None, None, 1 0           block2b_bn[0][0]                 \n",
      "__________________________________________________________________________________________________\n",
      "block2b_se_squeeze (GlobalAvera (None, 144)          0           block2b_activation[0][0]         \n",
      "__________________________________________________________________________________________________\n",
      "block2b_se_reshape (Reshape)    (None, 1, 1, 144)    0           block2b_se_squeeze[0][0]         \n",
      "__________________________________________________________________________________________________\n",
      "block2b_se_reduce (Conv2D)      (None, 1, 1, 6)      870         block2b_se_reshape[0][0]         \n",
      "__________________________________________________________________________________________________\n",
      "block2b_se_expand (Conv2D)      (None, 1, 1, 144)    1008        block2b_se_reduce[0][0]          \n",
      "__________________________________________________________________________________________________\n",
      "block2b_se_excite (Multiply)    (None, None, None, 1 0           block2b_activation[0][0]         \n",
      "                                                                 block2b_se_expand[0][0]          \n",
      "__________________________________________________________________________________________________\n",
      "block2b_project_conv (Conv2D)   (None, None, None, 2 3456        block2b_se_excite[0][0]          \n",
      "__________________________________________________________________________________________________\n",
      "block2b_project_bn (BatchNormal (None, None, None, 2 96          block2b_project_conv[0][0]       \n",
      "__________________________________________________________________________________________________\n",
      "block2b_drop (Dropout)          (None, None, None, 2 0           block2b_project_bn[0][0]         \n",
      "__________________________________________________________________________________________________\n",
      "block2b_add (Add)               (None, None, None, 2 0           block2b_drop[0][0]               \n",
      "                                                                 block2a_project_bn[0][0]         \n",
      "__________________________________________________________________________________________________\n",
      "block3a_expand_conv (Conv2D)    (None, None, None, 1 3456        block2b_add[0][0]                \n",
      "__________________________________________________________________________________________________\n",
      "block3a_expand_bn (BatchNormali (None, None, None, 1 576         block3a_expand_conv[0][0]        \n",
      "__________________________________________________________________________________________________\n",
      "block3a_expand_activation (Acti (None, None, None, 1 0           block3a_expand_bn[0][0]          \n",
      "__________________________________________________________________________________________________\n",
      "block3a_dwconv_pad (ZeroPadding (None, None, None, 1 0           block3a_expand_activation[0][0]  \n",
      "__________________________________________________________________________________________________\n",
      "block3a_dwconv (DepthwiseConv2D (None, None, None, 1 3600        block3a_dwconv_pad[0][0]         \n",
      "__________________________________________________________________________________________________\n",
      "block3a_bn (BatchNormalization) (None, None, None, 1 576         block3a_dwconv[0][0]             \n",
      "__________________________________________________________________________________________________\n",
      "block3a_activation (Activation) (None, None, None, 1 0           block3a_bn[0][0]                 \n",
      "__________________________________________________________________________________________________\n",
      "block3a_se_squeeze (GlobalAvera (None, 144)          0           block3a_activation[0][0]         \n",
      "__________________________________________________________________________________________________\n",
      "block3a_se_reshape (Reshape)    (None, 1, 1, 144)    0           block3a_se_squeeze[0][0]         \n",
      "__________________________________________________________________________________________________\n",
      "block3a_se_reduce (Conv2D)      (None, 1, 1, 6)      870         block3a_se_reshape[0][0]         \n",
      "__________________________________________________________________________________________________\n",
      "block3a_se_expand (Conv2D)      (None, 1, 1, 144)    1008        block3a_se_reduce[0][0]          \n",
      "__________________________________________________________________________________________________\n",
      "block3a_se_excite (Multiply)    (None, None, None, 1 0           block3a_activation[0][0]         \n",
      "                                                                 block3a_se_expand[0][0]          \n",
      "__________________________________________________________________________________________________\n",
      "block3a_project_conv (Conv2D)   (None, None, None, 4 5760        block3a_se_excite[0][0]          \n",
      "__________________________________________________________________________________________________\n",
      "block3a_project_bn (BatchNormal (None, None, None, 4 160         block3a_project_conv[0][0]       \n",
      "__________________________________________________________________________________________________\n",
      "block3b_expand_conv (Conv2D)    (None, None, None, 2 9600        block3a_project_bn[0][0]         \n",
      "__________________________________________________________________________________________________\n",
      "block3b_expand_bn (BatchNormali (None, None, None, 2 960         block3b_expand_conv[0][0]        \n",
      "__________________________________________________________________________________________________\n",
      "block3b_expand_activation (Acti (None, None, None, 2 0           block3b_expand_bn[0][0]          \n",
      "__________________________________________________________________________________________________\n",
      "block3b_dwconv (DepthwiseConv2D (None, None, None, 2 6000        block3b_expand_activation[0][0]  \n",
      "__________________________________________________________________________________________________\n",
      "block3b_bn (BatchNormalization) (None, None, None, 2 960         block3b_dwconv[0][0]             \n",
      "__________________________________________________________________________________________________\n",
      "block3b_activation (Activation) (None, None, None, 2 0           block3b_bn[0][0]                 \n",
      "__________________________________________________________________________________________________\n",
      "block3b_se_squeeze (GlobalAvera (None, 240)          0           block3b_activation[0][0]         \n",
      "__________________________________________________________________________________________________\n",
      "block3b_se_reshape (Reshape)    (None, 1, 1, 240)    0           block3b_se_squeeze[0][0]         \n",
      "__________________________________________________________________________________________________\n",
      "block3b_se_reduce (Conv2D)      (None, 1, 1, 10)     2410        block3b_se_reshape[0][0]         \n",
      "__________________________________________________________________________________________________\n",
      "block3b_se_expand (Conv2D)      (None, 1, 1, 240)    2640        block3b_se_reduce[0][0]          \n",
      "__________________________________________________________________________________________________\n",
      "block3b_se_excite (Multiply)    (None, None, None, 2 0           block3b_activation[0][0]         \n",
      "                                                                 block3b_se_expand[0][0]          \n",
      "__________________________________________________________________________________________________\n",
      "block3b_project_conv (Conv2D)   (None, None, None, 4 9600        block3b_se_excite[0][0]          \n",
      "__________________________________________________________________________________________________\n",
      "block3b_project_bn (BatchNormal (None, None, None, 4 160         block3b_project_conv[0][0]       \n",
      "__________________________________________________________________________________________________\n",
      "block3b_drop (Dropout)          (None, None, None, 4 0           block3b_project_bn[0][0]         \n",
      "__________________________________________________________________________________________________\n",
      "block3b_add (Add)               (None, None, None, 4 0           block3b_drop[0][0]               \n",
      "                                                                 block3a_project_bn[0][0]         \n",
      "__________________________________________________________________________________________________\n",
      "block4a_expand_conv (Conv2D)    (None, None, None, 2 9600        block3b_add[0][0]                \n",
      "__________________________________________________________________________________________________\n",
      "block4a_expand_bn (BatchNormali (None, None, None, 2 960         block4a_expand_conv[0][0]        \n",
      "__________________________________________________________________________________________________\n",
      "block4a_expand_activation (Acti (None, None, None, 2 0           block4a_expand_bn[0][0]          \n",
      "__________________________________________________________________________________________________\n",
      "block4a_dwconv_pad (ZeroPadding (None, None, None, 2 0           block4a_expand_activation[0][0]  \n",
      "__________________________________________________________________________________________________\n",
      "block4a_dwconv (DepthwiseConv2D (None, None, None, 2 2160        block4a_dwconv_pad[0][0]         \n",
      "__________________________________________________________________________________________________\n",
      "block4a_bn (BatchNormalization) (None, None, None, 2 960         block4a_dwconv[0][0]             \n",
      "__________________________________________________________________________________________________\n",
      "block4a_activation (Activation) (None, None, None, 2 0           block4a_bn[0][0]                 \n",
      "__________________________________________________________________________________________________\n",
      "block4a_se_squeeze (GlobalAvera (None, 240)          0           block4a_activation[0][0]         \n",
      "__________________________________________________________________________________________________\n",
      "block4a_se_reshape (Reshape)    (None, 1, 1, 240)    0           block4a_se_squeeze[0][0]         \n",
      "__________________________________________________________________________________________________\n",
      "block4a_se_reduce (Conv2D)      (None, 1, 1, 10)     2410        block4a_se_reshape[0][0]         \n",
      "__________________________________________________________________________________________________\n",
      "block4a_se_expand (Conv2D)      (None, 1, 1, 240)    2640        block4a_se_reduce[0][0]          \n",
      "__________________________________________________________________________________________________\n",
      "block4a_se_excite (Multiply)    (None, None, None, 2 0           block4a_activation[0][0]         \n",
      "                                                                 block4a_se_expand[0][0]          \n",
      "__________________________________________________________________________________________________\n",
      "block4a_project_conv (Conv2D)   (None, None, None, 8 19200       block4a_se_excite[0][0]          \n",
      "__________________________________________________________________________________________________\n",
      "block4a_project_bn (BatchNormal (None, None, None, 8 320         block4a_project_conv[0][0]       \n",
      "__________________________________________________________________________________________________\n",
      "block4b_expand_conv (Conv2D)    (None, None, None, 4 38400       block4a_project_bn[0][0]         \n",
      "__________________________________________________________________________________________________\n",
      "block4b_expand_bn (BatchNormali (None, None, None, 4 1920        block4b_expand_conv[0][0]        \n",
      "__________________________________________________________________________________________________\n",
      "block4b_expand_activation (Acti (None, None, None, 4 0           block4b_expand_bn[0][0]          \n",
      "__________________________________________________________________________________________________\n",
      "block4b_dwconv (DepthwiseConv2D (None, None, None, 4 4320        block4b_expand_activation[0][0]  \n",
      "__________________________________________________________________________________________________\n",
      "block4b_bn (BatchNormalization) (None, None, None, 4 1920        block4b_dwconv[0][0]             \n",
      "__________________________________________________________________________________________________\n",
      "block4b_activation (Activation) (None, None, None, 4 0           block4b_bn[0][0]                 \n",
      "__________________________________________________________________________________________________\n",
      "block4b_se_squeeze (GlobalAvera (None, 480)          0           block4b_activation[0][0]         \n",
      "__________________________________________________________________________________________________\n",
      "block4b_se_reshape (Reshape)    (None, 1, 1, 480)    0           block4b_se_squeeze[0][0]         \n",
      "__________________________________________________________________________________________________\n",
      "block4b_se_reduce (Conv2D)      (None, 1, 1, 20)     9620        block4b_se_reshape[0][0]         \n",
      "__________________________________________________________________________________________________\n",
      "block4b_se_expand (Conv2D)      (None, 1, 1, 480)    10080       block4b_se_reduce[0][0]          \n",
      "__________________________________________________________________________________________________\n",
      "block4b_se_excite (Multiply)    (None, None, None, 4 0           block4b_activation[0][0]         \n",
      "                                                                 block4b_se_expand[0][0]          \n",
      "__________________________________________________________________________________________________\n",
      "block4b_project_conv (Conv2D)   (None, None, None, 8 38400       block4b_se_excite[0][0]          \n",
      "__________________________________________________________________________________________________\n",
      "block4b_project_bn (BatchNormal (None, None, None, 8 320         block4b_project_conv[0][0]       \n",
      "__________________________________________________________________________________________________\n",
      "block4b_drop (Dropout)          (None, None, None, 8 0           block4b_project_bn[0][0]         \n",
      "__________________________________________________________________________________________________\n",
      "block4b_add (Add)               (None, None, None, 8 0           block4b_drop[0][0]               \n",
      "                                                                 block4a_project_bn[0][0]         \n",
      "__________________________________________________________________________________________________\n",
      "block4c_expand_conv (Conv2D)    (None, None, None, 4 38400       block4b_add[0][0]                \n",
      "__________________________________________________________________________________________________\n",
      "block4c_expand_bn (BatchNormali (None, None, None, 4 1920        block4c_expand_conv[0][0]        \n",
      "__________________________________________________________________________________________________\n",
      "block4c_expand_activation (Acti (None, None, None, 4 0           block4c_expand_bn[0][0]          \n",
      "__________________________________________________________________________________________________\n",
      "block4c_dwconv (DepthwiseConv2D (None, None, None, 4 4320        block4c_expand_activation[0][0]  \n",
      "__________________________________________________________________________________________________\n",
      "block4c_bn (BatchNormalization) (None, None, None, 4 1920        block4c_dwconv[0][0]             \n",
      "__________________________________________________________________________________________________\n",
      "block4c_activation (Activation) (None, None, None, 4 0           block4c_bn[0][0]                 \n",
      "__________________________________________________________________________________________________\n",
      "block4c_se_squeeze (GlobalAvera (None, 480)          0           block4c_activation[0][0]         \n",
      "__________________________________________________________________________________________________\n",
      "block4c_se_reshape (Reshape)    (None, 1, 1, 480)    0           block4c_se_squeeze[0][0]         \n",
      "__________________________________________________________________________________________________\n",
      "block4c_se_reduce (Conv2D)      (None, 1, 1, 20)     9620        block4c_se_reshape[0][0]         \n",
      "__________________________________________________________________________________________________\n",
      "block4c_se_expand (Conv2D)      (None, 1, 1, 480)    10080       block4c_se_reduce[0][0]          \n",
      "__________________________________________________________________________________________________\n",
      "block4c_se_excite (Multiply)    (None, None, None, 4 0           block4c_activation[0][0]         \n",
      "                                                                 block4c_se_expand[0][0]          \n",
      "__________________________________________________________________________________________________\n",
      "block4c_project_conv (Conv2D)   (None, None, None, 8 38400       block4c_se_excite[0][0]          \n",
      "__________________________________________________________________________________________________\n",
      "block4c_project_bn (BatchNormal (None, None, None, 8 320         block4c_project_conv[0][0]       \n",
      "__________________________________________________________________________________________________\n",
      "block4c_drop (Dropout)          (None, None, None, 8 0           block4c_project_bn[0][0]         \n",
      "__________________________________________________________________________________________________\n",
      "block4c_add (Add)               (None, None, None, 8 0           block4c_drop[0][0]               \n",
      "                                                                 block4b_add[0][0]                \n",
      "__________________________________________________________________________________________________\n",
      "block5a_expand_conv (Conv2D)    (None, None, None, 4 38400       block4c_add[0][0]                \n",
      "__________________________________________________________________________________________________\n",
      "block5a_expand_bn (BatchNormali (None, None, None, 4 1920        block5a_expand_conv[0][0]        \n",
      "__________________________________________________________________________________________________\n",
      "block5a_expand_activation (Acti (None, None, None, 4 0           block5a_expand_bn[0][0]          \n",
      "__________________________________________________________________________________________________\n",
      "block5a_dwconv (DepthwiseConv2D (None, None, None, 4 12000       block5a_expand_activation[0][0]  \n",
      "__________________________________________________________________________________________________\n",
      "block5a_bn (BatchNormalization) (None, None, None, 4 1920        block5a_dwconv[0][0]             \n",
      "__________________________________________________________________________________________________\n",
      "block5a_activation (Activation) (None, None, None, 4 0           block5a_bn[0][0]                 \n",
      "__________________________________________________________________________________________________\n",
      "block5a_se_squeeze (GlobalAvera (None, 480)          0           block5a_activation[0][0]         \n",
      "__________________________________________________________________________________________________\n",
      "block5a_se_reshape (Reshape)    (None, 1, 1, 480)    0           block5a_se_squeeze[0][0]         \n",
      "__________________________________________________________________________________________________\n",
      "block5a_se_reduce (Conv2D)      (None, 1, 1, 20)     9620        block5a_se_reshape[0][0]         \n",
      "__________________________________________________________________________________________________\n",
      "block5a_se_expand (Conv2D)      (None, 1, 1, 480)    10080       block5a_se_reduce[0][0]          \n",
      "__________________________________________________________________________________________________\n",
      "block5a_se_excite (Multiply)    (None, None, None, 4 0           block5a_activation[0][0]         \n",
      "                                                                 block5a_se_expand[0][0]          \n",
      "__________________________________________________________________________________________________\n",
      "block5a_project_conv (Conv2D)   (None, None, None, 1 53760       block5a_se_excite[0][0]          \n",
      "__________________________________________________________________________________________________\n",
      "block5a_project_bn (BatchNormal (None, None, None, 1 448         block5a_project_conv[0][0]       \n",
      "__________________________________________________________________________________________________\n",
      "block5b_expand_conv (Conv2D)    (None, None, None, 6 75264       block5a_project_bn[0][0]         \n",
      "__________________________________________________________________________________________________\n",
      "block5b_expand_bn (BatchNormali (None, None, None, 6 2688        block5b_expand_conv[0][0]        \n",
      "__________________________________________________________________________________________________\n",
      "block5b_expand_activation (Acti (None, None, None, 6 0           block5b_expand_bn[0][0]          \n",
      "__________________________________________________________________________________________________\n",
      "block5b_dwconv (DepthwiseConv2D (None, None, None, 6 16800       block5b_expand_activation[0][0]  \n",
      "__________________________________________________________________________________________________\n",
      "block5b_bn (BatchNormalization) (None, None, None, 6 2688        block5b_dwconv[0][0]             \n",
      "__________________________________________________________________________________________________\n",
      "block5b_activation (Activation) (None, None, None, 6 0           block5b_bn[0][0]                 \n",
      "__________________________________________________________________________________________________\n",
      "block5b_se_squeeze (GlobalAvera (None, 672)          0           block5b_activation[0][0]         \n",
      "__________________________________________________________________________________________________\n",
      "block5b_se_reshape (Reshape)    (None, 1, 1, 672)    0           block5b_se_squeeze[0][0]         \n",
      "__________________________________________________________________________________________________\n",
      "block5b_se_reduce (Conv2D)      (None, 1, 1, 28)     18844       block5b_se_reshape[0][0]         \n",
      "__________________________________________________________________________________________________\n",
      "block5b_se_expand (Conv2D)      (None, 1, 1, 672)    19488       block5b_se_reduce[0][0]          \n",
      "__________________________________________________________________________________________________\n",
      "block5b_se_excite (Multiply)    (None, None, None, 6 0           block5b_activation[0][0]         \n",
      "                                                                 block5b_se_expand[0][0]          \n",
      "__________________________________________________________________________________________________\n",
      "block5b_project_conv (Conv2D)   (None, None, None, 1 75264       block5b_se_excite[0][0]          \n",
      "__________________________________________________________________________________________________\n",
      "block5b_project_bn (BatchNormal (None, None, None, 1 448         block5b_project_conv[0][0]       \n",
      "__________________________________________________________________________________________________\n",
      "block5b_drop (Dropout)          (None, None, None, 1 0           block5b_project_bn[0][0]         \n",
      "__________________________________________________________________________________________________\n",
      "block5b_add (Add)               (None, None, None, 1 0           block5b_drop[0][0]               \n",
      "                                                                 block5a_project_bn[0][0]         \n",
      "__________________________________________________________________________________________________\n",
      "block5c_expand_conv (Conv2D)    (None, None, None, 6 75264       block5b_add[0][0]                \n",
      "__________________________________________________________________________________________________\n",
      "block5c_expand_bn (BatchNormali (None, None, None, 6 2688        block5c_expand_conv[0][0]        \n",
      "__________________________________________________________________________________________________\n",
      "block5c_expand_activation (Acti (None, None, None, 6 0           block5c_expand_bn[0][0]          \n",
      "__________________________________________________________________________________________________\n",
      "block5c_dwconv (DepthwiseConv2D (None, None, None, 6 16800       block5c_expand_activation[0][0]  \n",
      "__________________________________________________________________________________________________\n",
      "block5c_bn (BatchNormalization) (None, None, None, 6 2688        block5c_dwconv[0][0]             \n",
      "__________________________________________________________________________________________________\n",
      "block5c_activation (Activation) (None, None, None, 6 0           block5c_bn[0][0]                 \n",
      "__________________________________________________________________________________________________\n",
      "block5c_se_squeeze (GlobalAvera (None, 672)          0           block5c_activation[0][0]         \n",
      "__________________________________________________________________________________________________\n",
      "block5c_se_reshape (Reshape)    (None, 1, 1, 672)    0           block5c_se_squeeze[0][0]         \n",
      "__________________________________________________________________________________________________\n",
      "block5c_se_reduce (Conv2D)      (None, 1, 1, 28)     18844       block5c_se_reshape[0][0]         \n",
      "__________________________________________________________________________________________________\n",
      "block5c_se_expand (Conv2D)      (None, 1, 1, 672)    19488       block5c_se_reduce[0][0]          \n",
      "__________________________________________________________________________________________________\n",
      "block5c_se_excite (Multiply)    (None, None, None, 6 0           block5c_activation[0][0]         \n",
      "                                                                 block5c_se_expand[0][0]          \n",
      "__________________________________________________________________________________________________\n",
      "block5c_project_conv (Conv2D)   (None, None, None, 1 75264       block5c_se_excite[0][0]          \n",
      "__________________________________________________________________________________________________\n",
      "block5c_project_bn (BatchNormal (None, None, None, 1 448         block5c_project_conv[0][0]       \n",
      "__________________________________________________________________________________________________\n",
      "block5c_drop (Dropout)          (None, None, None, 1 0           block5c_project_bn[0][0]         \n",
      "__________________________________________________________________________________________________\n",
      "block5c_add (Add)               (None, None, None, 1 0           block5c_drop[0][0]               \n",
      "                                                                 block5b_add[0][0]                \n",
      "__________________________________________________________________________________________________\n",
      "block6a_expand_conv (Conv2D)    (None, None, None, 6 75264       block5c_add[0][0]                \n",
      "__________________________________________________________________________________________________\n",
      "block6a_expand_bn (BatchNormali (None, None, None, 6 2688        block6a_expand_conv[0][0]        \n",
      "__________________________________________________________________________________________________\n",
      "block6a_expand_activation (Acti (None, None, None, 6 0           block6a_expand_bn[0][0]          \n",
      "__________________________________________________________________________________________________\n",
      "block6a_dwconv_pad (ZeroPadding (None, None, None, 6 0           block6a_expand_activation[0][0]  \n",
      "__________________________________________________________________________________________________\n",
      "block6a_dwconv (DepthwiseConv2D (None, None, None, 6 16800       block6a_dwconv_pad[0][0]         \n",
      "__________________________________________________________________________________________________\n",
      "block6a_bn (BatchNormalization) (None, None, None, 6 2688        block6a_dwconv[0][0]             \n",
      "__________________________________________________________________________________________________\n",
      "block6a_activation (Activation) (None, None, None, 6 0           block6a_bn[0][0]                 \n",
      "__________________________________________________________________________________________________\n",
      "block6a_se_squeeze (GlobalAvera (None, 672)          0           block6a_activation[0][0]         \n",
      "__________________________________________________________________________________________________\n",
      "block6a_se_reshape (Reshape)    (None, 1, 1, 672)    0           block6a_se_squeeze[0][0]         \n",
      "__________________________________________________________________________________________________\n",
      "block6a_se_reduce (Conv2D)      (None, 1, 1, 28)     18844       block6a_se_reshape[0][0]         \n",
      "__________________________________________________________________________________________________\n",
      "block6a_se_expand (Conv2D)      (None, 1, 1, 672)    19488       block6a_se_reduce[0][0]          \n",
      "__________________________________________________________________________________________________\n",
      "block6a_se_excite (Multiply)    (None, None, None, 6 0           block6a_activation[0][0]         \n",
      "                                                                 block6a_se_expand[0][0]          \n",
      "__________________________________________________________________________________________________\n",
      "block6a_project_conv (Conv2D)   (None, None, None, 1 129024      block6a_se_excite[0][0]          \n",
      "__________________________________________________________________________________________________\n",
      "block6a_project_bn (BatchNormal (None, None, None, 1 768         block6a_project_conv[0][0]       \n",
      "__________________________________________________________________________________________________\n",
      "block6b_expand_conv (Conv2D)    (None, None, None, 1 221184      block6a_project_bn[0][0]         \n",
      "__________________________________________________________________________________________________\n",
      "block6b_expand_bn (BatchNormali (None, None, None, 1 4608        block6b_expand_conv[0][0]        \n",
      "__________________________________________________________________________________________________\n",
      "block6b_expand_activation (Acti (None, None, None, 1 0           block6b_expand_bn[0][0]          \n",
      "__________________________________________________________________________________________________\n",
      "block6b_dwconv (DepthwiseConv2D (None, None, None, 1 28800       block6b_expand_activation[0][0]  \n",
      "__________________________________________________________________________________________________\n",
      "block6b_bn (BatchNormalization) (None, None, None, 1 4608        block6b_dwconv[0][0]             \n",
      "__________________________________________________________________________________________________\n",
      "block6b_activation (Activation) (None, None, None, 1 0           block6b_bn[0][0]                 \n",
      "__________________________________________________________________________________________________\n",
      "block6b_se_squeeze (GlobalAvera (None, 1152)         0           block6b_activation[0][0]         \n",
      "__________________________________________________________________________________________________\n",
      "block6b_se_reshape (Reshape)    (None, 1, 1, 1152)   0           block6b_se_squeeze[0][0]         \n",
      "__________________________________________________________________________________________________\n",
      "block6b_se_reduce (Conv2D)      (None, 1, 1, 48)     55344       block6b_se_reshape[0][0]         \n",
      "__________________________________________________________________________________________________\n",
      "block6b_se_expand (Conv2D)      (None, 1, 1, 1152)   56448       block6b_se_reduce[0][0]          \n",
      "__________________________________________________________________________________________________\n",
      "block6b_se_excite (Multiply)    (None, None, None, 1 0           block6b_activation[0][0]         \n",
      "                                                                 block6b_se_expand[0][0]          \n",
      "__________________________________________________________________________________________________\n",
      "block6b_project_conv (Conv2D)   (None, None, None, 1 221184      block6b_se_excite[0][0]          \n",
      "__________________________________________________________________________________________________\n",
      "block6b_project_bn (BatchNormal (None, None, None, 1 768         block6b_project_conv[0][0]       \n",
      "__________________________________________________________________________________________________\n",
      "block6b_drop (Dropout)          (None, None, None, 1 0           block6b_project_bn[0][0]         \n",
      "__________________________________________________________________________________________________\n",
      "block6b_add (Add)               (None, None, None, 1 0           block6b_drop[0][0]               \n",
      "                                                                 block6a_project_bn[0][0]         \n",
      "__________________________________________________________________________________________________\n",
      "block6c_expand_conv (Conv2D)    (None, None, None, 1 221184      block6b_add[0][0]                \n",
      "__________________________________________________________________________________________________\n",
      "block6c_expand_bn (BatchNormali (None, None, None, 1 4608        block6c_expand_conv[0][0]        \n",
      "__________________________________________________________________________________________________\n",
      "block6c_expand_activation (Acti (None, None, None, 1 0           block6c_expand_bn[0][0]          \n",
      "__________________________________________________________________________________________________\n",
      "block6c_dwconv (DepthwiseConv2D (None, None, None, 1 28800       block6c_expand_activation[0][0]  \n",
      "__________________________________________________________________________________________________\n",
      "block6c_bn (BatchNormalization) (None, None, None, 1 4608        block6c_dwconv[0][0]             \n",
      "__________________________________________________________________________________________________\n",
      "block6c_activation (Activation) (None, None, None, 1 0           block6c_bn[0][0]                 \n",
      "__________________________________________________________________________________________________\n",
      "block6c_se_squeeze (GlobalAvera (None, 1152)         0           block6c_activation[0][0]         \n",
      "__________________________________________________________________________________________________\n",
      "block6c_se_reshape (Reshape)    (None, 1, 1, 1152)   0           block6c_se_squeeze[0][0]         \n",
      "__________________________________________________________________________________________________\n",
      "block6c_se_reduce (Conv2D)      (None, 1, 1, 48)     55344       block6c_se_reshape[0][0]         \n",
      "__________________________________________________________________________________________________\n",
      "block6c_se_expand (Conv2D)      (None, 1, 1, 1152)   56448       block6c_se_reduce[0][0]          \n",
      "__________________________________________________________________________________________________\n",
      "block6c_se_excite (Multiply)    (None, None, None, 1 0           block6c_activation[0][0]         \n",
      "                                                                 block6c_se_expand[0][0]          \n",
      "__________________________________________________________________________________________________\n",
      "block6c_project_conv (Conv2D)   (None, None, None, 1 221184      block6c_se_excite[0][0]          \n",
      "__________________________________________________________________________________________________\n",
      "block6c_project_bn (BatchNormal (None, None, None, 1 768         block6c_project_conv[0][0]       \n",
      "__________________________________________________________________________________________________\n",
      "block6c_drop (Dropout)          (None, None, None, 1 0           block6c_project_bn[0][0]         \n",
      "__________________________________________________________________________________________________\n",
      "block6c_add (Add)               (None, None, None, 1 0           block6c_drop[0][0]               \n",
      "                                                                 block6b_add[0][0]                \n",
      "__________________________________________________________________________________________________\n",
      "block6d_expand_conv (Conv2D)    (None, None, None, 1 221184      block6c_add[0][0]                \n",
      "__________________________________________________________________________________________________\n",
      "block6d_expand_bn (BatchNormali (None, None, None, 1 4608        block6d_expand_conv[0][0]        \n",
      "__________________________________________________________________________________________________\n",
      "block6d_expand_activation (Acti (None, None, None, 1 0           block6d_expand_bn[0][0]          \n",
      "__________________________________________________________________________________________________\n",
      "block6d_dwconv (DepthwiseConv2D (None, None, None, 1 28800       block6d_expand_activation[0][0]  \n",
      "__________________________________________________________________________________________________\n",
      "block6d_bn (BatchNormalization) (None, None, None, 1 4608        block6d_dwconv[0][0]             \n",
      "__________________________________________________________________________________________________\n",
      "block6d_activation (Activation) (None, None, None, 1 0           block6d_bn[0][0]                 \n",
      "__________________________________________________________________________________________________\n",
      "block6d_se_squeeze (GlobalAvera (None, 1152)         0           block6d_activation[0][0]         \n",
      "__________________________________________________________________________________________________\n",
      "block6d_se_reshape (Reshape)    (None, 1, 1, 1152)   0           block6d_se_squeeze[0][0]         \n",
      "__________________________________________________________________________________________________\n",
      "block6d_se_reduce (Conv2D)      (None, 1, 1, 48)     55344       block6d_se_reshape[0][0]         \n",
      "__________________________________________________________________________________________________\n",
      "block6d_se_expand (Conv2D)      (None, 1, 1, 1152)   56448       block6d_se_reduce[0][0]          \n",
      "__________________________________________________________________________________________________\n",
      "block6d_se_excite (Multiply)    (None, None, None, 1 0           block6d_activation[0][0]         \n",
      "                                                                 block6d_se_expand[0][0]          \n",
      "__________________________________________________________________________________________________\n",
      "block6d_project_conv (Conv2D)   (None, None, None, 1 221184      block6d_se_excite[0][0]          \n",
      "__________________________________________________________________________________________________\n",
      "block6d_project_bn (BatchNormal (None, None, None, 1 768         block6d_project_conv[0][0]       \n",
      "__________________________________________________________________________________________________\n",
      "block6d_drop (Dropout)          (None, None, None, 1 0           block6d_project_bn[0][0]         \n",
      "__________________________________________________________________________________________________\n",
      "block6d_add (Add)               (None, None, None, 1 0           block6d_drop[0][0]               \n",
      "                                                                 block6c_add[0][0]                \n",
      "__________________________________________________________________________________________________\n",
      "block7a_expand_conv (Conv2D)    (None, None, None, 1 221184      block6d_add[0][0]                \n",
      "__________________________________________________________________________________________________\n",
      "block7a_expand_bn (BatchNormali (None, None, None, 1 4608        block7a_expand_conv[0][0]        \n",
      "__________________________________________________________________________________________________\n",
      "block7a_expand_activation (Acti (None, None, None, 1 0           block7a_expand_bn[0][0]          \n",
      "__________________________________________________________________________________________________\n",
      "block7a_dwconv (DepthwiseConv2D (None, None, None, 1 10368       block7a_expand_activation[0][0]  \n",
      "__________________________________________________________________________________________________\n",
      "block7a_bn (BatchNormalization) (None, None, None, 1 4608        block7a_dwconv[0][0]             \n",
      "__________________________________________________________________________________________________\n",
      "block7a_activation (Activation) (None, None, None, 1 0           block7a_bn[0][0]                 \n",
      "__________________________________________________________________________________________________\n",
      "block7a_se_squeeze (GlobalAvera (None, 1152)         0           block7a_activation[0][0]         \n",
      "__________________________________________________________________________________________________\n",
      "block7a_se_reshape (Reshape)    (None, 1, 1, 1152)   0           block7a_se_squeeze[0][0]         \n",
      "__________________________________________________________________________________________________\n",
      "block7a_se_reduce (Conv2D)      (None, 1, 1, 48)     55344       block7a_se_reshape[0][0]         \n",
      "__________________________________________________________________________________________________\n",
      "block7a_se_expand (Conv2D)      (None, 1, 1, 1152)   56448       block7a_se_reduce[0][0]          \n",
      "__________________________________________________________________________________________________\n",
      "block7a_se_excite (Multiply)    (None, None, None, 1 0           block7a_activation[0][0]         \n",
      "                                                                 block7a_se_expand[0][0]          \n",
      "__________________________________________________________________________________________________\n",
      "block7a_project_conv (Conv2D)   (None, None, None, 3 368640      block7a_se_excite[0][0]          \n",
      "__________________________________________________________________________________________________\n",
      "block7a_project_bn (BatchNormal (None, None, None, 3 1280        block7a_project_conv[0][0]       \n",
      "__________________________________________________________________________________________________\n",
      "top_conv (Conv2D)               (None, None, None, 1 409600      block7a_project_bn[0][0]         \n",
      "__________________________________________________________________________________________________\n",
      "top_bn (BatchNormalization)     (None, None, None, 1 5120        top_conv[0][0]                   \n",
      "__________________________________________________________________________________________________\n",
      "top_activation (Activation)     (None, None, None, 1 0           top_bn[0][0]                     \n",
      "==================================================================================================\n",
      "Total params: 4,049,571\n",
      "Trainable params: 0\n",
      "Non-trainable params: 4,049,571\n",
      "__________________________________________________________________________________________________\n"
     ]
    }
   ],
   "source": [
    "# How about we get a summary of the base model?\n",
    "base_model.summary()"
   ]
  },
  {
   "cell_type": "code",
   "execution_count": 12,
   "id": "a49ea8b7-b72d-4261-82cc-f677fd3f9e2d",
   "metadata": {},
   "outputs": [
    {
     "name": "stdout",
     "output_type": "stream",
     "text": [
      "Model: \"model\"\n",
      "_________________________________________________________________\n",
      "Layer (type)                 Output Shape              Param #   \n",
      "=================================================================\n",
      "input_layer (InputLayer)     [(None, 224, 224, 3)]     0         \n",
      "_________________________________________________________________\n",
      "efficientnetb0 (Functional)  (None, None, None, 1280)  4049571   \n",
      "_________________________________________________________________\n",
      "global_average_pooling_layer (None, 1280)              0         \n",
      "_________________________________________________________________\n",
      "output_layer (Dense)         (None, 10)                12810     \n",
      "=================================================================\n",
      "Total params: 4,062,381\n",
      "Trainable params: 12,810\n",
      "Non-trainable params: 4,049,571\n",
      "_________________________________________________________________\n"
     ]
    }
   ],
   "source": [
    "# How about a summary of our whole model?\n",
    "model_0.summary()"
   ]
  },
  {
   "cell_type": "code",
   "execution_count": 13,
   "id": "be1f7a92-4953-44f8-ae93-0194a54562e8",
   "metadata": {},
   "outputs": [
    {
     "data": {
      "image/png": "[encoded data removed]",
      "text/plain": [
       "<Figure size 432x288 with 1 Axes>"
      ]
     },
     "metadata": {
      "needs_background": "light"
     },
     "output_type": "display_data"
    },
    {
     "data": {
      "image/png": "[encoded data removed]",
      "text/plain": [
       "<Figure size 432x288 with 1 Axes>"
      ]
     },
     "metadata": {
      "needs_background": "light"
     },
     "output_type": "display_data"
    }
   ],
   "source": [
    "# Check out our model's loss curves\n",
    "plot_loss_curves(history_0)"
   ]
  },
  {
   "cell_type": "markdown",
   "id": "3aba878a-dd17-4a1b-b779-a7fe6b7af68c",
   "metadata": {},
   "source": [
    "## Getting a feature vector from a trained model\n",
    "\n",
    "Let's demonstrate the Global Average Pooling 2D layer...\n",
    "\n",
    "We have a tensor after our model goes through `base_model` of shape (None, 7, 7, 1280)..\n",
    "\n",
    "But then it passes through GlobalAveragePooling2D, it turns into (None, 1280)\n",
    "\n",
    "Let's use a similar shaped tensor of (1, 4, 4, 3) and then pass it to GlobalAveragePooling2D."
   ]
  },
  {
   "cell_type": "code",
   "execution_count": 14,
   "id": "be3035c2-3eae-4374-9b52-ea32bab14e5e",
   "metadata": {},
   "outputs": [
    {
     "name": "stdout",
     "output_type": "stream",
     "text": [
      "Random input tensor: \n",
      " [[[[ 0.3274685  -0.8426258   0.3194337 ]\n",
      "   [-1.4075519  -2.3880599  -1.0392479 ]\n",
      "   [-0.5573232   0.539707    1.6994323 ]\n",
      "   [ 0.28893656 -1.5066116  -0.2645474 ]]\n",
      "\n",
      "  [[-0.59722406 -1.9171132  -0.62044144]\n",
      "   [ 0.8504023  -0.40604794 -3.0258412 ]\n",
      "   [ 0.9058464   0.29855987 -0.22561555]\n",
      "   [-0.7616443  -1.8917141  -0.93847126]]\n",
      "\n",
      "  [[ 0.77852213 -0.47338897  0.97772694]\n",
      "   [ 0.24694404  0.20573747 -0.5256233 ]\n",
      "   [ 0.32410017  0.02545409 -0.10638497]\n",
      "   [-0.6369475   1.1603122   0.2507359 ]]\n",
      "\n",
      "  [[-0.41728503  0.4012578  -1.4145443 ]\n",
      "   [-0.5931857  -1.6617213   0.33567193]\n",
      "   [ 0.10815629  0.23479682 -0.56668764]\n",
      "   [-0.35819843  0.88698614  0.52744764]]]] \n",
      "\n",
      "2D Global average pooled random tensor: \n",
      " [[-0.09368646 -0.45840448 -0.2885598 ]] \n",
      "\n",
      "Shape of input tensor: (1, 4, 4, 3)\n",
      "Shape of Global Average Pooled 2D tensor: (1, 3)\n"
     ]
    }
   ],
   "source": [
    "# Define the input shape\n",
    "input_shape = (1, 4, 4, 3)\n",
    "\n",
    "# Create a random tensor\n",
    "tf.random.set_seed(42)\n",
    "input_tensor = tf.random.normal(input_shape)\n",
    "print(f'Random input tensor: \\n {input_tensor} \\n')\n",
    "\n",
    "# Pass the random tensor through a global average pooling 2D layer\n",
    "global_average_pooled_tensor = tf.keras.layers.GlobalAveragePooling2D()(input_tensor)\n",
    "print(f'2D Global average pooled random tensor: \\n {global_average_pooled_tensor} \\n')\n",
    "\n",
    "# check the shape of the different tensors\n",
    "print(f'Shape of input tensor: {input_tensor.shape}')\n",
    "print(f'Shape of Global Average Pooled 2D tensor: {global_average_pooled_tensor.shape}')"
   ]
  },
  {
   "cell_type": "code",
   "execution_count": 15,
   "id": "76c2e9b5-d94b-451b-8c93-835700794853",
   "metadata": {},
   "outputs": [
    {
     "data": {
      "text/plain": [
       "<tf.Tensor: shape=(1, 3), dtype=float32, numpy=array([[-0.09368646, -0.45840448, -0.2885598 ]], dtype=float32)>"
      ]
     },
     "execution_count": 15,
     "metadata": {},
     "output_type": "execute_result"
    }
   ],
   "source": [
    "# Let's replicate the GlobalAveragePool2D layer\n",
    "tf.reduce_mean(input_tensor, axis = [1,2])"
   ]
  },
  {
   "cell_type": "code",
   "execution_count": 16,
   "id": "b1dbb099-7975-44a4-ab64-eb516b4050d1",
   "metadata": {},
   "outputs": [
    {
     "name": "stdout",
     "output_type": "stream",
     "text": [
      "Random input tensor: \n",
      " [[[[ 0.3274685  -0.8426258   0.3194337 ]\n",
      "   [-1.4075519  -2.3880599  -1.0392479 ]\n",
      "   [-0.5573232   0.539707    1.6994323 ]\n",
      "   [ 0.28893656 -1.5066116  -0.2645474 ]]\n",
      "\n",
      "  [[-0.59722406 -1.9171132  -0.62044144]\n",
      "   [ 0.8504023  -0.40604794 -3.0258412 ]\n",
      "   [ 0.9058464   0.29855987 -0.22561555]\n",
      "   [-0.7616443  -1.8917141  -0.93847126]]\n",
      "\n",
      "  [[ 0.77852213 -0.47338897  0.97772694]\n",
      "   [ 0.24694404  0.20573747 -0.5256233 ]\n",
      "   [ 0.32410017  0.02545409 -0.10638497]\n",
      "   [-0.6369475   1.1603122   0.2507359 ]]\n",
      "\n",
      "  [[-0.41728503  0.4012578  -1.4145443 ]\n",
      "   [-0.5931857  -1.6617213   0.33567193]\n",
      "   [ 0.10815629  0.23479682 -0.56668764]\n",
      "   [-0.35819843  0.88698614  0.52744764]]]] \n",
      "\n",
      "2D Global average pooled random tensor: \n",
      " [[0.9058464 1.1603122 1.6994323]] \n",
      "\n",
      "Shape of input tensor: (1, 4, 4, 3)\n",
      "Shape of Global Average Pooled 2D tensor: (1, 3)\n"
     ]
    }
   ],
   "source": [
    "print(f'Random input tensor: \\n {input_tensor} \\n')\n",
    "\n",
    "# Pass the random tensor through a global max pooling 2D layer\n",
    "global_average_pooled_tensor = tf.keras.layers.GlobalMaxPooling2D()(input_tensor)\n",
    "print(f'2D Global average pooled random tensor: \\n {global_average_pooled_tensor} \\n')\n",
    "\n",
    "# check the shape of the different tensors\n",
    "print(f'Shape of input tensor: {input_tensor.shape}')\n",
    "print(f'Shape of Global Average Pooled 2D tensor: {global_average_pooled_tensor.shape}')"
   ]
  },
  {
   "cell_type": "markdown",
   "id": "07de47c9-5997-4dba-af07-8722efb0c9f9",
   "metadata": {},
   "source": [
    "🔑 **Note:** One of the reasons feature extraction transfer learning is named how it is, is because what often happens is pretrained models outputs a **feature vector** (a long tensor of numbers which represents the learned representation of a model on a particular sample, in our case, this is the output of the `tf.keras.layers.GlobalAveragePooling2D()` layer) which can be used to extract patterns out of our own specific problem"
   ]
  },
  {
   "cell_type": "markdown",
   "id": "f093b5fa-bf2e-4836-badf-5acdcf0908d5",
   "metadata": {},
   "source": [
    "## Running a series of transfer learning experiments\n",
    "\n",
    "We've seen the incredible results transfer learning can get with only 10% of training data, but how does it go with 1% of the training data ... how about we set up a bunch of experimetns to find out:\n",
    "\n",
    "1. `model_1` - use feature extraction transfer learning with 1% of the training data with data augmentation\n",
    "2. `model_2` - use feature extraction transfer learning with 10% of the training data augmentation\n",
    "3. `model_3` - use fine-tuning transfer learning on 10% of the training data with data augmentation.\n",
    "4. `model_4` - use fine-tuning transfer learning on 100% of the training data with data augmentation. \n",
    "\n",
    "> 🔑 **Note**: throughout all experiments the same test dataset will be used to evaluate our model... this ensures consitency across evaluation metrics. "
   ]
  },
  {
   "cell_type": "markdown",
   "id": "b630682e-d534-497e-bf25-f7d6dc599b7c",
   "metadata": {},
   "source": [
    "### Getting and preprocessing data for model_1"
   ]
  },
  {
   "cell_type": "code",
   "execution_count": 17,
   "id": "a886a25f-0a5f-49f4-a61e-de8ff9f1cb0c",
   "metadata": {},
   "outputs": [
    {
     "name": "stdout",
     "output_type": "stream",
     "text": [
      "\n",
      "Saved under 10_food_classes_1_percent (1).zip\n"
     ]
    }
   ],
   "source": [
    "# Download and unzip data \n",
    "!python -m wget https://storage.googleapis.com/ztm_tf_course/food_vision/10_food_classes_1_percent.zip"
   ]
  },
  {
   "cell_type": "code",
   "execution_count": 18,
   "id": "b4487d25-d13e-4fb2-be02-faa68f83090e",
   "metadata": {},
   "outputs": [],
   "source": [
    "unzip_data('10_food_classes_1_percent.zip')"
   ]
  },
  {
   "cell_type": "code",
   "execution_count": 19,
   "id": "712d71ae-109b-4daf-9d61-47eff8f686f5",
   "metadata": {},
   "outputs": [],
   "source": [
    "# Create training and test dirs\n",
    "train_dir_1_percent = '10_food_classes_1_percent/train'\n",
    "test_dir = '10_food_classes_1_percent/test'"
   ]
  },
  {
   "cell_type": "code",
   "execution_count": 20,
   "id": "32010d4d-066a-445d-b039-e65db91d4b51",
   "metadata": {},
   "outputs": [
    {
     "name": "stdout",
     "output_type": "stream",
     "text": [
      "There are 2 directories and 0 images in '10_food_classes_1_percent'.\n",
      "There are 10 directories and 0 images in '10_food_classes_1_percent\\test'.\n",
      "There are 0 directories and 250 images in '10_food_classes_1_percent\\test\\chicken_curry'.\n",
      "There are 0 directories and 250 images in '10_food_classes_1_percent\\test\\chicken_wings'.\n",
      "There are 0 directories and 250 images in '10_food_classes_1_percent\\test\\fried_rice'.\n",
      "There are 0 directories and 250 images in '10_food_classes_1_percent\\test\\grilled_salmon'.\n",
      "There are 0 directories and 250 images in '10_food_classes_1_percent\\test\\hamburger'.\n",
      "There are 0 directories and 250 images in '10_food_classes_1_percent\\test\\ice_cream'.\n",
      "There are 0 directories and 250 images in '10_food_classes_1_percent\\test\\pizza'.\n",
      "There are 0 directories and 250 images in '10_food_classes_1_percent\\test\\ramen'.\n",
      "There are 0 directories and 250 images in '10_food_classes_1_percent\\test\\steak'.\n",
      "There are 0 directories and 250 images in '10_food_classes_1_percent\\test\\sushi'.\n",
      "There are 10 directories and 0 images in '10_food_classes_1_percent\\train'.\n",
      "There are 0 directories and 7 images in '10_food_classes_1_percent\\train\\chicken_curry'.\n",
      "There are 0 directories and 7 images in '10_food_classes_1_percent\\train\\chicken_wings'.\n",
      "There are 0 directories and 7 images in '10_food_classes_1_percent\\train\\fried_rice'.\n",
      "There are 0 directories and 7 images in '10_food_classes_1_percent\\train\\grilled_salmon'.\n",
      "There are 0 directories and 7 images in '10_food_classes_1_percent\\train\\hamburger'.\n",
      "There are 0 directories and 7 images in '10_food_classes_1_percent\\train\\ice_cream'.\n",
      "There are 0 directories and 7 images in '10_food_classes_1_percent\\train\\pizza'.\n",
      "There are 0 directories and 7 images in '10_food_classes_1_percent\\train\\ramen'.\n",
      "There are 0 directories and 7 images in '10_food_classes_1_percent\\train\\steak'.\n",
      "There are 0 directories and 7 images in '10_food_classes_1_percent\\train\\sushi'.\n"
     ]
    }
   ],
   "source": [
    "# How many images are we working with?\n",
    "walk_through_dir('10_food_classes_1_percent')"
   ]
  },
  {
   "cell_type": "code",
   "execution_count": 21,
   "id": "1002c56f-7364-45ca-b959-5182decb828a",
   "metadata": {},
   "outputs": [
    {
     "name": "stdout",
     "output_type": "stream",
     "text": [
      "Found 70 files belonging to 10 classes.\n",
      "Found 2500 files belonging to 10 classes.\n"
     ]
    }
   ],
   "source": [
    "# Setup data loaders\n",
    "IMG_SIZE = (224, 224)\n",
    "train_data_1_percent = tf.keras.utils.image_dataset_from_directory(train_dir_1_percent,\n",
    "                                                                  label_mode = 'categorical',\n",
    "                                                                  image_size=IMG_SIZE,\n",
    "                                                                  batch_size=BATCH_SIZE) # default = 32\n",
    "\n",
    "test_data_1_percent = tf.keras.utils.image_dataset_from_directory(test_dir,\n",
    "                                                                 label_mode = 'categorical',\n",
    "                                                                 image_size= IMG_SIZE,\n",
    "                                                                 batch_size=BATCH_SIZE)"
   ]
  },
  {
   "cell_type": "markdown",
   "id": "a589f1fe-dbfd-4ad0-824e-fc1464a23979",
   "metadata": {},
   "source": [
    "## Adding data augmentation right into the model\n",
    "\n",
    "To add data augmentation right into our models we can use the layers inside:\n",
    "\n",
    "* `tf.keras.layers.experimental.preprocessing()`\n",
    "\n",
    "We can see the benefits of doing this within the TensorFlow data augmentation documentation.\n",
    "\n",
    "Off the top of our heads, after reading the documentation, the benefits of using data augmentation inside the model are:\n",
    "* Preprocessing of images (augmenting them) happens on the GPU (much faster) rather than the CPU.\n",
    "* Image data augmentation only happens during training, so we can still export our whole model and use it elsewhere."
   ]
  },
  {
   "cell_type": "code",
   "execution_count": 22,
   "id": "b98ece51-dc57-4b42-9e0a-18042fd009b5",
   "metadata": {},
   "outputs": [],
   "source": [
    "import tensorflow as tf\n",
    "from tensorflow import keras\n",
    "from tensorflow.keras import layers\n",
    "\n",
    "# Create data augmentation stage with horizontal flipping, rotations, zoom, etc.\n",
    "data_augmentation = keras.Sequential([\n",
    "    layers.RandomFlip('horizontal'),\n",
    "    layers.RandomRotation(0.2),\n",
    "    layers.RandomZoom(0.2),\n",
    "    layers.RandomHeight(0.2),\n",
    "    layers.RandomWidth(0.2),\n",
    "    #layers.Rescaling(1./255) # Keep for models like ResNet50V2 but EfficientNet is built-in\n",
    "], name = 'data_augmentation')"
   ]
  },
  {
   "cell_type": "markdown",
   "id": "674c758f-05d1-479e-881c-bb43e9f57772",
   "metadata": {},
   "source": [
    "### Visualize our data augmentation layer (and see what happens to our data)"
   ]
  },
  {
   "cell_type": "code",
   "execution_count": 23,
   "id": "d5dae0a8-9e1b-4012-84ed-5f754223a61a",
   "metadata": {},
   "outputs": [
    {
     "data": {
      "image/png": "[encoded data removed]",
      "text/plain": [
       "<Figure size 432x288 with 1 Axes>"
      ]
     },
     "metadata": {
      "needs_background": "light"
     },
     "output_type": "display_data"
    },
    {
     "data": {
      "image/png": "[encoded data removed]",
      "text/plain": [
       "<Figure size 432x288 with 1 Axes>"
      ]
     },
     "metadata": {
      "needs_background": "light"
     },
     "output_type": "display_data"
    }
   ],
   "source": [
    "# View a random image and compare it to its augmented version\n",
    "import matplotlib.pyplot as plt\n",
    "import matplotlib.image as mpimg\n",
    "import os\n",
    "import random\n",
    "target_class = random.choice(train_data_1_percent.class_names)\n",
    "target_dir = '10_food_classes_1_percent/train/' + target_class\n",
    "random_image = random.choice(os.listdir(target_dir))\n",
    "random_image_path = target_dir + '/' + random_image\n",
    "\n",
    "# Read and plot the random image\n",
    "img = mpimg.imread(random_image_path)\n",
    "plt.imshow(img)\n",
    "plt.title(f'Original random image from class {target_class}')\n",
    "plt.axis(False);\n",
    "\n",
    "# Now let's plot our augmented random image\n",
    "augmented_img = data_augmentation(tf.expand_dims(img, axis = 0))\n",
    "plt.figure()\n",
    "plt.imshow(tf.squeeze(augmented_img)/255.)\n",
    "plt.title(f'Augmented random image from class {target_class}')\n",
    "plt.axis(False);"
   ]
  },
  {
   "cell_type": "markdown",
   "id": "8b728f4e-fd97-493b-a988-521f52d903b8",
   "metadata": {},
   "source": [
    "## Model 1 : Feature extraction transfer learning on 1% of the data with data augmentation"
   ]
  },
  {
   "cell_type": "code",
   "execution_count": 24,
   "id": "347703a3-9a3b-44c6-bbb0-e3931201623d",
   "metadata": {},
   "outputs": [
    {
     "name": "stdout",
     "output_type": "stream",
     "text": [
      "Saving TensorBoard log files to: transfer_learning/1_percent_data_aug/20210915-202147\n",
      "Epoch 1/5\n",
      "3/3 [==============================] - 13s 3s/step - loss: 2.4495 - accuracy: 0.1286 - val_loss: 2.2245 - val_accuracy: 0.1727\n",
      "Epoch 2/5\n",
      "3/3 [==============================] - 5s 2s/step - loss: 2.1436 - accuracy: 0.2857 - val_loss: 2.1139 - val_accuracy: 0.2303\n",
      "Epoch 3/5\n",
      "3/3 [==============================] - 5s 2s/step - loss: 1.9927 - accuracy: 0.4000 - val_loss: 1.9959 - val_accuracy: 0.3141\n",
      "Epoch 4/5\n",
      "3/3 [==============================] - 4s 2s/step - loss: 1.8152 - accuracy: 0.5571 - val_loss: 1.9012 - val_accuracy: 0.3799\n",
      "Epoch 5/5\n",
      "3/3 [==============================] - 5s 2s/step - loss: 1.6762 - accuracy: 0.5571 - val_loss: 1.8254 - val_accuracy: 0.4260\n"
     ]
    }
   ],
   "source": [
    "# setup the input shape and base model, freezing the base model of layers\n",
    "input_shape = IMG_SIZE + (3, )\n",
    "base_model = tf.keras.applications.EfficientNetB0(include_top= False)\n",
    "base_model.trainable = False\n",
    "\n",
    "# Create input layer\n",
    "inputs = layers.Input(shape = input_shape, name = 'input_layer')\n",
    "\n",
    "# add in data augmentation sequential model as a layer\n",
    "x = data_augmentation(inputs)\n",
    "\n",
    "# Give base_model the inputs (after augmentation) and don't train it\n",
    "x = base_model(x, training=False)\n",
    "\n",
    "# Pool output features of the base model\n",
    "x = layers.GlobalAveragePooling2D(name ='global_average_pooling_layer')(x)\n",
    "\n",
    "# Put a dense layer on as the output\n",
    "outputs = layers.Dense(10, activation = 'softmax', name='output_layer')(x)\n",
    "\n",
    "# Make a model using the inputs and outputs\n",
    "model_1 = keras.Model(inputs, outputs)\n",
    "\n",
    "# compile the model\n",
    "model_1.compile(loss = 'categorical_crossentropy',\n",
    "               optimizer = tf.keras.optimizers.Adam(),\n",
    "               metrics = ['accuracy'])\n",
    "\n",
    "# fit the model\n",
    "history_1_percent = model_1.fit(train_data_1_percent,\n",
    "                               epochs=5,\n",
    "                               steps_per_epoch=len(train_data_1_percent),\n",
    "                               validation_data=test_data,\n",
    "                               validation_steps=int(0.25 * len(test_data)),\n",
    "                               # Track model training logs\n",
    "                               callbacks = [create_tensorboard_callback(dir_name ='transfer_learning',\n",
    "                                                                        experiment_name='1_percent_data_aug')])"
   ]
  },
  {
   "cell_type": "code",
   "execution_count": 25,
   "id": "871a0214-7c44-4aa7-a877-d5f3172a7215",
   "metadata": {},
   "outputs": [
    {
     "name": "stdout",
     "output_type": "stream",
     "text": [
      "Model: \"model_1\"\n",
      "_________________________________________________________________\n",
      "Layer (type)                 Output Shape              Param #   \n",
      "=================================================================\n",
      "input_layer (InputLayer)     [(None, 224, 224, 3)]     0         \n",
      "_________________________________________________________________\n",
      "data_augmentation (Sequentia (None, None, None, 3)     0         \n",
      "_________________________________________________________________\n",
      "efficientnetb0 (Functional)  (None, None, None, 1280)  4049571   \n",
      "_________________________________________________________________\n",
      "global_average_pooling_layer (None, 1280)              0         \n",
      "_________________________________________________________________\n",
      "output_layer (Dense)         (None, 10)                12810     \n",
      "=================================================================\n",
      "Total params: 4,062,381\n",
      "Trainable params: 12,810\n",
      "Non-trainable params: 4,049,571\n",
      "_________________________________________________________________\n"
     ]
    }
   ],
   "source": [
    "# Check out a model summary \n",
    "model_1.summary()"
   ]
  },
  {
   "cell_type": "code",
   "execution_count": 26,
   "id": "6a28b507-2eb8-4379-a74a-6fd161f8b282",
   "metadata": {},
   "outputs": [
    {
     "name": "stdout",
     "output_type": "stream",
     "text": [
      "79/79 [==============================] - 12s 148ms/step - loss: 1.8253 - accuracy: 0.4364\n"
     ]
    },
    {
     "data": {
      "text/plain": [
       "[1.8252841234207153, 0.43639999628067017]"
      ]
     },
     "execution_count": 26,
     "metadata": {},
     "output_type": "execute_result"
    }
   ],
   "source": [
    "# Evaluate on the full test set\n",
    "results_1_percent_data_aug = model_1.evaluate(test_data_1_percent)\n",
    "results_1_percent_data_aug"
   ]
  },
  {
   "cell_type": "code",
   "execution_count": 27,
   "id": "77b7ea47-040a-4fff-8cab-1a5956e9167c",
   "metadata": {},
   "outputs": [
    {
     "data": {
      "image/png": "[encoded data removed]",
      "text/plain": [
       "<Figure size 432x288 with 1 Axes>"
      ]
     },
     "metadata": {
      "needs_background": "light"
     },
     "output_type": "display_data"
    },
    {
     "data": {
      "image/png": "[encoded data removed]",
      "text/plain": [
       "<Figure size 432x288 with 1 Axes>"
      ]
     },
     "metadata": {
      "needs_background": "light"
     },
     "output_type": "display_data"
    }
   ],
   "source": [
    "# How do the model with 1% and data aug loss curves look?\n",
    "plot_loss_curves(history_1_percent)"
   ]
  },
  {
   "cell_type": "markdown",
   "id": "bebb5729-e686-448e-8e61-d93ede5aaac6",
   "metadata": {},
   "source": [
    "## Model 2: Feature extraction transfer learning on 10% of the data with data augmentation"
   ]
  },
  {
   "cell_type": "code",
   "execution_count": 28,
   "id": "eb53533c-3110-4343-9cce-5ed4c9cfdbb1",
   "metadata": {},
   "outputs": [
    {
     "name": "stdout",
     "output_type": "stream",
     "text": [
      "Found 750 files belonging to 10 classes.\n",
      "Found 2500 files belonging to 10 classes.\n"
     ]
    }
   ],
   "source": [
    "# Getting the data\n",
    "train_dir_10_percent = '10_food_classes_10_percent/train'\n",
    "test_dir = '10_food_classes_10_percent/test'\n",
    "\n",
    "# Set data inputs\n",
    "import tensorflow as tf\n",
    "IMG_SIZE = (224, 224)\n",
    "\n",
    "train_data_10_percent = tf.keras.utils.image_dataset_from_directory(train_dir_10_percent,\n",
    "                                                                  label_mode = 'categorical',\n",
    "                                                                  image_size=IMG_SIZE,\n",
    "                                                                  batch_size=BATCH_SIZE) # default = 32\n",
    "\n",
    "test_data_10_percent = tf.keras.utils.image_dataset_from_directory(test_dir,\n",
    "                                                                 label_mode = 'categorical',\n",
    "                                                                 image_size= IMG_SIZE,\n",
    "                                                                 batch_size=BATCH_SIZE)"
   ]
  },
  {
   "cell_type": "code",
   "execution_count": 34,
   "id": "c648ed60-5ffa-4c21-b095-4bc65335f1d5",
   "metadata": {},
   "outputs": [],
   "source": [
    "# Create model 2 with data augmentation\n",
    "from tensorflow.keras import layers\n",
    "from tensorflow.keras.models import Sequential\n",
    "\n",
    "# Build data augmentation layer\n",
    "data_augmentation = Sequential([\n",
    "    layers.RandomFlip('horizontal'),\n",
    "    layers.RandomHeight(0.2),\n",
    "    layers.RandomWidth(0.2),\n",
    "    layers.RandomZoom(0.2),\n",
    "    layers.RandomRotation(0.2),\n",
    "    #layers.Rescaling(1/255.) # In this model not required\n",
    "    \n",
    "], name = 'data_augmentation')\n",
    "\n",
    "# Setup the input shape to our model\n",
    "input_shape = IMG_SIZE + (3, ) # (224, 224, 3)"
   ]
  },
  {
   "cell_type": "code",
   "execution_count": 55,
   "id": "c265bc58-2adc-4f98-adbf-04ab86d625e7",
   "metadata": {},
   "outputs": [],
   "source": [
    "# Create a frozen base model (also called backbone)\n",
    "base_model = tf.keras.applications.EfficientNetB0(include_top= False)\n",
    "base_model.trainable = False\n",
    "\n",
    "# Create input layer\n",
    "inputs = layers.Input(shape = input_shape, name = 'input_layer')\n",
    "\n",
    "# Data augmentation layer\n",
    "x = data_augmentation(inputs)\n",
    "# EffNet Layer\n",
    "x = base_model(x)\n",
    "# Pool output features of the base model\n",
    "x = layers.GlobalAvgPool2D(name = 'global_avg_pooling')(x)\n",
    "# Put a dense layer on as the output \n",
    "outputs = layers.Dense(10, activation = 'softmax', name='output_layer')(x)\n",
    "\n",
    "# Make model\n",
    "model_2 = keras.Model(inputs, outputs)\n",
    "\n",
    "# Compile\n",
    "model_2.compile(loss = 'categorical_crossentropy',\n",
    "               optimizer = tf.keras.optimizers.Adam(),\n",
    "               metrics = ['accuracy'])"
   ]
  },
  {
   "cell_type": "markdown",
   "id": "829732b8-f8bf-4dc5-a5dd-0cc8a64c4e0b",
   "metadata": {},
   "source": [
    "### Creating a ModelCheckpointCallback\n",
    "\n",
    "The model checkpoint callback intermediately saves our model (the full model or just the weights during training). This is usfeul so we can come and start where we left off."
   ]
  },
  {
   "cell_type": "code",
   "execution_count": 56,
   "id": "62fa38ea-cf59-4014-adef-883a37a089eb",
   "metadata": {},
   "outputs": [],
   "source": [
    "# Checkpoint path\n",
    "checkpoint_path = './tmp/ten_percent_model_checkpoints_weights/'\n",
    "\n",
    "# Create a ModelCheckpoint callback that saves the model's weights only\n",
    "checkpoint_callback = tf.keras.callbacks.ModelCheckpoint(checkpoint_path, \n",
    "                                                        save_weights_only=True,\n",
    "                                                        save_best_only=False,\n",
    "                                                        save_freq = 'epoch',\n",
    "                                                        verbose = 1)"
   ]
  },
  {
   "cell_type": "markdown",
   "id": "c7c715d6-550e-441e-81c8-b398935a29f3",
   "metadata": {},
   "source": [
    "### Fit model 2 passing in the ModelCheckpoint callback"
   ]
  },
  {
   "cell_type": "code",
   "execution_count": 57,
   "id": "78907ca0-8661-4aaa-8665-a9fbac495bb7",
   "metadata": {},
   "outputs": [
    {
     "name": "stdout",
     "output_type": "stream",
     "text": [
      "Saving TensorBoard log files to: transfer_learning/10_percent_data_aug/20210915-212259\n",
      "Epoch 1/5\n"
     ]
    },
    {
     "name": "stderr",
     "output_type": "stream",
     "text": [
      "D:\\Anaconda3\\envs\\TensorflowTut\\lib\\site-packages\\keras\\utils\\generic_utils.py:494: CustomMaskWarning: Custom mask layers require a config and must override get_config. When loading, the custom mask layer must be passed to the custom_objects argument.\n",
      "  warnings.warn('Custom mask layers require a config and must override '\n"
     ]
    },
    {
     "name": "stdout",
     "output_type": "stream",
     "text": [
      "24/24 [==============================] - 17s 530ms/step - loss: 2.0631 - accuracy: 0.2747 - val_loss: 1.5026 - val_accuracy: 0.5921\n",
      "\n",
      "Epoch 00001: saving model to ./tmp/ten_percent_model_checkpoints_weights\\\n",
      "Epoch 2/5\n",
      "24/24 [==============================] - 12s 484ms/step - loss: 1.4321 - accuracy: 0.6253 - val_loss: 1.0786 - val_accuracy: 0.7220\n",
      "\n",
      "Epoch 00002: saving model to ./tmp/ten_percent_model_checkpoints_weights\\\n",
      "Epoch 3/5\n",
      "24/24 [==============================] - 11s 466ms/step - loss: 1.1337 - accuracy: 0.7040 - val_loss: 0.8957 - val_accuracy: 0.7664\n",
      "\n",
      "Epoch 00003: saving model to ./tmp/ten_percent_model_checkpoints_weights\\\n",
      "Epoch 4/5\n",
      "24/24 [==============================] - 12s 517ms/step - loss: 0.9581 - accuracy: 0.7547 - val_loss: 0.7664 - val_accuracy: 0.7944\n",
      "\n",
      "Epoch 00004: saving model to ./tmp/ten_percent_model_checkpoints_weights\\\n",
      "Epoch 5/5\n",
      "24/24 [==============================] - 12s 509ms/step - loss: 0.8414 - accuracy: 0.7707 - val_loss: 0.7147 - val_accuracy: 0.7911\n",
      "\n",
      "Epoch 00005: saving model to ./tmp/ten_percent_model_checkpoints_weights\\\n"
     ]
    }
   ],
   "source": [
    "# Fit the model saving checkpoints every epoch\n",
    "initial_epochs = 5\n",
    "history_10_percent_data_aug = model_2.fit(train_data_10_percent,\n",
    "                                         batch_size=32,\n",
    "                                         epochs = initial_epochs,\n",
    "                                         validation_data = test_data,\n",
    "                                         validation_steps = int(0.25 * len(test_data)),\n",
    "                                         callbacks = [create_tensorboard_callback(dir_name = 'transfer_learning',\n",
    "                                                                                 experiment_name='10_percent_data_aug'),\n",
    "                                                     checkpoint_callback])  "
   ]
  },
  {
   "cell_type": "code",
   "execution_count": 58,
   "id": "b37e9302-a806-4148-b7cc-29a8cc08bd30",
   "metadata": {},
   "outputs": [
    {
     "name": "stdout",
     "output_type": "stream",
     "text": [
      "79/79 [==============================] - 13s 160ms/step - loss: 0.6220 - accuracy: 0.8392\n"
     ]
    },
    {
     "data": {
      "text/plain": [
       "[0.6219576597213745, 0.8392000198364258]"
      ]
     },
     "execution_count": 58,
     "metadata": {},
     "output_type": "execute_result"
    }
   ],
   "source": [
    "model_0.evaluate(test_data)"
   ]
  },
  {
   "cell_type": "code",
   "execution_count": 59,
   "id": "1d79ce3a-8ec4-4140-b4d7-7c2dd42c9e8c",
   "metadata": {},
   "outputs": [
    {
     "name": "stdout",
     "output_type": "stream",
     "text": [
      "79/79 [==============================] - 13s 155ms/step - loss: 0.7095 - accuracy: 0.8120\n"
     ]
    },
    {
     "data": {
      "text/plain": [
       "[0.7095127105712891, 0.8119999766349792]"
      ]
     },
     "execution_count": 59,
     "metadata": {},
     "output_type": "execute_result"
    }
   ],
   "source": [
    "results_10_percent_data_aug = model_2.evaluate(test_data)\n",
    "results_10_percent_data_aug"
   ]
  },
  {
   "cell_type": "code",
   "execution_count": 60,
   "id": "8ac1c418-1612-484d-bb7b-ab84dec24b81",
   "metadata": {},
   "outputs": [
    {
     "data": {
      "image/png": "[encoded data removed]",
      "text/plain": [
       "<Figure size 432x288 with 1 Axes>"
      ]
     },
     "metadata": {
      "needs_background": "light"
     },
     "output_type": "display_data"
    },
    {
     "data": {
      "image/png": "[encoded data removed]",
      "text/plain": [
       "<Figure size 432x288 with 1 Axes>"
      ]
     },
     "metadata": {
      "needs_background": "light"
     },
     "output_type": "display_data"
    }
   ],
   "source": [
    "# Plot model loss curves\n",
    "plot_loss_curves(history_10_percent_data_aug)"
   ]
  },
  {
   "cell_type": "markdown",
   "id": "492c6916-7cda-489c-b389-225d1c3990c8",
   "metadata": {},
   "source": [
    "### Loading in checkpointed weights\n",
    "\n",
    "Loading in checkpointed weights returns a model to a specific checkpoint."
   ]
  },
  {
   "cell_type": "code",
   "execution_count": 61,
   "id": "e310343d-456b-46a5-a995-9c8f3dff0f8b",
   "metadata": {},
   "outputs": [
    {
     "data": {
      "text/plain": [
       "<tensorflow.python.training.tracking.util.CheckpointLoadStatus at 0x21058a3c700>"
      ]
     },
     "execution_count": 61,
     "metadata": {},
     "output_type": "execute_result"
    }
   ],
   "source": [
    "# Load in saved model weights and evaluate model\n",
    "model_2.load_weights(checkpoint_path)"
   ]
  },
  {
   "cell_type": "code",
   "execution_count": 63,
   "id": "88cb1cf7-db6b-45a3-aaee-596758e84407",
   "metadata": {},
   "outputs": [
    {
     "name": "stdout",
     "output_type": "stream",
     "text": [
      "79/79 [==============================] - 13s 154ms/step - loss: 0.7095 - accuracy: 0.8120\n"
     ]
    }
   ],
   "source": [
    "# Evaluate model_2 with laoded weights\n",
    "loaded_weights_model_results = model_2.evaluate(test_data)"
   ]
  },
  {
   "cell_type": "code",
   "execution_count": 64,
   "id": "0ec323d8-b0c4-4f58-81c4-0873a8ed10e9",
   "metadata": {},
   "outputs": [
    {
     "data": {
      "text/plain": [
       "False"
      ]
     },
     "execution_count": 64,
     "metadata": {},
     "output_type": "execute_result"
    }
   ],
   "source": [
    "# If the results from our previously evaluated model_2 match the loaded weights\n",
    "results_10_percent_data_aug == loaded_weights_model_results"
   ]
  },
  {
   "cell_type": "code",
   "execution_count": 65,
   "id": "30ab1ad0-f130-4b3d-83ea-0523a10b768d",
   "metadata": {},
   "outputs": [
    {
     "data": {
      "text/plain": [
       "array([ True,  True])"
      ]
     },
     "execution_count": 65,
     "metadata": {},
     "output_type": "execute_result"
    }
   ],
   "source": [
    "# Check to see if loaded model results are very close to our previous non-loaded model results\n",
    "import numpy as np\n",
    "np.isclose(np.array(results_10_percent_data_aug), np.array(loaded_weights_model_results))"
   ]
  },
  {
   "cell_type": "code",
   "execution_count": 67,
   "id": "ef9af710-7b48-4804-b71c-95a7e4a97019",
   "metadata": {},
   "outputs": [
    {
     "name": "stdout",
     "output_type": "stream",
     "text": [
      "[-1.78813934e-07  0.00000000e+00]\n"
     ]
    }
   ],
   "source": [
    "# Check the difference between the two results\n",
    "print(np.array(results_10_percent_data_aug) - np.array(loaded_weights_model_results))"
   ]
  },
  {
   "cell_type": "markdown",
   "id": "fa4a7b04-3c6d-4722-b5e1-ab73d9f4d738",
   "metadata": {},
   "source": [
    "## Model 3: Fine-tunning an existing model with 10% of data\n",
    "\n",
    "> 🔑 **Note:** Fine-tuning usually works best *after* training a feature extraction model for a few epochs with large amounts of custom data."
   ]
  },
  {
   "cell_type": "code",
   "execution_count": 68,
   "id": "b26bc48a-3db5-4502-a186-df3d7e26d2d5",
   "metadata": {},
   "outputs": [
    {
     "data": {
      "text/plain": [
       "[<keras.engine.input_layer.InputLayer at 0x210559270a0>,\n",
       " <keras.engine.sequential.Sequential at 0x21053244130>,\n",
       " <keras.engine.functional.Functional at 0x210569541c0>,\n",
       " <keras.layers.pooling.GlobalAveragePooling2D at 0x21058a3c280>,\n",
       " <keras.layers.core.Dense at 0x21055f2b3d0>]"
      ]
     },
     "execution_count": 68,
     "metadata": {},
     "output_type": "execute_result"
    }
   ],
   "source": [
    "model_2.layers"
   ]
  },
  {
   "cell_type": "code",
   "execution_count": 70,
   "id": "d9cee1fb-962e-4070-b037-6ff018deb713",
   "metadata": {},
   "outputs": [
    {
     "name": "stdout",
     "output_type": "stream",
     "text": [
      "<keras.engine.input_layer.InputLayer object at 0x00000210559270A0> True input_layer\n",
      "<keras.engine.sequential.Sequential object at 0x0000021053244130> True data_augmentation\n",
      "<keras.engine.functional.Functional object at 0x00000210569541C0> False efficientnetb0\n",
      "<keras.layers.pooling.GlobalAveragePooling2D object at 0x0000021058A3C280> True global_avg_pooling\n",
      "<keras.layers.core.Dense object at 0x0000021055F2B3D0> True output_layer\n"
     ]
    }
   ],
   "source": [
    "# are these layers trainable?\n",
    "for layer in model_2.layers:\n",
    "    print(layer, layer.trainable, layer.name)"
   ]
  },
  {
   "cell_type": "code",
   "execution_count": 74,
   "id": "5ad19292-35c1-47a0-b5b1-ba0f1e5c19d6",
   "metadata": {
    "scrolled": true,
    "tags": []
   },
   "outputs": [
    {
     "name": "stdout",
     "output_type": "stream",
     "text": [
      "0 input_5 False\n",
      "1 rescaling_4 False\n",
      "2 normalization_4 False\n",
      "3 stem_conv_pad False\n",
      "4 stem_conv False\n",
      "5 stem_bn False\n",
      "6 stem_activation False\n",
      "7 block1a_dwconv False\n",
      "8 block1a_bn False\n",
      "9 block1a_activation False\n",
      "10 block1a_se_squeeze False\n",
      "11 block1a_se_reshape False\n",
      "12 block1a_se_reduce False\n",
      "13 block1a_se_expand False\n",
      "14 block1a_se_excite False\n",
      "15 block1a_project_conv False\n",
      "16 block1a_project_bn False\n",
      "17 block2a_expand_conv False\n",
      "18 block2a_expand_bn False\n",
      "19 block2a_expand_activation False\n",
      "20 block2a_dwconv_pad False\n",
      "21 block2a_dwconv False\n",
      "22 block2a_bn False\n",
      "23 block2a_activation False\n",
      "24 block2a_se_squeeze False\n",
      "25 block2a_se_reshape False\n",
      "26 block2a_se_reduce False\n",
      "27 block2a_se_expand False\n",
      "28 block2a_se_excite False\n",
      "29 block2a_project_conv False\n",
      "30 block2a_project_bn False\n",
      "31 block2b_expand_conv False\n",
      "32 block2b_expand_bn False\n",
      "33 block2b_expand_activation False\n",
      "34 block2b_dwconv False\n",
      "35 block2b_bn False\n",
      "36 block2b_activation False\n",
      "37 block2b_se_squeeze False\n",
      "38 block2b_se_reshape False\n",
      "39 block2b_se_reduce False\n",
      "40 block2b_se_expand False\n",
      "41 block2b_se_excite False\n",
      "42 block2b_project_conv False\n",
      "43 block2b_project_bn False\n",
      "44 block2b_drop False\n",
      "45 block2b_add False\n",
      "46 block3a_expand_conv False\n",
      "47 block3a_expand_bn False\n",
      "48 block3a_expand_activation False\n",
      "49 block3a_dwconv_pad False\n",
      "50 block3a_dwconv False\n",
      "51 block3a_bn False\n",
      "52 block3a_activation False\n",
      "53 block3a_se_squeeze False\n",
      "54 block3a_se_reshape False\n",
      "55 block3a_se_reduce False\n",
      "56 block3a_se_expand False\n",
      "57 block3a_se_excite False\n",
      "58 block3a_project_conv False\n",
      "59 block3a_project_bn False\n",
      "60 block3b_expand_conv False\n",
      "61 block3b_expand_bn False\n",
      "62 block3b_expand_activation False\n",
      "63 block3b_dwconv False\n",
      "64 block3b_bn False\n",
      "65 block3b_activation False\n",
      "66 block3b_se_squeeze False\n",
      "67 block3b_se_reshape False\n",
      "68 block3b_se_reduce False\n",
      "69 block3b_se_expand False\n",
      "70 block3b_se_excite False\n",
      "71 block3b_project_conv False\n",
      "72 block3b_project_bn False\n",
      "73 block3b_drop False\n",
      "74 block3b_add False\n",
      "75 block4a_expand_conv False\n",
      "76 block4a_expand_bn False\n",
      "77 block4a_expand_activation False\n",
      "78 block4a_dwconv_pad False\n",
      "79 block4a_dwconv False\n",
      "80 block4a_bn False\n",
      "81 block4a_activation False\n",
      "82 block4a_se_squeeze False\n",
      "83 block4a_se_reshape False\n",
      "84 block4a_se_reduce False\n",
      "85 block4a_se_expand False\n",
      "86 block4a_se_excite False\n",
      "87 block4a_project_conv False\n",
      "88 block4a_project_bn False\n",
      "89 block4b_expand_conv False\n",
      "90 block4b_expand_bn False\n",
      "91 block4b_expand_activation False\n",
      "92 block4b_dwconv False\n",
      "93 block4b_bn False\n",
      "94 block4b_activation False\n",
      "95 block4b_se_squeeze False\n",
      "96 block4b_se_reshape False\n",
      "97 block4b_se_reduce False\n",
      "98 block4b_se_expand False\n",
      "99 block4b_se_excite False\n",
      "100 block4b_project_conv False\n",
      "101 block4b_project_bn False\n",
      "102 block4b_drop False\n",
      "103 block4b_add False\n",
      "104 block4c_expand_conv False\n",
      "105 block4c_expand_bn False\n",
      "106 block4c_expand_activation False\n",
      "107 block4c_dwconv False\n",
      "108 block4c_bn False\n",
      "109 block4c_activation False\n",
      "110 block4c_se_squeeze False\n",
      "111 block4c_se_reshape False\n",
      "112 block4c_se_reduce False\n",
      "113 block4c_se_expand False\n",
      "114 block4c_se_excite False\n",
      "115 block4c_project_conv False\n",
      "116 block4c_project_bn False\n",
      "117 block4c_drop False\n",
      "118 block4c_add False\n",
      "119 block5a_expand_conv False\n",
      "120 block5a_expand_bn False\n",
      "121 block5a_expand_activation False\n",
      "122 block5a_dwconv False\n",
      "123 block5a_bn False\n",
      "124 block5a_activation False\n",
      "125 block5a_se_squeeze False\n",
      "126 block5a_se_reshape False\n",
      "127 block5a_se_reduce False\n",
      "128 block5a_se_expand False\n",
      "129 block5a_se_excite False\n",
      "130 block5a_project_conv False\n",
      "131 block5a_project_bn False\n",
      "132 block5b_expand_conv False\n",
      "133 block5b_expand_bn False\n",
      "134 block5b_expand_activation False\n",
      "135 block5b_dwconv False\n",
      "136 block5b_bn False\n",
      "137 block5b_activation False\n",
      "138 block5b_se_squeeze False\n",
      "139 block5b_se_reshape False\n",
      "140 block5b_se_reduce False\n",
      "141 block5b_se_expand False\n",
      "142 block5b_se_excite False\n",
      "143 block5b_project_conv False\n",
      "144 block5b_project_bn False\n",
      "145 block5b_drop False\n",
      "146 block5b_add False\n",
      "147 block5c_expand_conv False\n",
      "148 block5c_expand_bn False\n",
      "149 block5c_expand_activation False\n",
      "150 block5c_dwconv False\n",
      "151 block5c_bn False\n",
      "152 block5c_activation False\n",
      "153 block5c_se_squeeze False\n",
      "154 block5c_se_reshape False\n",
      "155 block5c_se_reduce False\n",
      "156 block5c_se_expand False\n",
      "157 block5c_se_excite False\n",
      "158 block5c_project_conv False\n",
      "159 block5c_project_bn False\n",
      "160 block5c_drop False\n",
      "161 block5c_add False\n",
      "162 block6a_expand_conv False\n",
      "163 block6a_expand_bn False\n",
      "164 block6a_expand_activation False\n",
      "165 block6a_dwconv_pad False\n",
      "166 block6a_dwconv False\n",
      "167 block6a_bn False\n",
      "168 block6a_activation False\n",
      "169 block6a_se_squeeze False\n",
      "170 block6a_se_reshape False\n",
      "171 block6a_se_reduce False\n",
      "172 block6a_se_expand False\n",
      "173 block6a_se_excite False\n",
      "174 block6a_project_conv False\n",
      "175 block6a_project_bn False\n",
      "176 block6b_expand_conv False\n",
      "177 block6b_expand_bn False\n",
      "178 block6b_expand_activation False\n",
      "179 block6b_dwconv False\n",
      "180 block6b_bn False\n",
      "181 block6b_activation False\n",
      "182 block6b_se_squeeze False\n",
      "183 block6b_se_reshape False\n",
      "184 block6b_se_reduce False\n",
      "185 block6b_se_expand False\n",
      "186 block6b_se_excite False\n",
      "187 block6b_project_conv False\n",
      "188 block6b_project_bn False\n",
      "189 block6b_drop False\n",
      "190 block6b_add False\n",
      "191 block6c_expand_conv False\n",
      "192 block6c_expand_bn False\n",
      "193 block6c_expand_activation False\n",
      "194 block6c_dwconv False\n",
      "195 block6c_bn False\n",
      "196 block6c_activation False\n",
      "197 block6c_se_squeeze False\n",
      "198 block6c_se_reshape False\n",
      "199 block6c_se_reduce False\n",
      "200 block6c_se_expand False\n",
      "201 block6c_se_excite False\n",
      "202 block6c_project_conv False\n",
      "203 block6c_project_bn False\n",
      "204 block6c_drop False\n",
      "205 block6c_add False\n",
      "206 block6d_expand_conv False\n",
      "207 block6d_expand_bn False\n",
      "208 block6d_expand_activation False\n",
      "209 block6d_dwconv False\n",
      "210 block6d_bn False\n",
      "211 block6d_activation False\n",
      "212 block6d_se_squeeze False\n",
      "213 block6d_se_reshape False\n",
      "214 block6d_se_reduce False\n",
      "215 block6d_se_expand False\n",
      "216 block6d_se_excite False\n",
      "217 block6d_project_conv False\n",
      "218 block6d_project_bn False\n",
      "219 block6d_drop False\n",
      "220 block6d_add False\n",
      "221 block7a_expand_conv False\n",
      "222 block7a_expand_bn False\n",
      "223 block7a_expand_activation False\n",
      "224 block7a_dwconv False\n",
      "225 block7a_bn False\n",
      "226 block7a_activation False\n",
      "227 block7a_se_squeeze False\n",
      "228 block7a_se_reshape False\n",
      "229 block7a_se_reduce False\n",
      "230 block7a_se_expand False\n",
      "231 block7a_se_excite False\n",
      "232 block7a_project_conv False\n",
      "233 block7a_project_bn False\n",
      "234 top_conv False\n",
      "235 top_bn False\n",
      "236 top_activation False\n"
     ]
    }
   ],
   "source": [
    "#what layers are in our base_model (EfficientNetB0) and are they trainable?\n",
    "for i, layer in enumerate(model_2.layers[2].layers):\n",
    "    print(i, layer.name, layer.trainable)"
   ]
  },
  {
   "cell_type": "code",
   "execution_count": 75,
   "id": "553756d9-8662-4ead-a684-8fd8f8d0f2cb",
   "metadata": {},
   "outputs": [
    {
     "name": "stdout",
     "output_type": "stream",
     "text": [
      "0\n"
     ]
    }
   ],
   "source": [
    "# How many trainable variables are in our base model?\n",
    "print(len(model_2.layers[2].trainable_variables))"
   ]
  },
  {
   "cell_type": "code",
   "execution_count": 81,
   "id": "3feda0f3-8e6c-4d57-ab76-e7d4723c5d6a",
   "metadata": {},
   "outputs": [
    {
     "data": {
      "text/plain": [
       "0.0001"
      ]
     },
     "execution_count": 81,
     "metadata": {},
     "output_type": "execute_result"
    }
   ],
   "source": [
    "1e-4"
   ]
  },
  {
   "cell_type": "code",
   "execution_count": 82,
   "id": "a4ec857a-84e2-4a8b-ba70-6cbaf70017af",
   "metadata": {},
   "outputs": [],
   "source": [
    "# To begin fine-tuning, let's start by setting the last 10 layers of our bsae_model.trianable = True\n",
    "base_model.trainable = True\n",
    "\n",
    "# Freeze all layers except for last 10\n",
    "for layer in base_model.layers[:-10]:\n",
    "    layer.trainable = False\n",
    "\n",
    "# Recompile (we have to recompile our models every time we make a change)\n",
    "model_2.compile(loss = 'categorical_crossentropy',\n",
    "               optimizer = tf.keras.optimizers.Adam(learning_rate=1e-4), # when fine-tuning you typically want to lower the learning rate by 10X\n",
    "               metrics = ['accuracy'])"
   ]
  },
  {
   "cell_type": "markdown",
   "id": "4d6617f1-c2b4-45c2-9dc8-3dc3a0a05764",
   "metadata": {},
   "source": [
    ">  🔑**Note:** When you using fine tunning it's best practice to lower your learning rate by some amount. How much? This is a hyperparameter you can tune. But a good rule of thumb is at least 10X (though different sources will claim other values)\n",
    "A good resource for information on this is the ULMFit paper https://arxiv.org/abs/1801.06146 "
   ]
  },
  {
   "cell_type": "code",
   "execution_count": 83,
   "id": "66bdf833-3acb-49fe-bc53-99fa119863fc",
   "metadata": {
    "scrolled": true,
    "tags": []
   },
   "outputs": [
    {
     "name": "stdout",
     "output_type": "stream",
     "text": [
      "0 input_5 False\n",
      "1 rescaling_4 False\n",
      "2 normalization_4 False\n",
      "3 stem_conv_pad False\n",
      "4 stem_conv False\n",
      "5 stem_bn False\n",
      "6 stem_activation False\n",
      "7 block1a_dwconv False\n",
      "8 block1a_bn False\n",
      "9 block1a_activation False\n",
      "10 block1a_se_squeeze False\n",
      "11 block1a_se_reshape False\n",
      "12 block1a_se_reduce False\n",
      "13 block1a_se_expand False\n",
      "14 block1a_se_excite False\n",
      "15 block1a_project_conv False\n",
      "16 block1a_project_bn False\n",
      "17 block2a_expand_conv False\n",
      "18 block2a_expand_bn False\n",
      "19 block2a_expand_activation False\n",
      "20 block2a_dwconv_pad False\n",
      "21 block2a_dwconv False\n",
      "22 block2a_bn False\n",
      "23 block2a_activation False\n",
      "24 block2a_se_squeeze False\n",
      "25 block2a_se_reshape False\n",
      "26 block2a_se_reduce False\n",
      "27 block2a_se_expand False\n",
      "28 block2a_se_excite False\n",
      "29 block2a_project_conv False\n",
      "30 block2a_project_bn False\n",
      "31 block2b_expand_conv False\n",
      "32 block2b_expand_bn False\n",
      "33 block2b_expand_activation False\n",
      "34 block2b_dwconv False\n",
      "35 block2b_bn False\n",
      "36 block2b_activation False\n",
      "37 block2b_se_squeeze False\n",
      "38 block2b_se_reshape False\n",
      "39 block2b_se_reduce False\n",
      "40 block2b_se_expand False\n",
      "41 block2b_se_excite False\n",
      "42 block2b_project_conv False\n",
      "43 block2b_project_bn False\n",
      "44 block2b_drop False\n",
      "45 block2b_add False\n",
      "46 block3a_expand_conv False\n",
      "47 block3a_expand_bn False\n",
      "48 block3a_expand_activation False\n",
      "49 block3a_dwconv_pad False\n",
      "50 block3a_dwconv False\n",
      "51 block3a_bn False\n",
      "52 block3a_activation False\n",
      "53 block3a_se_squeeze False\n",
      "54 block3a_se_reshape False\n",
      "55 block3a_se_reduce False\n",
      "56 block3a_se_expand False\n",
      "57 block3a_se_excite False\n",
      "58 block3a_project_conv False\n",
      "59 block3a_project_bn False\n",
      "60 block3b_expand_conv False\n",
      "61 block3b_expand_bn False\n",
      "62 block3b_expand_activation False\n",
      "63 block3b_dwconv False\n",
      "64 block3b_bn False\n",
      "65 block3b_activation False\n",
      "66 block3b_se_squeeze False\n",
      "67 block3b_se_reshape False\n",
      "68 block3b_se_reduce False\n",
      "69 block3b_se_expand False\n",
      "70 block3b_se_excite False\n",
      "71 block3b_project_conv False\n",
      "72 block3b_project_bn False\n",
      "73 block3b_drop False\n",
      "74 block3b_add False\n",
      "75 block4a_expand_conv False\n",
      "76 block4a_expand_bn False\n",
      "77 block4a_expand_activation False\n",
      "78 block4a_dwconv_pad False\n",
      "79 block4a_dwconv False\n",
      "80 block4a_bn False\n",
      "81 block4a_activation False\n",
      "82 block4a_se_squeeze False\n",
      "83 block4a_se_reshape False\n",
      "84 block4a_se_reduce False\n",
      "85 block4a_se_expand False\n",
      "86 block4a_se_excite False\n",
      "87 block4a_project_conv False\n",
      "88 block4a_project_bn False\n",
      "89 block4b_expand_conv False\n",
      "90 block4b_expand_bn False\n",
      "91 block4b_expand_activation False\n",
      "92 block4b_dwconv False\n",
      "93 block4b_bn False\n",
      "94 block4b_activation False\n",
      "95 block4b_se_squeeze False\n",
      "96 block4b_se_reshape False\n",
      "97 block4b_se_reduce False\n",
      "98 block4b_se_expand False\n",
      "99 block4b_se_excite False\n",
      "100 block4b_project_conv False\n",
      "101 block4b_project_bn False\n",
      "102 block4b_drop False\n",
      "103 block4b_add False\n",
      "104 block4c_expand_conv False\n",
      "105 block4c_expand_bn False\n",
      "106 block4c_expand_activation False\n",
      "107 block4c_dwconv False\n",
      "108 block4c_bn False\n",
      "109 block4c_activation False\n",
      "110 block4c_se_squeeze False\n",
      "111 block4c_se_reshape False\n",
      "112 block4c_se_reduce False\n",
      "113 block4c_se_expand False\n",
      "114 block4c_se_excite False\n",
      "115 block4c_project_conv False\n",
      "116 block4c_project_bn False\n",
      "117 block4c_drop False\n",
      "118 block4c_add False\n",
      "119 block5a_expand_conv False\n",
      "120 block5a_expand_bn False\n",
      "121 block5a_expand_activation False\n",
      "122 block5a_dwconv False\n",
      "123 block5a_bn False\n",
      "124 block5a_activation False\n",
      "125 block5a_se_squeeze False\n",
      "126 block5a_se_reshape False\n",
      "127 block5a_se_reduce False\n",
      "128 block5a_se_expand False\n",
      "129 block5a_se_excite False\n",
      "130 block5a_project_conv False\n",
      "131 block5a_project_bn False\n",
      "132 block5b_expand_conv False\n",
      "133 block5b_expand_bn False\n",
      "134 block5b_expand_activation False\n",
      "135 block5b_dwconv False\n",
      "136 block5b_bn False\n",
      "137 block5b_activation False\n",
      "138 block5b_se_squeeze False\n",
      "139 block5b_se_reshape False\n",
      "140 block5b_se_reduce False\n",
      "141 block5b_se_expand False\n",
      "142 block5b_se_excite False\n",
      "143 block5b_project_conv False\n",
      "144 block5b_project_bn False\n",
      "145 block5b_drop False\n",
      "146 block5b_add False\n",
      "147 block5c_expand_conv False\n",
      "148 block5c_expand_bn False\n",
      "149 block5c_expand_activation False\n",
      "150 block5c_dwconv False\n",
      "151 block5c_bn False\n",
      "152 block5c_activation False\n",
      "153 block5c_se_squeeze False\n",
      "154 block5c_se_reshape False\n",
      "155 block5c_se_reduce False\n",
      "156 block5c_se_expand False\n",
      "157 block5c_se_excite False\n",
      "158 block5c_project_conv False\n",
      "159 block5c_project_bn False\n",
      "160 block5c_drop False\n",
      "161 block5c_add False\n",
      "162 block6a_expand_conv False\n",
      "163 block6a_expand_bn False\n",
      "164 block6a_expand_activation False\n",
      "165 block6a_dwconv_pad False\n",
      "166 block6a_dwconv False\n",
      "167 block6a_bn False\n",
      "168 block6a_activation False\n",
      "169 block6a_se_squeeze False\n",
      "170 block6a_se_reshape False\n",
      "171 block6a_se_reduce False\n",
      "172 block6a_se_expand False\n",
      "173 block6a_se_excite False\n",
      "174 block6a_project_conv False\n",
      "175 block6a_project_bn False\n",
      "176 block6b_expand_conv False\n",
      "177 block6b_expand_bn False\n",
      "178 block6b_expand_activation False\n",
      "179 block6b_dwconv False\n",
      "180 block6b_bn False\n",
      "181 block6b_activation False\n",
      "182 block6b_se_squeeze False\n",
      "183 block6b_se_reshape False\n",
      "184 block6b_se_reduce False\n",
      "185 block6b_se_expand False\n",
      "186 block6b_se_excite False\n",
      "187 block6b_project_conv False\n",
      "188 block6b_project_bn False\n",
      "189 block6b_drop False\n",
      "190 block6b_add False\n",
      "191 block6c_expand_conv False\n",
      "192 block6c_expand_bn False\n",
      "193 block6c_expand_activation False\n",
      "194 block6c_dwconv False\n",
      "195 block6c_bn False\n",
      "196 block6c_activation False\n",
      "197 block6c_se_squeeze False\n",
      "198 block6c_se_reshape False\n",
      "199 block6c_se_reduce False\n",
      "200 block6c_se_expand False\n",
      "201 block6c_se_excite False\n",
      "202 block6c_project_conv False\n",
      "203 block6c_project_bn False\n",
      "204 block6c_drop False\n",
      "205 block6c_add False\n",
      "206 block6d_expand_conv False\n",
      "207 block6d_expand_bn False\n",
      "208 block6d_expand_activation False\n",
      "209 block6d_dwconv False\n",
      "210 block6d_bn False\n",
      "211 block6d_activation False\n",
      "212 block6d_se_squeeze False\n",
      "213 block6d_se_reshape False\n",
      "214 block6d_se_reduce False\n",
      "215 block6d_se_expand False\n",
      "216 block6d_se_excite False\n",
      "217 block6d_project_conv False\n",
      "218 block6d_project_bn False\n",
      "219 block6d_drop False\n",
      "220 block6d_add False\n",
      "221 block7a_expand_conv False\n",
      "222 block7a_expand_bn False\n",
      "223 block7a_expand_activation False\n",
      "224 block7a_dwconv False\n",
      "225 block7a_bn False\n",
      "226 block7a_activation False\n",
      "227 block7a_se_squeeze True\n",
      "228 block7a_se_reshape True\n",
      "229 block7a_se_reduce True\n",
      "230 block7a_se_expand True\n",
      "231 block7a_se_excite True\n",
      "232 block7a_project_conv True\n",
      "233 block7a_project_bn True\n",
      "234 top_conv True\n",
      "235 top_bn True\n",
      "236 top_activation True\n"
     ]
    }
   ],
   "source": [
    "# Check which layers are tunable(trainable)\n",
    "for layer_number, layer in enumerate(model_2.layers[2].layers):\n",
    "    print(layer_number, layer.name, layer.trainable)"
   ]
  },
  {
   "cell_type": "code",
   "execution_count": 85,
   "id": "0e65b18f-29e2-4ebe-b0e8-aa229aced22c",
   "metadata": {},
   "outputs": [
    {
     "name": "stdout",
     "output_type": "stream",
     "text": [
      "12\n"
     ]
    }
   ],
   "source": [
    "# Now we've unfrozen some of the layers closer to the top, how many trainable variables are there?\n",
    "print(len(model_2.trainable_variables))"
   ]
  },
  {
   "cell_type": "code",
   "execution_count": 86,
   "id": "ff9ad70e-f631-46f8-b76a-b8c90a7506a1",
   "metadata": {},
   "outputs": [
    {
     "name": "stdout",
     "output_type": "stream",
     "text": [
      "Saving TensorBoard log files to: transfer_learning/10_percent_fine_tune_last_10/20210915-220331\n",
      "Epoch 5/10\n"
     ]
    },
    {
     "name": "stderr",
     "output_type": "stream",
     "text": [
      "D:\\Anaconda3\\envs\\TensorflowTut\\lib\\site-packages\\keras\\utils\\generic_utils.py:494: CustomMaskWarning: Custom mask layers require a config and must override get_config. When loading, the custom mask layer must be passed to the custom_objects argument.\n",
      "  warnings.warn('Custom mask layers require a config and must override '\n"
     ]
    },
    {
     "name": "stdout",
     "output_type": "stream",
     "text": [
      "24/24 [==============================] - 21s 600ms/step - loss: 0.8932 - accuracy: 0.7587 - val_loss: 0.6402 - val_accuracy: 0.8141\n",
      "Epoch 6/10\n",
      "24/24 [==============================] - 12s 482ms/step - loss: 0.7493 - accuracy: 0.8000 - val_loss: 0.5824 - val_accuracy: 0.8306\n",
      "Epoch 7/10\n",
      "24/24 [==============================] - 11s 470ms/step - loss: 0.6917 - accuracy: 0.8320 - val_loss: 0.5720 - val_accuracy: 0.8273\n",
      "Epoch 8/10\n",
      "24/24 [==============================] - 12s 523ms/step - loss: 0.6269 - accuracy: 0.8400 - val_loss: 0.5681 - val_accuracy: 0.8306\n",
      "Epoch 9/10\n",
      "24/24 [==============================] - 12s 490ms/step - loss: 0.5858 - accuracy: 0.8387 - val_loss: 0.5196 - val_accuracy: 0.8388\n",
      "Epoch 10/10\n",
      "24/24 [==============================] - 11s 468ms/step - loss: 0.5616 - accuracy: 0.8520 - val_loss: 0.5226 - val_accuracy: 0.8306\n"
     ]
    }
   ],
   "source": [
    "# Fine tune for another 5 epochs\n",
    "fine_tune_epochs = initial_epochs + 5 \n",
    "\n",
    "# Refit the model (same as model_2 except with more trainable layers)\n",
    "history_fine_10_percent_data_aug = model_2.fit(train_data_10_percent,\n",
    "                                              epochs = fine_tune_epochs, \n",
    "                                              validation_data = test_data,\n",
    "                                              validation_steps = int(0.25 * len(test_data)),\n",
    "                                              initial_epoch=history_10_percent_data_aug.epoch[-1],\n",
    "                                              callbacks=[create_tensorboard_callback(dir_name='transfer_learning',\n",
    "                                                                                    experiment_name='10_percent_fine_tune_last_10')]) #start training from previous last epoch"
   ]
  },
  {
   "cell_type": "code",
   "execution_count": 87,
   "id": "f448bb1f-c2d2-4545-a86f-140aa2e8b564",
   "metadata": {},
   "outputs": [
    {
     "name": "stdout",
     "output_type": "stream",
     "text": [
      "79/79 [==============================] - 13s 159ms/step - loss: 0.5082 - accuracy: 0.8400\n"
     ]
    }
   ],
   "source": [
    "# Evaluate the fine-tuned model (model_3 which is actually model_2 fine-tuned for another 5 epochs)\n",
    "results_fine_tune_10_percent = model_2.evaluate(test_data)"
   ]
  },
  {
   "cell_type": "code",
   "execution_count": 88,
   "id": "98ca2045-d165-4139-be8c-da321e88b3c7",
   "metadata": {},
   "outputs": [
    {
     "data": {
      "text/plain": [
       "[0.7095127105712891, 0.8119999766349792]"
      ]
     },
     "execution_count": 88,
     "metadata": {},
     "output_type": "execute_result"
    }
   ],
   "source": [
    "results_10_percent_data_aug"
   ]
  },
  {
   "cell_type": "code",
   "execution_count": 89,
   "id": "041dcc9b-d99f-4b26-86a6-b7aed9439654",
   "metadata": {},
   "outputs": [
    {
     "data": {
      "image/png": "[encoded data removed]",
      "text/plain": [
       "<Figure size 432x288 with 1 Axes>"
      ]
     },
     "metadata": {
      "needs_background": "light"
     },
     "output_type": "display_data"
    },
    {
     "data": {
      "image/png": "[encoded data removed]",
      "text/plain": [
       "<Figure size 432x288 with 1 Axes>"
      ]
     },
     "metadata": {
      "needs_background": "light"
     },
     "output_type": "display_data"
    }
   ],
   "source": [
    "# Check out the loss curves of our fine-tuned model\n",
    "plot_loss_curves(history_fine_10_percent_data_aug)"
   ]
  },
  {
   "cell_type": "markdown",
   "id": "926987cf-a452-484e-9f4b-2ac08ddf82e9",
   "metadata": {},
   "source": [
    "The `plot_loss_curves` functions works great with models which have only been fit once, however, we want something to compare one series of running `fit()` with another (e.g. before and after fine-tuning)"
   ]
  },
  {
   "cell_type": "code",
   "execution_count": 101,
   "id": "ba071ba9-064b-4593-a4c3-8e2cf58359ac",
   "metadata": {},
   "outputs": [],
   "source": [
    "# let's create a function to compare training histories\n",
    "def compare_histories(original_history, new_history, initial_epochs = 5):\n",
    "    '''\n",
    "    Compares two tensorflow history objects.\n",
    "    '''\n",
    "    # Get original history measurements\n",
    "    acc = original_history.history['accuracy']\n",
    "    loss = original_history.history['loss']\n",
    "    \n",
    "    val_acc = original_history.history['val_accuracy']\n",
    "    val_loss = original_history.history['val_loss']\n",
    "    \n",
    "    # Combine original history metrics with new_history metrics\n",
    "    total_acc = acc + new_history.history['accuracy']\n",
    "    total_loss = loss + new_history.history['loss']\n",
    "    \n",
    "    total_val_acc = val_acc + new_history.history['val_accuracy']\n",
    "    total_val_loss = val_loss + new_history.history['val_loss']\n",
    "    \n",
    "    #Make plot for accuracy\n",
    "    plt.figure(figsize = (8, 8))\n",
    "    plt.subplot(2, 1, 1)\n",
    "    plt.plot(total_acc, label = 'Training Accuracy')\n",
    "    plt.plot(total_val_acc, label = 'Val Accuracy')\n",
    "    plt.plot([initial_epochs-1, initial_epochs-1], plt.ylim(), label = 'Start fine tuning')\n",
    "    plt.legend(loc = 'lower right')\n",
    "    plt.title('Training and Validation accuracy')\n",
    "    \n",
    "    #Make plot for loss\n",
    "    plt.figure(figsize = (8, 8))\n",
    "    plt.subplot(2, 1, 2)\n",
    "    plt.plot(total_loss, label = 'Training Loss')\n",
    "    plt.plot(total_val_loss, label = 'Val Loss')\n",
    "    plt.plot([initial_epochs-1, initial_epochs-1], plt.ylim(), label = 'Start fine tuning')\n",
    "    plt.legend(loc = 'upper right')\n",
    "    plt.title('Training and Validation Loss')\n",
    "    \n",
    "    "
   ]
  },
  {
   "cell_type": "code",
   "execution_count": 102,
   "id": "fe477081-011e-480a-8ac6-f1b81052d110",
   "metadata": {},
   "outputs": [
    {
     "data": {
      "image/png": "[encoded data removed]",
      "text/plain": [
       "<Figure size 576x576 with 1 Axes>"
      ]
     },
     "metadata": {
      "needs_background": "light"
     },
     "output_type": "display_data"
    },
    {
     "data": {
      "image/png": "[encoded data removed]",
      "text/plain": [
       "<Figure size 576x576 with 1 Axes>"
      ]
     },
     "metadata": {
      "needs_background": "light"
     },
     "output_type": "display_data"
    }
   ],
   "source": [
    "compare_histories(history_10_percent_data_aug, \n",
    "                  history_fine_10_percent_data_aug,\n",
    "                  initial_epochs = initial_epochs)"
   ]
  },
  {
   "cell_type": "code",
   "execution_count": null,
   "id": "133ed81b-75bf-4d96-a6cc-3140989a5895",
   "metadata": {},
   "outputs": [],
   "source": []
  }
 ],
 "metadata": {
  "kernelspec": {
   "display_name": "Python 3",
   "language": "python",
   "name": "python3"
  },
  "language_info": {
   "codemirror_mode": {
    "name": "ipython",
    "version": 3
   },
   "file_extension": ".py",
   "mimetype": "text/x-python",
   "name": "python",
   "nbconvert_exporter": "python",
   "pygments_lexer": "ipython3",
   "version": "3.8.11"
  }
 },
 "nbformat": 4,
 "nbformat_minor": 5
}
